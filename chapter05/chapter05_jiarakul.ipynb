{
 "cells": [
  {
   "cell_type": "markdown",
   "metadata": {},
   "source": [
    "# 第5章: 係り受け解析"
   ]
  },
  {
   "cell_type": "markdown",
   "metadata": {},
   "source": [
    "日本語Wikipediaの「人工知能」に関する記事からテキスト部分を抜き出したファイルがai.ja.zipに収録されている． この文章をCaboChaやKNP等のツールを利用して係り受け解析を行い，その結果をai.ja.txt.parsedというファイルに保存せよ．このファイルを読み込み，以下の問に対応するプログラムを実装せよ。"
   ]
  },
  {
   "cell_type": "code",
   "execution_count": null,
   "metadata": {},
   "outputs": [
    {
     "name": "stdout",
     "output_type": "stream",
     "text": [
      "--2021-04-30 03:12:36--  https://nlp100.github.io/data/ai.ja.zip\n",
      "Resolving nlp100.github.io (nlp100.github.io)... 185.199.111.153, 185.199.110.153, 185.199.109.153, ...\n",
      "Connecting to nlp100.github.io (nlp100.github.io)|185.199.111.153|:443... connected.\n",
      "HTTP request sent, awaiting response... 200 OK\n",
      "Length: 17516 (17K) [application/zip]\n",
      "Saving to: ‘ai.ja.zip.1’\n",
      "\n",
      "ai.ja.zip.1         100%[===================>]  17.11K  --.-KB/s    in 0.001s  \n",
      "\n",
      "2021-04-30 03:12:36 (32.8 MB/s) - ‘ai.ja.zip.1’ saved [17516/17516]\n",
      "\n",
      "Archive:  ai.ja.zip\n",
      "replace ai.ja.txt? [y]es, [n]o, [A]ll, [N]one, [r]ename: "
     ]
    }
   ],
   "source": [
    "!wget https://nlp100.github.io/data/ai.ja.zip\n",
    "!unzip ai.ja.zip"
   ]
  },
  {
   "cell_type": "code",
   "execution_count": null,
   "metadata": {},
   "outputs": [],
   "source": [
    "!cabocha -f1 ai.ja.txt > ai.ja.txt.parsed"
   ]
  },
  {
   "cell_type": "code",
   "execution_count": 283,
   "metadata": {},
   "outputs": [
    {
     "name": "stdout",
     "output_type": "stream",
     "text": [
      "* 0 -1D 1/1 0.000000\r\n",
      "人工\t名詞,一般,*,*,*,*,人工,ジンコウ,ジンコー\r\n",
      "知能\t名詞,一般,*,*,*,*,知能,チノウ,チノー\r\n",
      "EOS\r\n",
      "EOS\r\n",
      "* 0 17D 1/1 0.388993\r\n",
      "人工\t名詞,一般,*,*,*,*,人工,ジンコウ,ジンコー\r\n",
      "知能\t名詞,一般,*,*,*,*,知能,チノウ,チノー\r\n",
      "* 1 17D 2/3 0.613549\r\n",
      "（\t記号,括弧開,*,*,*,*,（,（,（\r\n",
      "じん\t名詞,一般,*,*,*,*,じん,ジン,ジン\r\n",
      "こうち\t名詞,一般,*,*,*,*,こうち,コウチ,コーチ\r\n",
      "のう\t助詞,終助詞,*,*,*,*,のう,ノウ,ノー\r\n",
      "、\t記号,読点,*,*,*,*,、,、,、\r\n",
      "、\t記号,読点,*,*,*,*,、,、,、\r\n",
      "* 2 3D 0/0 0.758984\r\n",
      "AI\t名詞,一般,*,*,*,*,*\r\n",
      "* 3 17D 1/5 0.517898\r\n",
      "〈\t記号,括弧開,*,*,*,*,〈,〈,〈\r\n",
      "エーアイ\t名詞,固有名詞,一般,*,*,*,*\r\n",
      "〉\t記号,括弧閉,*,*,*,*,〉,〉,〉\r\n",
      "）\t記号,括弧閉,*,*,*,*,）,）,）\r\n",
      "と\t助詞,格助詞,引用,*,*,*,と,ト,ト\r\n",
      "は\t助詞,係助詞,*,*,*,*,は,ハ,ワ\r\n",
      "、\t記号,読点,*,*,*,*,、,、,、\r\n",
      "* 4 5D 2/2 1.035972\r\n",
      "「\t記号,括弧開,*,*,*,*,「,「,「\r\n",
      "『\t記号,括弧開,*,*,*,*,『,『,『\r\n",
      "計算\t名詞,サ変接続,*,*,*,*,計算,ケイサン,ケイサン\r\n",
      "* 5 9D 0/3 1.243687\r\n",
      "（\t記号,括弧開,*,*,*,*,（,（,（\r\n",
      "）\t記号,括弧閉,*,*,*,*,）,）,）\r\n",
      "』\t記号,括弧閉,*,*,*,*,』,』,』\r\n",
      "という\t助詞,格助詞,連語,*,*,*,という,トイウ,トユウ\r\n",
      "* 6 9D 0/1 0.691934\r\n",
      "概念\t名詞,一般,*,*,*,*,概念,ガイネン,ガイネン\r\n",
      "と\t助詞,並立助詞,*,*,*,*,と,ト,ト\r\n",
      "* 7 8D 1/1 1.048596\r\n",
      "『\t記号,括弧開,*,*,*,*,『,『,『\r\n",
      "コンピュータ\t名詞,一般,*,*,*,*,コンピュータ,コンピュータ,コンピュータ\r\n",
      "* 8 9D 0/3 1.540775\r\n",
      "（\t記号,括弧開,*,*,*,*,（,（,（\r\n",
      "）\t記号,括弧閉,*,*,*,*,）,）,）\r\n",
      "』\t記号,括弧閉,*,*,*,*,』,』,』\r\n",
      "という\t助詞,格助詞,連語,*,*,*,という,トイウ,トユウ\r\n",
      "* 9 10D 0/1 2.129047\r\n",
      "道具\t名詞,一般,*,*,*,*,道具,ドウグ,ドーグ\r\n",
      "を\t助詞,格助詞,一般,*,*,*,を,ヲ,ヲ\r\n",
      "* 10 12D 0/1 1.363632\r\n",
      "用い\t動詞,自立,*,*,一段,連用形,用いる,モチイ,モチイ\r\n"
     ]
    }
   ],
   "source": [
    "!head -n 50 ai.ja.txt.parsed"
   ]
  },
  {
   "cell_type": "markdown",
   "metadata": {},
   "source": [
    "## 40. 係り受け解析結果の読み込み（形態素）"
   ]
  },
  {
   "cell_type": "markdown",
   "metadata": {},
   "source": [
    "形態素を表すクラスMorphを実装せよ．このクラスは表層形（surface），基本形（base），品詞（pos），品詞細分類1（pos1）をメンバ変数に持つこととする．さらに，係り受け解析の結果（ai.ja.txt.parsed）を読み込み，各文をMorphオブジェクトのリストとして表現し，冒頭の説明文の形態素列を表示せよ．"
   ]
  },
  {
   "cell_type": "code",
   "execution_count": 22,
   "metadata": {},
   "outputs": [],
   "source": [
    "class Morph:\n",
    "  def __init__(self, surface, base, pos, pos1):\n",
    "    self.surface = surface\n",
    "    self.base = base\n",
    "    self.pos = pos\n",
    "    self.pos1 = pos1\n",
    "  def printMorph(self):\n",
    "    print(\"surface: \" + self.surface + \" base: \" + self.base + \" pos: \"+self.pos+\" po1: \"+self.pos1)"
   ]
  },
  {
   "cell_type": "code",
   "execution_count": 23,
   "metadata": {},
   "outputs": [
    {
     "name": "stdout",
     "output_type": "stream",
     "text": [
      "surface: 人工 base: 人工 pos: 名詞 po1: 一般\n",
      "surface: 知能 base: 知能 pos: 名詞 po1: 一般\n",
      "surface: （ base: （ pos: 記号 po1: 括弧開\n",
      "surface: じん base: じん pos: 名詞 po1: 一般\n",
      "surface: こうち base: こうち pos: 名詞 po1: 一般\n",
      "surface: のう base: のう pos: 助詞 po1: 終助詞\n",
      "surface: 、 base: 、 pos: 記号 po1: 読点\n",
      "surface: 、 base: 、 pos: 記号 po1: 読点\n",
      "surface: AI base: * pos: 名詞 po1: 一般\n",
      "surface: 〈 base: 〈 pos: 記号 po1: 括弧開\n",
      "surface: エーアイ base: * pos: 名詞 po1: 固有名詞\n",
      "surface: 〉 base: 〉 pos: 記号 po1: 括弧閉\n",
      "surface: ） base: ） pos: 記号 po1: 括弧閉\n",
      "surface: と base: と pos: 助詞 po1: 格助詞\n",
      "surface: は base: は pos: 助詞 po1: 係助詞\n",
      "surface: 、 base: 、 pos: 記号 po1: 読点\n",
      "surface: 「 base: 「 pos: 記号 po1: 括弧開\n"
     ]
    }
   ],
   "source": [
    "with open(\"ai.ja.txt.parsed\",'r') as ai:\n",
    "  text = ai.read()\n",
    "# split text into paragraphs with EOS\n",
    "paragraphs = text.split('EOS')\n",
    "paragraphs.remove('\\n')\n",
    "morphs_file = []\n",
    "indices_file = []\n",
    "for paragraph in paragraphs:\n",
    "  # split paragraphs into sentences with 。\n",
    "  sentences = paragraph.split('。')\n",
    "  for sentence in sentences:\n",
    "    morphs_sentence = []\n",
    "    indices_sentence = []\n",
    "    # split sentences into words with \\n\n",
    "    words = sentence.split('\\n')\n",
    "    if len(words) > 1:\n",
    "      for word in words:\n",
    "        if len(word) >= 1 and word[0] != '*':\n",
    "          word0, word1 = word.split()[0], word.split()[1]\n",
    "          word1_splitted = word1.split(',')\n",
    "          morphs_sentence.append(Morph(word0, word1_splitted[6], word1_splitted[0], word1_splitted[1]))\n",
    "        else:\n",
    "          indices_sentence.append(word)\n",
    "      if len(morphs_sentence) > 0:\n",
    "        morphs_file.append(morphs_sentence)\n",
    "        indices_sentence.remove('')\n",
    "        indices_file.append(indices_sentence)\n",
    "\n",
    "# Print first sentence\n",
    "for morph in morphs_file[1][:17]:\n",
    "  morph.printMorph()\n",
    "#   print(\"surface: \" + morph.surface + \" base: \" + morph.base + \" pos: \"+morph.pos+\" po1: \"+morph.pos1)"
   ]
  },
  {
   "cell_type": "markdown",
   "metadata": {},
   "source": [
    "## 41. 係り受け解析結果の読み込み（文節・係り受け）"
   ]
  },
  {
   "cell_type": "markdown",
   "metadata": {},
   "source": [
    "40に加えて，文節を表すクラスChunkを実装せよ．このクラスは形態素（Morphオブジェクト）のリスト（morphs），係り先文節インデックス番号（dst），係り元文節インデックス番号のリスト（srcs）をメンバ変数に持つこととする．さらに，入力テキストの係り受け解析結果を読み込み，１文をChunkオブジェクトのリストとして表現し，冒頭の説明文の文節の文字列と係り先を表示せよ．本章の残りの問題では，ここで作ったプログラムを活用せよ．"
   ]
  },
  {
   "cell_type": "code",
   "execution_count": 24,
   "metadata": {},
   "outputs": [],
   "source": [
    "class Chunk:\n",
    "  def __init__(self, morphs, dst, srcs):\n",
    "    self.morphs = morphs\n",
    "    self.dst = dst\n",
    "    self.srcs = srcs\n",
    "  \n",
    "  def getPhrase(self):\n",
    "    phrase = ''\n",
    "    for morph in self.morphs:\n",
    "      phrase += morph.surface\n",
    "    return phrase\n",
    "  \n",
    "  def printChunk(self):\n",
    "    phrase = self.getPhrase()\n",
    "    print(\"dst: \", self.dst, \"srcs: \", self.srcs, \" Phrase: \", phrase)"
   ]
  },
  {
   "cell_type": "code",
   "execution_count": 25,
   "metadata": {},
   "outputs": [],
   "source": [
    "with open(\"ai.ja.txt.parsed\",'r') as ai:\n",
    "  text = ai.read()\n",
    "# split text into paragraphs with EOS\n",
    "paragraphs = text.split('EOS')\n",
    "paragraphs.remove('\\n')\n",
    "f = []\n",
    "morphs_file1 = []\n",
    "indices_file = []\n",
    "morphs_phrase = []\n",
    "morphs_sentence = []\n",
    "for paragraph in paragraphs:\n",
    "  # split paragraphs into sentences with 。\n",
    "  sentences = paragraph.split('。')\n",
    "  for sentence in sentences:\n",
    "    i = 0\n",
    "    morphs_sentence = []\n",
    "    indices_sentence = []\n",
    "    # split sentences into words with \\n\n",
    "    words = sentence.split('\\n')\n",
    "    if len(words) > 1:\n",
    "      for word in words:\n",
    "        # use string with * to divide between phrases in sentence\n",
    "        if word == '' or word[0] == '*':\n",
    "            if morphs_phrase != []:\n",
    "              morphs_sentence.append(morphs_phrase)\n",
    "            morphs_phrase = []\n",
    "            if word != '':\n",
    "              indices_sentence.append(word)\n",
    "        elif len(word) >= 1:\n",
    "            word0, word1 = word.split()[0], word.split()[1]\n",
    "            word1_splitted = word1.split(',')\n",
    "            morphs_phrase.append(Morph(word0, word1_splitted[6], word1_splitted[0], word1_splitted[1]))\n",
    "    if len(morphs_sentence) > 0:\n",
    "      morphs_file1.append(morphs_sentence)\n",
    "      indices_file.append(indices_sentence)\n",
    "\n",
    "# for morph in morphs_file[1][0]:\n",
    "#   print(\"surface: \" + morph.surface + \" base: \" + morph.base + \" pos: \"+morph.pos+\" po1: \"+morph.pos1)"
   ]
  },
  {
   "cell_type": "code",
   "execution_count": 26,
   "metadata": {},
   "outputs": [],
   "source": [
    "index_sentence = indices_file[1] + indices_file[2]\n",
    "dst = []\n",
    "srcs = {}\n",
    "morphs_id = {}\n",
    "[srcs.setdefault(x, []) for x in range(-1,100)]\n",
    "for index_word in index_sentence:\n",
    "  id_split = index_word.split()\n",
    "  dest = int(id_split[2].replace('D',''))\n",
    "  source = int(id_split[1])\n",
    "  dst.append(dest)\n",
    "  srcs[dest].append(source)\n",
    "\n",
    "# print(\"dst: \", dst)\n",
    "# print(\"srcs: \", srcs)"
   ]
  },
  {
   "cell_type": "code",
   "execution_count": 27,
   "metadata": {},
   "outputs": [
    {
     "name": "stdout",
     "output_type": "stream",
     "text": [
      "dst:  17 srcs:  []  Phrase:  人工知能\n",
      "dst:  17 srcs:  []  Phrase:  （じんこうちのう、、\n",
      "dst:  3 srcs:  []  Phrase:  AI\n",
      "dst:  17 srcs:  [2]  Phrase:  〈エーアイ〉）とは、\n",
      "dst:  5 srcs:  []  Phrase:  「『計算\n",
      "dst:  9 srcs:  [4]  Phrase:  （）』という\n",
      "dst:  9 srcs:  []  Phrase:  概念と\n",
      "dst:  8 srcs:  []  Phrase:  『コンピュータ\n",
      "dst:  9 srcs:  [7]  Phrase:  （）』という\n",
      "dst:  10 srcs:  [5, 6, 8]  Phrase:  道具を\n",
      "dst:  12 srcs:  [9]  Phrase:  用いて\n",
      "dst:  12 srcs:  []  Phrase:  『知能』を\n",
      "dst:  13 srcs:  [10, 11]  Phrase:  研究する\n",
      "dst:  14 srcs:  [12]  Phrase:  計算機科学\n",
      "dst:  15 srcs:  [13]  Phrase:  （）の\n",
      "dst:  16 srcs:  [14]  Phrase:  一分野」を\n",
      "dst:  17 srcs:  [15]  Phrase:  指す\n",
      "dst:  34 srcs:  [0, 1, 3, 16]  Phrase:  語\n",
      "dst:  20 srcs:  []  Phrase:  「言語の\n",
      "dst:  20 srcs:  []  Phrase:  理解や\n",
      "dst:  21 srcs:  [18, 19]  Phrase:  推論、\n",
      "dst:  22 srcs:  [20]  Phrase:  問題解決などの\n",
      "dst:  24 srcs:  [21]  Phrase:  知的行動を\n",
      "dst:  24 srcs:  []  Phrase:  人間に\n",
      "dst:  26 srcs:  [22, 23]  Phrase:  代わって\n",
      "dst:  26 srcs:  []  Phrase:  コンピューターに\n",
      "dst:  27 srcs:  [24, 25]  Phrase:  行わせる\n",
      "dst:  34 srcs:  [26]  Phrase:  技術」、または、\n",
      "dst:  29 srcs:  []  Phrase:  「計算機\n",
      "dst:  31 srcs:  [28]  Phrase:  （コンピュータ）による\n",
      "dst:  31 srcs:  []  Phrase:  知的な\n",
      "dst:  33 srcs:  [29, 30]  Phrase:  情報処理システムの\n",
      "dst:  33 srcs:  []  Phrase:  設計や\n",
      "dst:  34 srcs:  [31, 32]  Phrase:  実現に関する\n",
      "dst:  35 srcs:  [17, 27, 33]  Phrase:  研究分野」とも\n",
      "dst:  -1 srcs:  [34]  Phrase:  される\n"
     ]
    }
   ],
   "source": [
    "i = 0\n",
    "chunks_sentence12= []\n",
    "for phrase in morphs_file1[1] + morphs_file1[2]:\n",
    "  chunks_sentence12.append(Chunk(phrase, dst[i], srcs[i]))\n",
    "  Chunk(phrase, dst[i], srcs[i]).printChunk()\n",
    "  i += 1"
   ]
  },
  {
   "cell_type": "markdown",
   "metadata": {},
   "source": [
    "## 42. 係り元と係り先の文節の表示"
   ]
  },
  {
   "cell_type": "markdown",
   "metadata": {},
   "source": [
    "係り元の文節と係り先の文節のテキストをタブ区切り形式ですべて抽出せよ．ただし，句読点などの記号は出力しないようにせよ．"
   ]
  },
  {
   "cell_type": "code",
   "execution_count": 28,
   "metadata": {},
   "outputs": [],
   "source": [
    "with open(\"ai.ja.txt.parsed\",'r') as ai:\n",
    "  text = ai.read()\n",
    "# split text into paragraphs with EOS\n",
    "paragraphs = text.split('EOS')\n",
    "paragraphs.remove('\\n')\n",
    "morphs_file = []\n",
    "indices_file = []\n",
    "morphs_phrase = []\n",
    "morphs_sentence = []\n",
    "for paragraph in paragraphs:\n",
    "  # split paragraphs into sentences with 。\n",
    "  sentences = paragraph.split('。')\n",
    "  for sentence in sentences:\n",
    "    i = 0\n",
    "    morphs_sentence = []\n",
    "    indices_sentence = []\n",
    "    # split sentences into words with \\n\n",
    "    words = sentence.split('\\n')\n",
    "    if len(words) > 1:\n",
    "      for word in words:\n",
    "        # use string with * to divide between phrases in sentence\n",
    "        if word == '' or word[0] == '*':\n",
    "            if morphs_phrase != []:\n",
    "              morphs_sentence.append(morphs_phrase)\n",
    "            morphs_phrase = []\n",
    "            if word != '':\n",
    "              indices_sentence.append(word)\n",
    "        elif len(word) >= 1:\n",
    "            word0, word1 = word.split()[0], word.split()[1]\n",
    "            word1_splitted = word1.split(',')\n",
    "            if word1_splitted[0] != '記号':\n",
    "              morphs_phrase.append(Morph(word0, word1_splitted[6], word1_splitted[0], word1_splitted[1]))\n",
    "    if len(morphs_sentence) > 0:\n",
    "      morphs_file.append(morphs_sentence)\n",
    "      indices_file.append(indices_sentence)\n",
    "\n",
    "index_sentence = indices_file[1] + indices_file[2]\n",
    "# print(index_sentence)\n",
    "dst = []\n",
    "srcs = {}\n",
    "morphs_id = {}\n",
    "[srcs.setdefault(x, []) for x in range(-1,100)]\n",
    "for index_word in index_sentence:\n",
    "  id_split = index_word.split()\n",
    "  dest = int(id_split[2].replace('D',''))\n",
    "  source = int(id_split[1])\n",
    "  dst.append(dest)\n",
    "  srcs[dest].append(source)\n",
    "  \n",
    "i = 0\n",
    "chunks_sentence12 = []\n",
    "for phrase in morphs_file[1]+morphs_file[2]:\n",
    "  chunks_sentence12.append(Chunk(phrase, dst[i], srcs[i]))\n",
    "#   Chunk(phrase, dst[i], srcs[i]).printChunk()\n",
    "  i += 1"
   ]
  },
  {
   "cell_type": "code",
   "execution_count": 29,
   "metadata": {},
   "outputs": [
    {
     "name": "stdout",
     "output_type": "stream",
     "text": [
      "人工知能\t語\n",
      "じんこうちのう\t語\n",
      "AI\tエーアイとは\n",
      "エーアイとは\t語\n",
      "計算\tという\n",
      "という\t道具を\n",
      "概念と\t道具を\n",
      "コンピュータ\tという\n",
      "という\t道具を\n",
      "道具を\t用いて\n",
      "用いて\t研究する\n",
      "知能を\t研究する\n",
      "研究する\t計算機科学\n",
      "計算機科学\tの\n",
      "の\t一分野を\n",
      "一分野を\t指す\n",
      "指す\t語\n",
      "語\t研究分野とも\n",
      "言語の\t推論\n",
      "理解や\t推論\n",
      "推論\t問題解決などの\n",
      "問題解決などの\t知的行動を\n",
      "知的行動を\t代わって\n",
      "人間に\t代わって\n",
      "代わって\t行わせる\n",
      "コンピューターに\t行わせる\n",
      "行わせる\t技術または\n",
      "技術または\t研究分野とも\n",
      "計算機\tコンピュータによる\n",
      "コンピュータによる\t情報処理システムの\n",
      "知的な\t情報処理システムの\n",
      "情報処理システムの\t実現に関する\n",
      "設計や\t実現に関する\n",
      "実現に関する\t研究分野とも\n",
      "研究分野とも\tされる\n",
      "される\tされる\n"
     ]
    }
   ],
   "source": [
    "for chunk in chunks_sentence12:\n",
    "  print(\"{0}\\t{1}\".format(chunk.getPhrase(), chunks_sentence12[chunk.dst].getPhrase()))"
   ]
  },
  {
   "cell_type": "markdown",
   "metadata": {},
   "source": [
    "## 43. 名詞を含む文節が動詞を含む文節に係るものを抽出"
   ]
  },
  {
   "cell_type": "markdown",
   "metadata": {},
   "source": [
    "名詞を含む文節が，動詞を含む文節に係るとき，これらをタブ区切り形式で抽出せよ．ただし，句読点などの記号は出力しないようにせよ"
   ]
  },
  {
   "cell_type": "code",
   "execution_count": 30,
   "metadata": {},
   "outputs": [
    {
     "name": "stdout",
     "output_type": "stream",
     "text": [
      "道具を\t用いて\n",
      "知能を\t研究する\n",
      "一分野を\t指す\n",
      "知的行動を\t代わって\n",
      "人間に\t代わって\n",
      "コンピューターに\t行わせる\n",
      "研究分野とも\tされる\n"
     ]
    }
   ],
   "source": [
    "for chunk in chunks_sentence12:\n",
    "  dest_chunk = chunks_sentence12[chunk.dst]\n",
    "  for morph in chunk.morphs:\n",
    "    if morph.pos == '名詞':\n",
    "      for dest_morph in dest_chunk.morphs:\n",
    "        if dest_morph.pos == '動詞':\n",
    "          print(\"{0}\\t{1}\".format(chunk.getPhrase(), chunks_sentence12[chunk.dst].getPhrase()))\n",
    "          break\n",
    "        else:\n",
    "          continue\n",
    "      break"
   ]
  },
  {
   "cell_type": "markdown",
   "metadata": {},
   "source": [
    "## 44. 係り受け木の可視化"
   ]
  },
  {
   "cell_type": "markdown",
   "metadata": {},
   "source": [
    "与えられた文の係り受け木を有向グラフとして可視化せよ．可視化には，Graphviz等を用いるとよい．"
   ]
  },
  {
   "cell_type": "code",
   "execution_count": 227,
   "metadata": {},
   "outputs": [
    {
     "data": {
      "text/plain": [
       "'nodetree.png'"
      ]
     },
     "execution_count": 227,
     "metadata": {},
     "output_type": "execute_result"
    }
   ],
   "source": [
    "from graphviz import Digraph\n",
    "dot = Digraph(format='png')\n",
    "for i, chunk in enumerate(chunks_sentence12):\n",
    "  dot.node(str(i), chunk.getPhrase())\n",
    "\n",
    "for i, chunk in enumerate(chunks_sentence12):\n",
    "  for l in chunk.srcs:\n",
    "    dot.edge(str(i),str(l),constraint='false')\n",
    "# with open('nodetree.dot','w') as nodetree:\n",
    "#   nodetree.write(dot.source)\n",
    "# print(dot.source)\n",
    "dot.render(\"nodetree\")"
   ]
  },
  {
   "cell_type": "code",
   "execution_count": 32,
   "metadata": {},
   "outputs": [
    {
     "data": {
      "image/png": "[encoded data removed]"
     },
     "metadata": {},
     "output_type": "display_data"
    }
   ],
   "source": [
    "from IPython.display import Image,display_png\n",
    "display_png(Image('nodetree.png'))"
   ]
  },
  {
   "cell_type": "markdown",
   "metadata": {},
   "source": [
    "## 45. 動詞の格パターンの抽出"
   ]
  },
  {
   "cell_type": "markdown",
   "metadata": {},
   "source": [
    "今回用いている文章をコーパスと見なし，日本語の述語が取りうる格を調査したい． 動詞を述語，動詞に係っている文節の助詞を格と考え，述語と格をタブ区切り形式で出力せよ． ただし，出力は以下の仕様を満たすようにせよ．\n",
    "\n",
    "動詞を含む文節において，最左の動詞の基本形を述語とする\n",
    "述語に係る助詞を格とする\n",
    "述語に係る助詞（文節）が複数あるときは，すべての助詞をスペース区切りで辞書順に並べる\n",
    "「ジョン・マッカーシーはAIに関する最初の会議で人工知能という用語を作り出した。」という例文を考える． この文は「作り出す」という１つの動詞を含み，「作り出す」に係る文節は「ジョン・マッカーシーは」，「会議で」，「用語を」であると解析された場合は，次のような出力になるはずである．\n",
    "\n",
    "作り出す\tで は を\n",
    "このプログラムの出力をファイルに保存し，以下の事項をUNIXコマンドを用いて確認せよ．\n",
    "\n",
    "コーパス中で頻出する述語と格パターンの組み合わせ\n",
    "「行う」「なる」「与える」という動詞の格パターン（コーパス中で出現頻度の高い順に並べよ）"
   ]
  },
  {
   "cell_type": "code",
   "execution_count": 33,
   "metadata": {},
   "outputs": [],
   "source": [
    "def printArticle(chunk):\n",
    "  for morph in chunk.morphs:\n",
    "    if morph.pos == '助詞':\n",
    "      print(morph.base, end=' ')"
   ]
  },
  {
   "cell_type": "code",
   "execution_count": 34,
   "metadata": {},
   "outputs": [
    {
     "name": "stdout",
     "output_type": "stream",
     "text": [
      "用いる\tを \n",
      "する\tて を \n",
      "指す\tを \n",
      "代わる\tを に \n",
      "行う\tて に \n",
      "する\tと も \n"
     ]
    }
   ],
   "source": [
    "for i, chunk in enumerate(chunks_sentence12):\n",
    "  for morph in chunk.morphs:\n",
    "    if morph.pos == '動詞'and morph.pos1 != '接尾':\n",
    "      print(morph.base, end='\\t')\n",
    "      for src in srcs[i]:\n",
    "        printArticle(chunks_sentence12[src])\n",
    "      print()"
   ]
  },
  {
   "cell_type": "markdown",
   "metadata": {},
   "source": [
    "## 46. 動詞の格フレーム情報の抽出"
   ]
  },
  {
   "cell_type": "markdown",
   "metadata": {},
   "source": [
    "45のプログラムを改変し，述語と格パターンに続けて項（述語に係っている文節そのもの）をタブ区切り形式で出力せよ．45の仕様に加えて，以下の仕様を満たすようにせよ．\n",
    "\n",
    "項は述語に係っている文節の単語列とする（末尾の助詞を取り除く必要はない）\n",
    "述語に係る文節が複数あるときは，助詞と同一の基準・順序でスペース区切りで並べる\n",
    "「ジョン・マッカーシーはAIに関する最初の会議で人工知能という用語を作り出した。」という例文を考える． この文は「作り出す」という１つの動詞を含み，「作り出す」に係る文節は「ジョン・マッカーシーは」，「会議で」，「用語を」であると解析された場合は，次のような出力になるはずである．\n",
    "\n",
    "作り出す\tで は を\t会議で ジョンマッカーシーは 用語を"
   ]
  },
  {
   "cell_type": "code",
   "execution_count": 35,
   "metadata": {},
   "outputs": [
    {
     "name": "stdout",
     "output_type": "stream",
     "text": [
      "用いる\tを 道具を \n",
      "する\tて を 用いて 知能を \n",
      "指す\tを 一分野を \n",
      "代わる\tを に 知的行動を 人間に \n",
      "行う\tて に 代わって コンピューターに \n",
      "する\tと も 研究分野とも \n"
     ]
    }
   ],
   "source": [
    "for i, chunk in enumerate(chunks_sentence12):\n",
    "  for morph in chunk.morphs:\n",
    "    if morph.pos == '動詞'and morph.pos1 != '接尾':\n",
    "      print(morph.base, end='\\t')\n",
    "      for src in srcs[i]:\n",
    "        printArticle(chunks_sentence12[src])\n",
    "      for src in srcs[i]:\n",
    "        print(chunks_sentence12[src].getPhrase(), end=' ')\n",
    "      print()"
   ]
  },
  {
   "cell_type": "markdown",
   "metadata": {},
   "source": [
    "## 47. 機能動詞構文のマイニング"
   ]
  },
  {
   "cell_type": "markdown",
   "metadata": {},
   "source": [
    "動詞のヲ格にサ変接続名詞が入っている場合のみに着目したい．46のプログラムを以下の仕様を満たすように改変せよ．\n",
    "\n",
    "「サ変接続名詞+を（助詞）」で構成される文節が動詞に係る場合のみを対象とする\n",
    "述語は「サ変接続名詞+を+動詞の基本形」とし，文節中に複数の動詞があるときは，最左の動詞を用いる\n",
    "述語に係る助詞（文節）が複数あるときは，すべての助詞をスペース区切りで辞書順に並べる\n",
    "述語に係る文節が複数ある場合は，すべての項をスペース区切りで並べる（助詞の並び順と揃えよ）\n",
    "例えば「また、自らの経験を元に学習を行う強化学習という手法もある。」という文から，以下の出力が得られるはずである．\n",
    "\n",
    "学習を行う\tに を\t元に 経験を"
   ]
  },
  {
   "cell_type": "code",
   "execution_count": 171,
   "metadata": {},
   "outputs": [],
   "source": [
    "paragraph_no = 1\n",
    "sentence_num = len(paragraphs[paragraph_no].split('。\t記号'))\n",
    "# print(sentence_num)\n",
    "start_line = 0\n",
    "end_line = start_line + sentence_num\n",
    "index_sentence = []\n",
    "for index in indices_file[start_line:top_line]:\n",
    "  index_sentence.extend(index)\n",
    "dst_top = []\n",
    "srcs_top = {}\n",
    "morphs_id = {}\n",
    "[srcs_top.setdefault(x, set()) for x in range(-1,100)]\n",
    "for index_word in index_sentence:\n",
    "  id_split = index_word.split()\n",
    "  dest = int(id_split[2].replace('D',''))\n",
    "  source = int(id_split[1])\n",
    "  dst_top.append(dest)\n",
    "  srcs_top[dest].add(source)\n",
    "\n",
    "# print(\"dst: \", dst)\n",
    "# print(\"srcs: \", srcs_top)"
   ]
  },
  {
   "cell_type": "code",
   "execution_count": 156,
   "metadata": {},
   "outputs": [],
   "source": [
    "i = 0\n",
    "chunks_sentence_top= []\n",
    "morphs_top = []\n",
    "for x in morphs_file[1:top_line]:\n",
    "  morphs_top.extend(x)\n",
    "for phrase in morphs_top:\n",
    "  chunks_sentence_top.append(Chunk(phrase, dst_top[i], srcs_top[i]))\n",
    "#   Chunk(phrase, dst[i], srcs[i]).printChunk()\n",
    "  i += 1"
   ]
  },
  {
   "cell_type": "code",
   "execution_count": 170,
   "metadata": {},
   "outputs": [],
   "source": [
    "def printArticleSet(chunk):\n",
    "  articles = set()\n",
    "  for morph in chunk.morphs:\n",
    "    if morph.pos == '助詞':\n",
    "      print(morph.base, end=' ')\n",
    "      \n",
    "def containsVerb(chunk):\n",
    "  check = False\n",
    "  for morph in chunk.morphs:\n",
    "    if morph.pos == '動詞':\n",
    "      check = True\n",
    "      print(morph.base, end='\\t')\n",
    "  return check"
   ]
  },
  {
   "cell_type": "code",
   "execution_count": 172,
   "metadata": {},
   "outputs": [
    {
     "name": "stdout",
     "output_type": "stream",
     "text": [
      "行動を代わる\tなど の 問題解決などの \n"
     ]
    }
   ],
   "source": [
    "for i, chunk in enumerate(chunks_sentence_top):\n",
    "  check = False\n",
    "  for j, morph in enumerate(chunk.morphs):\n",
    "    if j < len(chunk.morphs)-1:\n",
    "      if morph.pos1 == 'サ変接続' and chunk.morphs[j+1].base == 'を':\n",
    "        print(morph.base, end='')\n",
    "        print(chunk.morphs[j+1].base, end='')\n",
    "        for k in range(i+1,i+10):\n",
    "          if containsVerb(chunks_sentence_top[k]):\n",
    "            break\n",
    "        for src in srcs_top[i]:\n",
    "          printArticleSet(chunks_sentence_top[src])\n",
    "        for src in srcs_top[i]:\n",
    "          print(chunks_sentence_top[src].getPhrase(), end=' ')\n",
    "        print()"
   ]
  },
  {
   "cell_type": "markdown",
   "metadata": {},
   "source": [
    "## 48. 名詞から根へのパスの抽出"
   ]
  },
  {
   "cell_type": "markdown",
   "metadata": {},
   "source": [
    "文中のすべての名詞を含む文節に対し，その文節から構文木の根に至るパスを抽出せよ． ただし，構文木上のパスは以下の仕様を満たすものとする．\n",
    "\n",
    "各文節は（表層形の）形態素列で表現する\n",
    "パスの開始文節から終了文節に至るまで，各文節の表現を” -> “で連結する\n",
    "「ジョン・マッカーシーはAIに関する最初の会議で人工知能という用語を作り出した。」という例文を考える． CaboChaを係り受け解析に用いた場合，次のような出力が得られると思われる．\n",
    "\n",
    "ジョンマッカーシーは -> 作り出した\n",
    "AIに関する -> 最初の -> 会議で -> 作り出した\n",
    "最初の -> 会議で -> 作り出した\n",
    "会議で -> 作り出した\n",
    "人工知能という -> 用語を -> 作り出した\n",
    "用語を -> 作り出した\n",
    "KNPを係り受け解析に用いた場合，次のような出力が得られると思われる．\n",
    "\n",
    "ジョンマッカーシーは -> 作り出した\n",
    "ＡＩに -> 関する -> 会議で -> 作り出した\n",
    "会議で -> 作り出した\n",
    "人工知能と -> いう -> 用語を -> 作り出した\n",
    "用語を -> 作り出した"
   ]
  },
  {
   "cell_type": "code",
   "execution_count": 247,
   "metadata": {},
   "outputs": [],
   "source": [
    "def containsPOS(chunk, pos):\n",
    "  strnoun = ''\n",
    "  check = False\n",
    "  for morph in chunk.morphs:\n",
    "    if morph.pos == pos:\n",
    "      strnoun += morph.surface\n",
    "      check = True\n",
    "  if check:\n",
    "    noun.append(strnoun)\n",
    "  return check\n",
    "def printRoot(chunk, chunks_sentence):\n",
    "  global lstRoot\n",
    "  lstRoot.append(chunk.getPhrase())\n",
    "  print(chunk.getPhrase(), end='')\n",
    "  if chunk.dst != -1:\n",
    "    print(' -> ',end='')\n",
    "    nextchunk = chunks_sentence[chunk.dst]\n",
    "    printRoot(nextchunk, chunks_sentence)\n",
    "  else:\n",
    "    lstPhraseRoot.append(lstRoot)\n",
    "    lstRoot = []\n",
    "    print('')\n",
    "    return"
   ]
  },
  {
   "cell_type": "code",
   "execution_count": 248,
   "metadata": {},
   "outputs": [
    {
     "name": "stdout",
     "output_type": "stream",
     "text": [
      "人工知能 -> 語 -> 研究分野とも -> される\n",
      "じんこうちのう -> 語 -> 研究分野とも -> される\n",
      "AI -> エーアイとは -> 語 -> 研究分野とも -> される\n",
      "エーアイとは -> 語 -> 研究分野とも -> される\n",
      "計算 -> という -> 道具を -> 用いて -> 研究する -> 計算機科学 -> の -> 一分野を -> 指す -> 語 -> 研究分野とも -> される\n",
      "概念と -> 道具を -> 用いて -> 研究する -> 計算機科学 -> の -> 一分野を -> 指す -> 語 -> 研究分野とも -> される\n",
      "コンピュータ -> という -> 道具を -> 用いて -> 研究する -> 計算機科学 -> の -> 一分野を -> 指す -> 語 -> 研究分野とも -> される\n",
      "道具を -> 用いて -> 研究する -> 計算機科学 -> の -> 一分野を -> 指す -> 語 -> 研究分野とも -> される\n",
      "知能を -> 研究する -> 計算機科学 -> の -> 一分野を -> 指す -> 語 -> 研究分野とも -> される\n",
      "研究する -> 計算機科学 -> の -> 一分野を -> 指す -> 語 -> 研究分野とも -> される\n",
      "計算機科学 -> の -> 一分野を -> 指す -> 語 -> 研究分野とも -> される\n",
      "一分野を -> 指す -> 語 -> 研究分野とも -> される\n",
      "語 -> 研究分野とも -> される\n",
      "言語の -> 推論 -> 問題解決などの -> 知的行動を -> 代わって -> 行わせる -> 技術または -> 研究分野とも -> される\n",
      "理解や -> 推論 -> 問題解決などの -> 知的行動を -> 代わって -> 行わせる -> 技術または -> 研究分野とも -> される\n",
      "推論 -> 問題解決などの -> 知的行動を -> 代わって -> 行わせる -> 技術または -> 研究分野とも -> される\n",
      "問題解決などの -> 知的行動を -> 代わって -> 行わせる -> 技術または -> 研究分野とも -> される\n",
      "知的行動を -> 代わって -> 行わせる -> 技術または -> 研究分野とも -> される\n",
      "人間に -> 代わって -> 行わせる -> 技術または -> 研究分野とも -> される\n",
      "コンピューターに -> 行わせる -> 技術または -> 研究分野とも -> される\n",
      "技術または -> 研究分野とも -> される\n",
      "計算機 -> コンピュータによる -> 情報処理システムの -> 実現に関する -> 研究分野とも -> される\n",
      "コンピュータによる -> 情報処理システムの -> 実現に関する -> 研究分野とも -> される\n",
      "知的な -> 情報処理システムの -> 実現に関する -> 研究分野とも -> される\n",
      "情報処理システムの -> 実現に関する -> 研究分野とも -> される\n",
      "設計や -> 実現に関する -> 研究分野とも -> される\n",
      "実現に関する -> 研究分野とも -> される\n",
      "研究分野とも -> される\n"
     ]
    }
   ],
   "source": [
    "lstRoot = []\n",
    "lstPhraseRoot = []\n",
    "nounPhrase = []\n",
    "noun = []\n",
    "for chunk in chunks_sentence12:\n",
    "  if containsPOS(chunk, '名詞'):\n",
    "    nounPhrase.append(chunk)\n",
    "    printRoot(chunk, chunks_sentence12)"
   ]
  },
  {
   "cell_type": "markdown",
   "metadata": {},
   "source": [
    "## 49. 名詞間の係り受けパスの抽出"
   ]
  },
  {
   "cell_type": "markdown",
   "metadata": {},
   "source": [
    "文中のすべての名詞句のペアを結ぶ最短係り受けパスを抽出せよ．ただし，名詞句ペアの文節番号がi\n",
    "とj\n",
    "（i<j\n",
    "）のとき，係り受けパスは以下の仕様を満たすものとする．\n",
    "\n",
    "問題48と同様に，パスは開始文節から終了文節に至るまでの各文節の表現（表層形の形態素列）を” -> “で連結して表現する\n",
    "文節i\n",
    "とj\n",
    "に含まれる名詞句はそれぞれ，XとYに置換する\n",
    "また，係り受けパスの形状は，以下の2通りが考えられる．\n",
    "\n",
    "文節i\n",
    "から構文木の根に至る経路上に文節j\n",
    "が存在する場合: 文節i\n",
    "から文節j\n",
    "のパスを表示\n",
    "上記以外で，文節i\n",
    "と文節j\n",
    "から構文木の根に至る経路上で共通の文節k\n",
    "で交わる場合: 文節i\n",
    "から文節k\n",
    "に至る直前のパスと文節j\n",
    "から文節k\n",
    "に至る直前までのパス，文節k\n",
    "の内容を” | “で連結して表示\n",
    "「ジョン・マッカーシーはAIに関する最初の会議で人工知能という用語を作り出した。」という例文を考える． CaboChaを係り受け解析に用いた場合，次のような出力が得られると思われる．\n",
    "\n",
    "Xは | Yに関する -> 最初の -> 会議で | 作り出した\n",
    "Xは | Yの -> 会議で | 作り出した\n",
    "Xは | Yで | 作り出した\n",
    "Xは | Yという -> 用語を | 作り出した\n",
    "Xは | Yを | 作り出した\n",
    "Xに関する -> Yの\n",
    "Xに関する -> 最初の -> Yで\n",
    "Xに関する -> 最初の -> 会議で | Yという -> 用語を | 作り出した\n",
    "Xに関する -> 最初の -> 会議で | Yを | 作り出した\n",
    "Xの -> Yで\n",
    "Xの -> 会議で | Yという -> 用語を | 作り出した\n",
    "Xの -> 会議で | Yを | 作り出した\n",
    "Xで | Yという -> 用語を | 作り出した\n",
    "Xで | Yを | 作り出した\n",
    "Xという -> Yを\n",
    "KNPを係り受け解析に用いた場合，次のような出力が得られると思われる．\n",
    "\n",
    "Xは | Yに -> 関する -> 会議で | 作り出した。\n",
    "Xは | Yで | 作り出した。\n",
    "Xは | Yと -> いう -> 用語を | 作り出した。\n",
    "Xは | Yを | 作り出した。\n",
    "Xに -> 関する -> Yで\n",
    "Xに -> 関する -> 会議で | Yと -> いう -> 用語を | 作り出した。\n",
    "Xに -> 関する -> 会議で | Yを | 作り出した。\n",
    "Xで | Yと -> いう -> 用語を | 作り出した。\n",
    "Xで | Yを | 作り出した。\n",
    "Xと -> いう -> Yを"
   ]
  },
  {
   "cell_type": "code",
   "execution_count": 280,
   "metadata": {},
   "outputs": [
    {
     "data": {
      "text/plain": [
       "['X | Yのう -> 語 -> 研究分野とも -> される',\n",
       " 'X | Y -> エーアイとは -> 語 -> 研究分野とも -> される',\n",
       " 'Xのう | Y -> エーアイとは -> 語 -> 研究分野とも -> される',\n",
       " 'X | Yとは -> 語 -> 研究分野とも -> される',\n",
       " 'Xのう | Yとは -> 語 -> 研究分野とも -> される',\n",
       " 'X |  -> エーアイとは -> 語 -> 研究分野とも -> される',\n",
       " 'X | Y -> という -> 道具を -> 用いて -> 研究する -> Y機科学 -> の -> 一分野を -> 指す -> 語 -> 研究分野とも -> される',\n",
       " 'Xのう | Y -> という -> 道具を -> 用いて -> 研究する -> Y機科学 -> の -> 一分野を -> 指す -> 語 -> 研究分野とも -> される',\n",
       " 'X -> エーアイとは | Y -> という -> 道具を -> 用いて -> 研究する -> Y機科学 -> の -> 一分野を -> 指す -> 語 -> 研究分野とも -> される',\n",
       " 'Xとは | Y -> という -> 道具を -> 用いて -> 研究する -> Y機科学 -> の -> 一分野を -> 指す -> 語 -> 研究分野とも -> される']"
      ]
     },
     "execution_count": 280,
     "metadata": {},
     "output_type": "execute_result"
    }
   ],
   "source": [
    "rootmixed = []\n",
    "for i, chunk in enumerate(nounPhrase):\n",
    "  for j, chunk2 in enumerate(nounPhrase):\n",
    "    if chunk == chunk2:\n",
    "      break\n",
    "    else:\n",
    "      list1 = lstPhraseRoot[i]\n",
    "      list2 = lstPhraseRoot[j]\n",
    "      intersect = [x for x in list1 if x in list2]\n",
    "      diff1 = [x for x in list1 if x not in intersect]\n",
    "      diff2 = [x for x in list2 if x not in intersect]\n",
    "      str1 = \" -> \".join(x for x in diff1)\n",
    "      str2 = \" -> \".join(x for x in diff2)\n",
    "      strmx = \" | \".join([str2, str1]).replace(noun[j],'X').replace(noun[i],'Y')  \n",
    "      strdiff = \" -> \".join(x for x in intersect)\n",
    "      strfinal = \" -> \".join([strmx, strdiff])\n",
    "      rootmixed.append(strfinal)\n",
    "rootmixed[:10]"
   ]
  },
  {
   "cell_type": "code",
   "execution_count": 281,
   "metadata": {},
   "outputs": [],
   "source": [
    "# len(noun)"
   ]
  },
  {
   "cell_type": "code",
   "execution_count": 282,
   "metadata": {},
   "outputs": [],
   "source": [
    "# lstPhraseRoot"
   ]
  },
  {
   "cell_type": "code",
   "execution_count": null,
   "metadata": {},
   "outputs": [],
   "source": []
  }
 ],
 "metadata": {
  "kernelspec": {
   "display_name": "Python 3",
   "language": "python",
   "name": "python3"
  },
  "language_info": {
   "codemirror_mode": {
    "name": "ipython",
    "version": 3
   },
   "file_extension": ".py",
   "mimetype": "text/x-python",
   "name": "python",
   "nbconvert_exporter": "python",
   "pygments_lexer": "ipython3",
   "version": "3.9.4"
  }
 },
 "nbformat": 4,
 "nbformat_minor": 4
}
