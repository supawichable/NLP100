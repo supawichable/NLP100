{
 "cells": [
  {
   "cell_type": "markdown",
   "metadata": {},
   "source": [
    "# 言語処理100本ノック"
   ]
  },
  {
   "cell_type": "markdown",
   "metadata": {},
   "source": [
    "## 第3章: 正規表現"
   ]
  },
  {
   "cell_type": "markdown",
   "metadata": {},
   "source": [
    "Wikipediaの記事を以下のフォーマットで書き出したファイルjawiki-country.json.gzがある．(enwiki-country.json.gzを使用)\n",
    "\n",
    "1行に1記事の情報がJSON形式で格納される\n",
    "各行には記事名が”title”キーに，記事本文が”text”キーの辞書オブジェクトに格納され，そのオブジェクトがJSON形式で書き出される\n",
    "ファイル全体はgzipで圧縮される\n",
    "以下の処理を行うプログラムを作成せよ．\n",
    "\n",
    "The file enwiki-country.json.gz stores Wikipedia articles in the format:\n",
    "\n",
    "Each line stores a Wikipedia article in JSON format\n",
    "Each JSON document has key-value pairs:\n",
    "Title of the article as the value for the title key\n",
    "Body of the article as the value for the text key\n",
    "The entire file is compressed by gzip\n",
    "Write codes that perform the following jobs."
   ]
  },
  {
   "cell_type": "markdown",
   "metadata": {},
   "source": [
    "### 20. JSONデータの読み込み"
   ]
  },
  {
   "cell_type": "markdown",
   "metadata": {},
   "source": [
    "Wikipedia記事のJSONファイルを読み込み，「イギリス」に関する記事本文を表示せよ．問題21-29では，ここで抽出した記事本文に対して実行せよ"
   ]
  },
  {
   "cell_type": "code",
   "execution_count": 159,
   "metadata": {
    "scrolled": true
   },
   "outputs": [
    {
     "name": "stdout",
     "output_type": "stream",
     "text": [
      "{{About-distinguish2|the country|[[Great Britain]], its largest island whose name is also loosely applied to the whole country}}\n",
      "{{Redirect|UK|other uses of \"UK\"|UK (disambiguation)|other uses of \"United Kingdom\"|United Kingdom (disambiguation)}}\n",
      "{{pp-semi-indef}}\n",
      "{{pp-move-indef}}\n",
      "{{short description|Country in Western Europe}}\n",
      "{{Use British English|date=April 2012}}\n",
      "{{Use dmy dates|date=November 2019}}\n",
      "{{Infobox country\n",
      "| common_name               = United Kingdom\n",
      "| linking_name              = the United Kingdom<!--Note: \"the\" required here as this entry used to create wikilinks-->\n",
      "| conventional_long_name    = United Kingdom of Great Britain and Northern Ireland\n",
      "| image_flag                = Flag of the United Kingdom.svg\n",
      "| alt_flag = A flag featuring both cross and saltire in red, white and blue\n",
      "| other_symbol = [[File:Royal Coat of Arms of the United Kingdom.svg|x100px]][[File:Royal Coat of Arms of the United Kingdom (Scotland).svg|x100px]]\n",
      "| other_symbol_type = [[Royal coat of ar\n"
     ]
    }
   ],
   "source": [
    "import json\n",
    "\n",
    "articleUK = str()\n",
    "with open(\"enwiki-country.json\",\"r\") as json_file:\n",
    "  for line in json_file:\n",
    "    article = json.loads(line)\n",
    "    if article['title'] == 'United Kingdom':\n",
    "      articleUK = article['text']\n",
    "#       print(articleUK)\n",
    "      print(articleUK[:1000])"
   ]
  },
  {
   "cell_type": "markdown",
   "metadata": {},
   "source": [
    "### 21. カテゴリ名を含む行を抽出"
   ]
  },
  {
   "cell_type": "markdown",
   "metadata": {},
   "source": [
    "記事中でカテゴリ名を宣言している行を抽出せよ．"
   ]
  },
  {
   "cell_type": "code",
   "execution_count": 160,
   "metadata": {},
   "outputs": [
    {
     "data": {
      "text/plain": [
       "['[[Category:United Kingdom| ]]',\n",
       " '[[Category:British Islands]]',\n",
       " '[[Category:Countries in Europe]]',\n",
       " '[[Category:English-speaking countries and territories]]',\n",
       " '[[Category:G7 nations]]',\n",
       " '[[Category:Group of Eight nations]]',\n",
       " '[[Category:G20 nations]]',\n",
       " '[[Category:Island countries]]',\n",
       " '[[Category:Northern European countries]]',\n",
       " '[[Category:Former member states of the European Union]]',\n",
       " '[[Category:Member states of NATO]]',\n",
       " '[[Category:Member states of the Commonwealth of Nations]]',\n",
       " '[[Category:Member states of the Council of Europe]]',\n",
       " '[[Category:Member states of the Union for the Mediterranean]]',\n",
       " '[[Category:Member states of the United Nations]]',\n",
       " '[[Category:Priority articles for attention after Brexit]]',\n",
       " '[[Category:Western European countries]]']"
      ]
     },
     "execution_count": 160,
     "metadata": {},
     "output_type": "execute_result"
    }
   ],
   "source": [
    "import re\n",
    "\n",
    "categories = re.findall('^\\[\\[Category.*$', articleUK, re.MULTILINE)\n",
    "categories"
   ]
  },
  {
   "cell_type": "markdown",
   "metadata": {},
   "source": [
    "### 22. カテゴリ名の抽出"
   ]
  },
  {
   "cell_type": "markdown",
   "metadata": {},
   "source": [
    "記事のカテゴリ名を（行単位ではなく名前で）抽出せよ"
   ]
  },
  {
   "cell_type": "code",
   "execution_count": 21,
   "metadata": {},
   "outputs": [
    {
     "name": "stdout",
     "output_type": "stream",
     "text": [
      "United Kingdom\n",
      "British Islands\n",
      "Countries in Europe\n",
      "English-speaking countries and territories\n",
      "G7 nations\n",
      "Group of Eight nations\n",
      "G20 nations\n",
      "Island countries\n",
      "Northern European countries\n",
      "Former member states of the European Union\n",
      "Member states of NATO\n",
      "Member states of the Commonwealth of Nations\n",
      "Member states of the Council of Europe\n",
      "Member states of the Union for the Mediterranean\n",
      "Member states of the United Nations\n",
      "Priority articles for attention after Brexit\n",
      "Western European countries\n"
     ]
    }
   ],
   "source": [
    "names = re.findall(r'^\\[\\[Category:(.*?)(?:\\|.*)?\\]\\]$', articleUK, re.MULTILINE)\n",
    "for name in names:\n",
    "  print(name)"
   ]
  },
  {
   "cell_type": "markdown",
   "metadata": {},
   "source": [
    "### 23. セクション構造"
   ]
  },
  {
   "cell_type": "markdown",
   "metadata": {},
   "source": [
    "記事中に含まれるセクション名とそのレベル（例えば”== セクション名 ==”なら1）を表示せよ．"
   ]
  },
  {
   "cell_type": "code",
   "execution_count": 22,
   "metadata": {},
   "outputs": [
    {
     "name": "stdout",
     "output_type": "stream",
     "text": [
      "Etymology and terminology: level 1\n",
      "History: level 1\n",
      "Background: level 2\n",
      "Treaty of Union: level 2\n",
      "From the union with Ireland to the end of the First World War: level 2\n",
      "Between the World Wars: level 2\n",
      "Since the Second World War: level 2\n",
      "Geography: level 1\n",
      "Climate: level 2\n",
      "Administrative divisions: level 2\n",
      "Dependencies: level 1\n",
      "Politics: level 1\n",
      "Government: level 2\n",
      "Devolved administrations: level 2\n",
      "Law and criminal justice: level 2\n",
      "Foreign relations: level 2\n",
      "Military: level 2\n",
      "Economy: level 1\n",
      "Overview: level 2\n",
      "Science and technology: level 2\n",
      "Transport: level 2\n",
      "Energy: level 2\n",
      "Water supply and sanitation: level 2\n",
      "Demographics: level 1\n",
      "Ethnic groups: level 2\n",
      "Languages: level 2\n",
      "Religion: level 2\n",
      "Migration: level 2\n",
      "Education: level 2\n",
      "Health: level 2\n",
      "Culture: level 1\n",
      "Literature: level 2\n",
      "Music: level 2\n",
      "Visual art: level 2\n",
      "Cinema: level 2\n",
      "Cuisine: level 2\n",
      "Media: level 2\n",
      "Philosophy: level 2\n",
      "Sport: level 2\n",
      "Symbols: level 2\n",
      "Stereotypes: level 2\n",
      "Historiography: level 1\n",
      "See also: level 1\n",
      "Notes: level 1\n",
      "References: level 1\n",
      "External links: level 1\n"
     ]
    }
   ],
   "source": [
    "sections = re.findall(r'(={2,})\\s*(.*?)\\s*(={2,})', articleUK)\n",
    "for section in sections:\n",
    "  print(\"{}: level {}\".format(section[1], len(section[0])-1))"
   ]
  },
  {
   "cell_type": "markdown",
   "metadata": {},
   "source": [
    "### 24. ファイル参照の抽出"
   ]
  },
  {
   "cell_type": "markdown",
   "metadata": {},
   "source": [
    "記事から参照されているメディアファイルをすべて抜き出せ．"
   ]
  },
  {
   "cell_type": "code",
   "execution_count": 23,
   "metadata": {},
   "outputs": [
    {
     "data": {
      "text/plain": [
       "['Royal Coat of Arms of the United Kingdom.svg',\n",
       " 'United States Navy Band - God Save the Queen.ogg',\n",
       " 'Europe-UK (orthographic projection).svg',\n",
       " 'United Kingdom (+overseas territories and crown dependencies) in the World (+Antarctica claims).svg',\n",
       " 'Stonehenge, Condado de Wiltshire, Inglaterra, 2014-08-12, DD 18.JPG',\n",
       " 'Bayeux Tapestry WillelmDux.jpg',\n",
       " 'State House- 1620 - St Geo - Bermuda.jpg',\n",
       " 'Treaty of Union.jpg',\n",
       " 'Royal Irish Rifles ration party Somme July 1916.jpg',\n",
       " 'The British Empire.png',\n",
       " 'Tratado de Lisboa 13 12 2007 (081).jpg',\n",
       " 'Uk topo en.jpg',\n",
       " 'Inside the Reef Cayman.jpg',\n",
       " 'Cap Juluca - Anguilla.jpg',\n",
       " 'Bermuda-Harbour and Town of St George.jpg',\n",
       " 'Rothera from reptile.jpg',\n",
       " 'Roadtown, Tortola.jpg',\n",
       " 'Upland.jpg',\n",
       " 'Catalan Bay from The Rock.JPG',\n",
       " 'Soufriere Hills.jpg',\n",
       " 'Bounty_bay.jpg',\n",
       " 'St-Helena-Jamestown-from-above.jpg',\n",
       " 'Grytviken_church.jpg',\n",
       " 'Cockburn Town.jpg',\n",
       " 'Mont Orgueil and Gorey harbour, Jersey.jpg',\n",
       " 'St Peter Port Guernsey.jpg',\n",
       " 'The_View_From_Douglas_Head,_Isle_Of_Man..jpg',\n",
       " 'London Parliament 2007-1.jpg',\n",
       " 'UK Political System.png',\n",
       " 'Scottish Parliament, Main Debating Chamber - geograph.org.uk - 1650829.jpg',\n",
       " 'Royal Courts of Justice 2019.jpg',\n",
       " 'High Court of Justiciary.jpg',\n",
       " 'Gibraltar National Day 027 (9719742224) (2).jpg',\n",
       " 'HMS Queen Elizabeth (R08) underway during trials with HMS Sutherland (F81) and HMS Iron Duke (F234) on 28 June 2017 (45162784).jpg',\n",
       " 'Banco de Inglaterra, Londres, Inglaterra, 2014-08-11, DD 141.JPG',\n",
       " '2017 Jaguar XE Portfolio Diesel Automatic 2.0 Front.jpg',\n",
       " 'British Airways A380-841 G-XLEA (16948377692).jpg',\n",
       " 'Darwin restored2.jpg',\n",
       " 'Heathrow T5.jpg',\n",
       " 'St Pancras Railway Station 2012-06-23.jpg',\n",
       " 'Oil platform in the North SeaPros.jpg',\n",
       " 'Population density UK 2011 census.png',\n",
       " 'Non-white in the 2011 census.png',\n",
       " 'Anglospeak.png',\n",
       " 'West Side of Westminster Abbey, London - geograph.org.uk - 1406999.jpg',\n",
       " 'Neasden Temple - Shree Swaminarayan Hindu Mandir - Gate.jpg',\n",
       " 'United Kingdom foreign born population by country of birth.png',\n",
       " 'The Prime Minister, Shri Narendra Modi and the Prime Minister of United Kingdom (UK), Mr. David Cameron interacting with the school children, at Wembley Stadium, in London on November 13, 2015.jpg',\n",
       " 'British expats countrymap.svg',\n",
       " 'Tom Quad, Christ Church 2004-01-21.jpg',\n",
       " 'KingsCollegeChapelWest.jpg',\n",
       " 'Edinburgh New College (8594473141).jpg',\n",
       " \"15th Sep 2012-Abdn Children's Hosp & Emergency Care Centre 10.JPG\",\n",
       " 'Shakespeare.jpg',\n",
       " 'Dickens by Watkins 1858.png',\n",
       " 'The Fabs.JPG',\n",
       " 'Turner selfportrait.jpg',\n",
       " 'Hitchcock, Alfred 02.jpg',\n",
       " 'Chicken tikka masala.jpg',\n",
       " 'Bbc broadcasting house front.jpg',\n",
       " 'Wembley-STadion 2013.JPG',\n",
       " 'Inside the Millennium Stadium, Cardiff.jpg',\n",
       " 'Saville vs Broady – Wimbledon Boys Singles Final 2011.jpg',\n",
       " 'R&A Clubhouse, Old Course, Swilcan Burn bridge.jpg',\n",
       " 'Britannia-Statue.jpg']"
      ]
     },
     "execution_count": 23,
     "metadata": {},
     "output_type": "execute_result"
    }
   ],
   "source": [
    "# [[File:Britannia-Statue.jpg|thumb|right|upright|The Statue of [[Britannia]]\n",
    "media = re.findall(r\"\\[\\[File:(.*?)(?:\\|.*)*\\]\\]\", articleUK)\n",
    "media"
   ]
  },
  {
   "cell_type": "markdown",
   "metadata": {},
   "source": [
    "### 25. テンプレートの抽出"
   ]
  },
  {
   "cell_type": "markdown",
   "metadata": {},
   "source": [
    "記事中に含まれる「基礎情報」テンプレートのフィールド名と値を抽出し，辞書オブジェクトとして格納せよ．"
   ]
  },
  {
   "cell_type": "code",
   "execution_count": 38,
   "metadata": {},
   "outputs": [
    {
     "name": "stdout",
     "output_type": "stream",
     "text": [
      "\n",
      "| common_name               = United Kingdom\n",
      "| linking_name              = the United Kingdom<!--Note: \"the\" required here as this entry used to create wikilinks-->\n",
      "| conventional_long_name    = United Kingdom of Great Britain and Northern Ireland\n",
      "| image_flag                = Flag of the United Kingdom.svg\n",
      "| alt_flag = A flag featuring both cross and saltire in red, white and blue\n",
      "| other_symbol = [[File:Royal Coat of Arms of the United Kingdom.svg|x100px]][[File:Royal Coat of Arms of the United Kingdom (Scotland).svg|x100px]]\n",
      "| other_symbol_type = [[Royal coat of arms of the United Kingdom|Royal coats of arms]]:{{#tag:ref |The coat of arms on the left is used in England, Northern Ireland, and Wales; the version on the right is used in Scotland|group=note}}\n",
      "| national_anthem                = \"[[God Save the Queen]]\"{{#tag:ref |There is no authorised version of the national anthem as the words are a matter of tradition; only the first verse is usually sung.<ref>{{cite web |title=National Anthem |url=https://www.royal.uk/national-anthem |website=Official web site of the British Royal Family |accessdate=4 June 2016|date=15 January 2016 }}</ref> No law was passed making \"God Save the Queen\" the official anthem. In the English tradition, such laws are not necessary; proclamation and usage are sufficient to make it the national anthem. \"God Save the Queen\" also serves as the [[Honors music|Royal anthem]] for certain [[Commonwealth realms]]. The words ''Queen, she, her'', used at present (in the reign of Elizabeth II), are replaced by ''King, he, him'' when the monarch is male. |group=note}}\n",
      "<br /><div style=\"display:inline-block;margin-top:0.4em;\">[[File:United States Navy Band - God Save the Queen.ogg]]</div>\n",
      "| image_map                = {{Switcher|[[File:Europe-UK (orthographic projection).svg|frameless]]|Show globe|[[File:Europe-UK.svg|upright=1.15|frameless]]|Show map of Europe|default=1}}\n",
      "| map_caption                = {{map_caption |countryprefix=the |location_color=dark green |region=Europe |region_color=dark grey}}\n",
      "| image_map2                = {{collapsible list\n",
      " | titlestyle = background:transparent;text-align:center;line-height:normal;font-weight:normal;\n",
      " | title = Location of the United Kingdom,<br /> [[Crown dependencies]] and<br /> [[British Overseas Territories]] (red)\n",
      " | liststyle = text-align:center;<!--Note: fixes map left-aligning on mobile -->\n",
      " | [[File:United Kingdom (+overseas territories and crown dependencies) in the World (+Antarctica claims).svg|frameless|upright=1.15]]\n",
      " }}\n",
      "| capital                = [[London]]\n",
      "| coordinates                = {{coord|51|30|N|0|7|W|type:city}}\n",
      "| largest_city                = capital\n",
      "| languages_type                = Official language<br /> {{nobold|and national language}}\n",
      "| languages                = [[English language|English]]<!--Note: Just English, don't add \"British English\"-->\n",
      "| languages2_type                = Regional and minority languages{{#tag:ref |Scots, Ulster Scots, Welsh, Cornish, Scottish Gaelic and Irish are classed as [[Regional language|regional]] or [[Minority language|minority]] languages under the [[Council of Europe]]'s [[European Charter for Regional or Minority Languages]]. <ref name=\"reglang\">{{cite web |url=http://conventions.coe.int/treaty/Commun/ListeDeclarations.asp?CL=ENG&NT=148&VL=1 |title=List of declarations made with respect to treaty No. 148 |publisher=[[Council of Europe]] |accessdate=12 December 2013}}</ref> These include defined obligations to promote those languages.<ref>{{cite web |url=https://www.gov.uk/guidance/content-design/welsh-language-on-gov-uk|title=Welsh language on GOV.UK – Content design: planning, writing and managing content – Guidance |website=www.gov.uk |accessdate=3 August 2018}}</ref><ref>{{cite news |url=https://www.gov.uk/government/organisations/department-for-transport/about/welsh-language-scheme |title=Welsh language scheme |work=GOV.UK |accessdate=3 August 2018}}</ref><ref>{{cite news |url=https://www.gov.uk/government/organisations/home-office/about/welsh-language-scheme |title=Welsh language scheme |work=GOV.UK |accessdate=3 August 2018}}</ref> See also [[Languages of the United Kingdom]]. Welsh has limited ''[[de jure]]'' official status in Wales, as well as in the provision of national government services provided for Wales.|group=note<!--(end #tag:)-->}}\n",
      "| languages2                = {{hlist\n",
      " <!--Anglo-->\n",
      "  | [[Scots language|Scots]]\n",
      "  | [[Ulster Scots dialects|Ulster Scots]]\n",
      " <!--Brittonic-->\n",
      "  | [[Welsh language|Welsh]]\n",
      "  | [[Cornish language|Cornish]]\n",
      " <!--Goidelic-->\n",
      "  | [[Scottish Gaelic]]<!--Keep \"Scottish Gaelic\"; people will find \"Gaelic\" confusing, as the Irish language is also commonly called \"Gaelic\"-->\n",
      "  | [[Irish language|Irish]]\n",
      "  }}\n",
      "| ethnic_groups                = {{ublist |item_style=white-space:nowrap;\n",
      "  | 87.1% [[White British|White]]<ref group=note>\"This category could include Polish responses from the country specific question for Scotland which would have been outputted to ‘Other White’ and then included under ‘White’ for UK ... ‘White Africans’ may also have been recorded under ‘Other White’ and then included under ‘White’ for UK.\"</ref>\n",
      "  | 7.0% [[British Asian|Asian]]\n",
      "  | 3.0% [[Black British|Black]]\n",
      "  | 2.0% [[Mixed (United Kingdom ethnicity category)|Mixed]]\n",
      "  | 0.9% others\n",
      "  }}\n",
      "| ethnic_groups_year                = [[United Kingdom Census 2011|2011]]\n",
      "| religion                = <!-- direct figures from ReligionUNdata reference -->{{ublist |item_style=white-space:nowrap;\n",
      "  | {{#expr:(37583962/63182178)*100 round 1}}% [[Christianity in the United Kingdom|Christian]]\n",
      "  | {{#expr:(16221509/63182178)*100 round 1}}% [[Irreligion in the United Kingdom|Irreligious]]\n",
      "  | {{#expr:( 2786635/63182178)*100 round 1}}% [[Islam in the United Kingdom|Muslim]]\n",
      "  | {{#expr:(  835418/63182178)*100 round 1}}% [[Hinduism in the United Kingdom|Hindu]]\n",
      "  | {{#expr:(  432429/63182178)*100 round 1}}% [[Sikhism in the United Kingdom|Sikh]]\n",
      "  | {{#expr:(  269568/63182178)*100 round 1}}% [[Judaism in the United Kingdom|Jewish]]\n",
      "  | {{#expr:(  261584/63182178)*100 round 1}}% [[Buddhism in the United Kingdom|Buddhist]]\n",
      "  | {{#expr:(  262750/63182178)*100 round 1}}% [[Religion in the United Kingdom|Other]]\n",
      "  | {{#expr:( 4528323/63182178)*100 round 1}}% Unknown\n",
      "  }}\n",
      "| religion_year                = [[United Kingdom Census 2011|2011]]<ref name=\"ReligionUNdata\">{{cite web |url=http://data.un.org/Data.aspx?d=POP&f=tableCode:28;countryCode:826&c=2,3,6,8,10,12,14,15,16&s=_countryEnglishNameOrderBy:asc,refYear:desc,areaCode:asc&v=1 |title=UNdata {{!}} record view {{!}} Population by religion, sex and urban/rural residence |website=data.un.org |accessdate=13 October 2018}}</ref><ref name=\"Philby\">{{cite news |last=Philby |first=Charlotte |title=Less religious and more ethnically diverse: Census reveals a picture of Britain today |url=https://www.independent.co.uk/news/uk/home-news/less-religious-and-more-ethnically-diverse-census-reveals-a-picture-of-britain-today-8406506.html |newspaper=[[The Independent]] |date=12 December 2012 |location=London}}</ref>\n",
      "| demonym                = {{hlist |[[British people|British]]|Briton}}\n",
      "| membership                = {{plainlist|\n",
      "* [[England]]\n",
      "* [[Scotland]]\n",
      "* [[Wales]]\n",
      "* [[Northern Ireland]]}}\n",
      "| membership_type                = Constituent countries\n",
      "| government_type                = [[Unitary state|Unitary]] [[parliamentary]]<br />[[constitutional monarchy]]\n",
      "| leader_title1                = [[Monarchy of the United Kingdom|Monarch]]\n",
      "| leader_name1                = [[Elizabeth&nbsp;II]]\n",
      "| leader_title2                = [[Prime Minister of the United Kingdom|Prime Minister]]\n",
      "| leader_name2                = [[Boris Johnson]]\n",
      "| legislature                = [[Parliament of the United Kingdom|Parliament]]\n",
      "| upper_house                = [[House of Lords]]\n",
      "| lower_house                = [[House of Commons of the United Kingdom|House of Commons]]\n",
      "| sovereignty_type                = [[History of the formation of the United Kingdom|Formation]]\n",
      "| established_event1                = [[Laws in Wales Acts]]\n",
      "| established_date1                = 1535 and 1542\n",
      "| established_event2                = [[Union of the Crowns]] under [[James VI and I]]\n",
      "| established_date2                = 24 March 1603\n",
      "| established_event3                = [[Acts of Union of England and Scotland]]\n",
      "| established_date3                = 1 May 1707\n",
      "| established_event4                = [[Acts of Union of Great Britain and Ireland]]\n",
      "| established_date4                = 1 January 1801\n",
      "| established_event5                = [[Irish Free State Constitution Act]]\n",
      "| established_date5                = 5 December 1922\n",
      "| established_event6                = [[Accession of the United Kingdom to the European Communities|Accession to the European Communities]]{{refn|group=note|[[European Union]] since 1993.}}\n",
      "| established_date6                = 1 January 1973\n",
      "| established_event7                = [[Brexit|Withdrawal from the European Union]]\n",
      "| established_date7                = 31 January 2020\n",
      "| area_km2                = 242495\n",
      "| area_footnote                = <ref>{{cite journal |url=http://unstats.un.org/unsd/demographic/products/dyb/dyb2012/Table03.pdf |title=Demographic Yearbook – Table 3: Population by sex, rate of population increase, surface area and density |publisher=United Nations Statistics Division |year=2012 |accessdate=9 August 2015}}</ref>\n",
      "| area_rank                = 78th\n",
      "| area_sq_mi                = 93628\n",
      "| percent_water                = 1.34\n",
      "| population_estimate                = {{increase}} 67,886,004<ref>{{Cite web|url=https://population.un.org/wpp/Download/Standard/Population/|title=World Population Prospects - Population Division - United Nations|website=population.un.org|access-date=2020-03-31}}</ref>\n",
      "| population_census                = 63,182,178<ref name=\"pop_census\">{{cite web |url=http://www.ons.gov.uk/ons/guide-method/census/2011/uk-census/index.html |title=2011 UK censuses |publisher=Office for National Statistics |accessdate=17 December 2012}}</ref>\n",
      "| population_estimate_year                = 2020\n",
      "| population_estimate_rank                = 21st\n",
      "| population_census_year                = 2011\n",
      "| population_census_rank                = 22nd\n",
      "| population_density_km2                = 270.7\n",
      "| population_density_sq_mi                = 701.2\n",
      "| population_density_rank                = 50th\n",
      "| GDP_PPP                = {{increase}} $3.131&nbsp;trillion<ref name=\"IMFWEOUK\">{{cite web |url=https://www.imf.org/external/pubs/ft/weo/2019/02/weodata/weorept.aspx?pr.x=14&pr.y=17&sy=2017&ey=2021&scsm=1&ssd=1&sort=country&ds=.&br=1&c=112&s=NGDPD%2CPPPGDP%2CNGDPDPC%2CPPPPC&grp=0&a= |title=World Economic Outlook Database, October 2019 |publisher=[[International Monetary Fund]] |website=IMF.org |accessdate=30 October 2019}}</ref>\n",
      "| GDP_PPP_year                = 2019\n",
      "| GDP_PPP_rank                = 9th\n",
      "| GDP_PPP_per_capita                = {{increase}} $46,827<ref name=\"IMFWEOUK\"/>\n",
      "| GDP_PPP_per_capita_rank                = 26th\n",
      "| GDP_nominal                = {{decrease}} $2.744&nbsp;trillion<ref name=\"IMFWEOUK\"/>\n",
      "| GDP_nominal_year                = 2019\n",
      "| GDP_nominal_rank                = 6th\n",
      "| GDP_nominal_per_capita                = {{decrease}} $41,030<ref name=\"IMFWEOUK\"/>\n",
      "| GDP_nominal_per_capita_rank                = 20th\n",
      "| Gini                = 33.1\n",
      "| Gini_year                = 2017\n",
      "| Gini_change                = increase\n",
      "| Gini_ref                = <ref name=\"eurogini\">{{cite web |url=https://ec.europa.eu/eurostat/tgm/table.do?tab=table&init=1&language=en&pcode=tessi190&plugin=1 |title=Gini coefficient of equivalised disposable income - EU-SILC survey |publisher=[[Eurostat]] |website=ec.europa.eu |access-date=7 March 2019}}</ref>\n",
      "| Gini_rank                = 33rd\n",
      "| HDI                = 0.920<!--number only-->\n",
      "| HDI_year                = 2018<!-- Please use the year to which the data refers, not the publication year-->\n",
      "| HDI_change                = increase<!--increase/decrease/steady-->\n",
      "| HDI_ref                = <ref>{{cite web |url=http://hdr.undp.org/sites/default/files/hdr2019.pdf |title=Human Development Report 2019 |publisher=United Nations Development Programme |date=2019 |accessdate=9 December 2019}}</ref>\n",
      "| HDI_rank                = 15th\n",
      "| currency                = [[Pound&nbsp;sterling]]<ref group=note>Some of the devolved countries, Crown dependencies and British Overseas Territories issue their own sterling banknotes or currencies, or use another nation's currency. See [[List of British currencies]] for more information</ref>\n",
      "| currency_code                = GBP\n",
      "| utc_offset                = {{sp}}\n",
      "| time_zone                = [[Greenwich Mean Time]], [[Western European Time|WET]]\n",
      "| utc_offset_DST                = +1\n",
      "| time_zone_DST                = [[British Summer Time]], [[Western European Summer Time|WEST]]\n",
      "| DST_note                = <ref group=note>Also in observed by the [[Crown dependencies]], and in the two British Overseas Territories of [[Gibraltar]] and [[Saint Helena, Ascension and Tristan da Cunha]] (though in the latter, without daylight saving time). For further information see [[Time in the United Kingdom#British territories]]</ref>\n",
      "| date_format                = {{abbr|dd|day}}/{{abbr|mm|month}}/{{abbr|yyyy|year}}<br />{{abbr|yyyy|year}}-{{abbr|mm|month}}-{{abbr|dd|day}}&nbsp;([[Anno Domini|AD]])\n",
      "| electricity                = 230 V–50 Hz\n",
      "| drives_on                = [[Left- and right-hand traffic|left]]<ref group=note>Except two overseas territories, [[Gibraltar]], the [[British Indian Ocean Territory]] and [[Savoy Court]] in London.</ref>\n",
      "| calling_code                = [[Telephone numbers in the United Kingdom|+44]]<ref group=note>[[Telephone numbers in the United Kingdom#Telephone numbers in Overseas Territories|Excludes most overseas territories]]</ref>\n",
      "| cctld                = [[.uk]]<ref group=note>The [[.gb]] domain is also reserved for the UK, but has been little used.</ref>\n",
      "| today                = \n"
     ]
    }
   ],
   "source": [
    "\n",
    "# {{Infobox country\n",
    "# | common_name               = United Kingdom\n",
    "# | linking_name              = the United Kingdom<!--Note: \"the\" required here as this entry used to create wikilinks-->\n",
    "# | conventional_long_name    = United Kingdom of Great Britain and Northern Ireland\n",
    "info = re.findall(r\"\\{\\{Infobox country(.*?)\\n\\}\\}\", articleUK, re.MULTILINE+re.DOTALL)\n",
    "print(info[0])"
   ]
  },
  {
   "cell_type": "code",
   "execution_count": 72,
   "metadata": {},
   "outputs": [
    {
     "data": {
      "text/plain": [
       "{'common_name': 'United Kingdom',\n",
       " 'linking_name': 'the United Kingdom<!--Note: \"the\" required here as this entry used to create wikilinks-->',\n",
       " 'conventional_long_name': 'United Kingdom of Great Britain and Northern Ireland',\n",
       " 'image_flag': 'Flag of the United Kingdom.svg',\n",
       " 'alt_flag': 'A flag featuring both cross and saltire in red, white and blue',\n",
       " 'other_symbol': '[[File:Royal Coat of Arms of the United Kingdom.svg|x100px]][[File:Royal Coat of Arms of the United Kingdom (Scotland).svg|x100px]]',\n",
       " 'other_symbol_type': '[[Royal coat of arms of the United Kingdom|Royal coats of arms]]:{{#tag:ref |The coat of arms on the left is used in England, Northern Ireland, and Wales; the version on the right is used in Scotland|group=note}}',\n",
       " 'national_anthem': '\"[[God Save the Queen]]\"{{#tag:ref |There is no authorised version of the national anthem as the words are a matter of tradition; only the first verse is usually sung.<ref>{{cite web |title=National Anthem |url=https://www.royal.uk/national-anthem |website=Official web site of the British Royal Family |accessdate=4 June 2016|date=15 January 2016 }}</ref> No law was passed making \"God Save the Queen\" the official anthem. In the English tradition, such laws are not necessary; proclamation and usage are sufficient to make it the national anthem. \"God Save the Queen\" also serves as the [[Honors music|Royal anthem]] for certain [[Commonwealth realms]]. The words \\'\\'Queen, she, her\\'\\', used at present (in the reign of Elizabeth II), are replaced by \\'\\'King, he, him\\'\\' when the monarch is male. |group=note}}',\n",
       " 'image_map': '{{Switcher|[[File:Europe-UK (orthographic projection).svg|frameless]]|Show globe|[[File:Europe-UK.svg|upright=1.15|frameless]]|Show map of Europe|default=1}}',\n",
       " 'map_caption': '{{map_caption |countryprefix=the |location_color=dark green |region=Europe |region_color=dark grey}}',\n",
       " 'image_map2': '{{collapsible list',\n",
       " 'capital': '[[London]]',\n",
       " 'coordinates': '{{coord|51|30|N|0|7|W|type:city}}',\n",
       " 'largest_city': 'capital',\n",
       " 'languages_type': 'Official language<br /> {{nobold|and national language}}',\n",
       " 'languages': '[[English language|English]]<!--Note: Just English, don\\'t add \"British English\"-->',\n",
       " 'languages2_type': 'Regional and minority languages{{#tag:ref |Scots, Ulster Scots, Welsh, Cornish, Scottish Gaelic and Irish are classed as [[Regional language|regional]] or [[Minority language|minority]] languages under the [[Council of Europe]]\\'s [[European Charter for Regional or Minority Languages]]. <ref name=\"reglang\">{{cite web |url=http://conventions.coe.int/treaty/Commun/ListeDeclarations.asp?CL=ENG&NT=148&VL=1 |title=List of declarations made with respect to treaty No. 148 |publisher=[[Council of Europe]] |accessdate=12 December 2013}}</ref> These include defined obligations to promote those languages.<ref>{{cite web |url=https://www.gov.uk/guidance/content-design/welsh-language-on-gov-uk|title=Welsh language on GOV.UK – Content design: planning, writing and managing content – Guidance |website=www.gov.uk |accessdate=3 August 2018}}</ref><ref>{{cite news |url=https://www.gov.uk/government/organisations/department-for-transport/about/welsh-language-scheme |title=Welsh language scheme |work=GOV.UK |accessdate=3 August 2018}}</ref><ref>{{cite news |url=https://www.gov.uk/government/organisations/home-office/about/welsh-language-scheme |title=Welsh language scheme |work=GOV.UK |accessdate=3 August 2018}}</ref> See also [[Languages of the United Kingdom]]. Welsh has limited \\'\\'[[de jure]]\\'\\' official status in Wales, as well as in the provision of national government services provided for Wales.|group=note<!--(end #tag:)-->}}',\n",
       " 'languages2': '{{hlist',\n",
       " 'ethnic_groups': '{{ublist |item_style=white-space:nowrap;',\n",
       " 'ethnic_groups_year': '[[United Kingdom Census 2011|2011]]',\n",
       " 'religion': '<!-- direct figures from ReligionUNdata reference -->{{ublist |item_style=white-space:nowrap;',\n",
       " 'religion_year': '[[United Kingdom Census 2011|2011]]<ref name=\"ReligionUNdata\">{{cite web |url=http://data.un.org/Data.aspx?d=POP&f=tableCode:28;countryCode:826&c=2,3,6,8,10,12,14,15,16&s=_countryEnglishNameOrderBy:asc,refYear:desc,areaCode:asc&v=1 |title=UNdata {{!}} record view {{!}} Population by religion, sex and urban/rural residence |website=data.un.org |accessdate=13 October 2018}}</ref><ref name=\"Philby\">{{cite news |last=Philby |first=Charlotte |title=Less religious and more ethnically diverse: Census reveals a picture of Britain today |url=https://www.independent.co.uk/news/uk/home-news/less-religious-and-more-ethnically-diverse-census-reveals-a-picture-of-britain-today-8406506.html |newspaper=[[The Independent]] |date=12 December 2012 |location=London}}</ref>',\n",
       " 'demonym': '{{hlist |[[British people|British]]|Briton}}',\n",
       " 'membership': '{{plainlist|',\n",
       " 'membership_type': 'Constituent countries',\n",
       " 'government_type': '[[Unitary state|Unitary]] [[parliamentary]]<br />[[constitutional monarchy]]',\n",
       " 'leader_title1': '[[Monarchy of the United Kingdom|Monarch]]',\n",
       " 'leader_name1': '[[Elizabeth&nbsp;II]]',\n",
       " 'leader_title2': '[[Prime Minister of the United Kingdom|Prime Minister]]',\n",
       " 'leader_name2': '[[Boris Johnson]]',\n",
       " 'legislature': '[[Parliament of the United Kingdom|Parliament]]',\n",
       " 'upper_house': '[[House of Lords]]',\n",
       " 'lower_house': '[[House of Commons of the United Kingdom|House of Commons]]',\n",
       " 'sovereignty_type': '[[History of the formation of the United Kingdom|Formation]]',\n",
       " 'established_event1': '[[Laws in Wales Acts]]',\n",
       " 'established_date1': '1535 and 1542',\n",
       " 'established_event2': '[[Union of the Crowns]] under [[James VI and I]]',\n",
       " 'established_date2': '24 March 1603',\n",
       " 'established_event3': '[[Acts of Union of England and Scotland]]',\n",
       " 'established_date3': '1 May 1707',\n",
       " 'established_event4': '[[Acts of Union of Great Britain and Ireland]]',\n",
       " 'established_date4': '1 January 1801',\n",
       " 'established_event5': '[[Irish Free State Constitution Act]]',\n",
       " 'established_date5': '5 December 1922',\n",
       " 'established_event6': '[[Accession of the United Kingdom to the European Communities|Accession to the European Communities]]{{refn|group=note|[[European Union]] since 1993.}}',\n",
       " 'established_date6': '1 January 1973',\n",
       " 'established_event7': '[[Brexit|Withdrawal from the European Union]]',\n",
       " 'established_date7': '31 January 2020',\n",
       " 'area_km2': '242495',\n",
       " 'area_footnote': '<ref>{{cite journal |url=http://unstats.un.org/unsd/demographic/products/dyb/dyb2012/Table03.pdf |title=Demographic Yearbook – Table 3: Population by sex, rate of population increase, surface area and density |publisher=United Nations Statistics Division |year=2012 |accessdate=9 August 2015}}</ref>',\n",
       " 'area_rank': '78th',\n",
       " 'area_sq_mi': '93628',\n",
       " 'percent_water': '1.34',\n",
       " 'population_estimate': '{{increase}} 67,886,004<ref>{{Cite web|url=https://population.un.org/wpp/Download/Standard/Population/|title=World Population Prospects - Population Division - United Nations|website=population.un.org|access-date=2020-03-31}}</ref>',\n",
       " 'population_census': '63,182,178<ref name=\"pop_census\">{{cite web |url=http://www.ons.gov.uk/ons/guide-method/census/2011/uk-census/index.html |title=2011 UK censuses |publisher=Office for National Statistics |accessdate=17 December 2012}}</ref>',\n",
       " 'population_estimate_year': '2020',\n",
       " 'population_estimate_rank': '21st',\n",
       " 'population_census_year': '2011',\n",
       " 'population_census_rank': '22nd',\n",
       " 'population_density_km2': '270.7',\n",
       " 'population_density_sq_mi': '701.2',\n",
       " 'population_density_rank': '50th',\n",
       " 'GDP_PPP': '{{increase}} $3.131&nbsp;trillion<ref name=\"IMFWEOUK\">{{cite web |url=https://www.imf.org/external/pubs/ft/weo/2019/02/weodata/weorept.aspx?pr.x=14&pr.y=17&sy=2017&ey=2021&scsm=1&ssd=1&sort=country&ds=.&br=1&c=112&s=NGDPD%2CPPPGDP%2CNGDPDPC%2CPPPPC&grp=0&a= |title=World Economic Outlook Database, October 2019 |publisher=[[International Monetary Fund]] |website=IMF.org |accessdate=30 October 2019}}</ref>',\n",
       " 'GDP_PPP_year': '2019',\n",
       " 'GDP_PPP_rank': '9th',\n",
       " 'GDP_PPP_per_capita': '{{increase}} $46,827<ref name=\"IMFWEOUK\"/>',\n",
       " 'GDP_PPP_per_capita_rank': '26th',\n",
       " 'GDP_nominal': '{{decrease}} $2.744&nbsp;trillion<ref name=\"IMFWEOUK\"/>',\n",
       " 'GDP_nominal_year': '2019',\n",
       " 'GDP_nominal_rank': '6th',\n",
       " 'GDP_nominal_per_capita': '{{decrease}} $41,030<ref name=\"IMFWEOUK\"/>',\n",
       " 'GDP_nominal_per_capita_rank': '20th',\n",
       " 'Gini': '33.1',\n",
       " 'Gini_year': '2017',\n",
       " 'Gini_change': 'increase',\n",
       " 'Gini_ref': '<ref name=\"eurogini\">{{cite web |url=https://ec.europa.eu/eurostat/tgm/table.do?tab=table&init=1&language=en&pcode=tessi190&plugin=1 |title=Gini coefficient of equivalised disposable income - EU-SILC survey |publisher=[[Eurostat]] |website=ec.europa.eu |access-date=7 March 2019}}</ref>',\n",
       " 'Gini_rank': '33rd',\n",
       " 'HDI': '0.920<!--number only-->',\n",
       " 'HDI_year': '2018<!-- Please use the year to which the data refers, not the publication year-->',\n",
       " 'HDI_change': 'increase<!--increase/decrease/steady-->',\n",
       " 'HDI_ref': '<ref>{{cite web |url=http://hdr.undp.org/sites/default/files/hdr2019.pdf |title=Human Development Report 2019 |publisher=United Nations Development Programme |date=2019 |accessdate=9 December 2019}}</ref>',\n",
       " 'HDI_rank': '15th',\n",
       " 'currency': \"[[Pound&nbsp;sterling]]<ref group=note>Some of the devolved countries, Crown dependencies and British Overseas Territories issue their own sterling banknotes or currencies, or use another nation's currency. See [[List of British currencies]] for more information</ref>\",\n",
       " 'currency_code': 'GBP',\n",
       " 'utc_offset': '{{sp}}',\n",
       " 'time_zone': '[[Greenwich Mean Time]], [[Western European Time|WET]]',\n",
       " 'utc_offset_DST': '+1',\n",
       " 'time_zone_DST': '[[British Summer Time]], [[Western European Summer Time|WEST]]',\n",
       " 'DST_note': '<ref group=note>Also in observed by the [[Crown dependencies]], and in the two British Overseas Territories of [[Gibraltar]] and [[Saint Helena, Ascension and Tristan da Cunha]] (though in the latter, without daylight saving time). For further information see [[Time in the United Kingdom#British territories]]</ref>',\n",
       " 'date_format': '{{abbr|dd|day}}/{{abbr|mm|month}}/{{abbr|yyyy|year}}<br />{{abbr|yyyy|year}}-{{abbr|mm|month}}-{{abbr|dd|day}}&nbsp;([[Anno Domini|AD]])',\n",
       " 'electricity': '230 V–50 Hz',\n",
       " 'drives_on': '[[Left- and right-hand traffic|left]]<ref group=note>Except two overseas territories, [[Gibraltar]], the [[British Indian Ocean Territory]] and [[Savoy Court]] in London.</ref>',\n",
       " 'calling_code': '[[Telephone numbers in the United Kingdom|+44]]<ref group=note>[[Telephone numbers in the United Kingdom#Telephone numbers in Overseas Territories|Excludes most overseas territories]]</ref>',\n",
       " 'cctld': '[[.uk]]<ref group=note>The [[.gb]] domain is also reserved for the UK, but has been little used.</ref>',\n",
       " 'today': ''}"
      ]
     },
     "execution_count": 72,
     "metadata": {},
     "output_type": "execute_result"
    }
   ],
   "source": [
    "fields = re.findall(r'^\\|\\s(.*?)\\s*=\\s*(.*?)(?:(?=\\n\\|)|(?=$))', info[0], re.MULTILINE+re.DOTALL)\n",
    "fields_dict = dict(fields)\n",
    "fields_dict"
   ]
  },
  {
   "cell_type": "markdown",
   "metadata": {},
   "source": [
    "### 26. 強調マークアップの除去"
   ]
  },
  {
   "cell_type": "markdown",
   "metadata": {},
   "source": [
    "25の処理時に，テンプレートの値からMediaWikiの強調マークアップ（弱い強調，強調，強い強調のすべて）を除去してテキストに変換せよ（参考: マークアップ早見表）．"
   ]
  },
  {
   "cell_type": "code",
   "execution_count": 84,
   "metadata": {},
   "outputs": [
    {
     "data": {
      "text/plain": [
       "{'common_name': 'United Kingdom',\n",
       " 'linking_name': 'the United Kingdom<!--Note: \"the\" required here as this entry used to create wikilinks-->',\n",
       " 'conventional_long_name': 'United Kingdom of Great Britain and Northern Ireland',\n",
       " 'image_flag': 'Flag of the United Kingdom.svg',\n",
       " 'alt_flag': 'A flag featuring both cross and saltire in red, white and blue',\n",
       " 'other_symbol': '[[File:Royal Coat of Arms of the United Kingdom.svg|x100px]][[File:Royal Coat of Arms of the United Kingdom (Scotland).svg|x100px]]',\n",
       " 'other_symbol_type': '[[Royal coat of arms of the United Kingdom|Royal coats of arms]]:{{#tag:ref |The coat of arms on the left is used in England, Northern Ireland, and Wales; the version on the right is used in Scotland|group=note}}',\n",
       " 'national_anthem': '\"[[God Save the Queen]]\"{{#tag:ref |There is no authorised version of the national anthem as the words are a matter of tradition; only the first verse is usually sung.<ref>{{cite web |title=National Anthem |url=https://www.royal.uk/national-anthem |website=Official web site of the British Royal Family |accessdate=4 June 2016|date=15 January 2016 }}</ref> No law was passed making \"God Save the Queen\" the official anthem. In the English tradition, such laws are not necessary; proclamation and usage are sufficient to make it the national anthem. \"God Save the Queen\" also serves as the [[Honors music|Royal anthem]] for certain [[Commonwealth realms]]. The words Queen, she, her, used at present (in the reign of Elizabeth II), are replaced by King, he, him when the monarch is male. |group=note}}',\n",
       " 'image_map': '{{Switcher|[[File:Europe-UK (orthographic projection).svg|frameless]]|Show globe|[[File:Europe-UK.svg|upright=1.15|frameless]]|Show map of Europe|default=1}}',\n",
       " 'map_caption': '{{map_caption |countryprefix=the |location_color=dark green |region=Europe |region_color=dark grey}}',\n",
       " 'image_map2': '{{collapsible list',\n",
       " 'capital': '[[London]]',\n",
       " 'coordinates': '{{coord|51|30|N|0|7|W|type:city}}',\n",
       " 'largest_city': 'capital',\n",
       " 'languages_type': 'Official language<br /> {{nobold|and national language}}',\n",
       " 'languages': '[[English language|English]]<!--Note: Just English, don\\'t add \"British English\"-->',\n",
       " 'languages2_type': 'Regional and minority languages{{#tag:ref |Scots, Ulster Scots, Welsh, Cornish, Scottish Gaelic and Irish are classed as [[Regional language|regional]] or [[Minority language|minority]] languages under the [[Council of Europe]]\\'s [[European Charter for Regional or Minority Languages]]. <ref name=\"reglang\">{{cite web |url=http://conventions.coe.int/treaty/Commun/ListeDeclarations.asp?CL=ENG&NT=148&VL=1 |title=List of declarations made with respect to treaty No. 148 |publisher=[[Council of Europe]] |accessdate=12 December 2013}}</ref> These include defined obligations to promote those languages.<ref>{{cite web |url=https://www.gov.uk/guidance/content-design/welsh-language-on-gov-uk|title=Welsh language on GOV.UK – Content design: planning, writing and managing content – Guidance |website=www.gov.uk |accessdate=3 August 2018}}</ref><ref>{{cite news |url=https://www.gov.uk/government/organisations/department-for-transport/about/welsh-language-scheme |title=Welsh language scheme |work=GOV.UK |accessdate=3 August 2018}}</ref><ref>{{cite news |url=https://www.gov.uk/government/organisations/home-office/about/welsh-language-scheme |title=Welsh language scheme |work=GOV.UK |accessdate=3 August 2018}}</ref> See also [[Languages of the United Kingdom]]. Welsh has limited [[de jure]] official status in Wales, as well as in the provision of national government services provided for Wales.|group=note<!--(end #tag:)-->}}',\n",
       " 'languages2': '{{hlist',\n",
       " 'ethnic_groups': '{{ublist |item_style=white-space:nowrap;',\n",
       " 'ethnic_groups_year': '[[United Kingdom Census 2011|2011]]',\n",
       " 'religion': '<!-- direct figures from ReligionUNdata reference -->{{ublist |item_style=white-space:nowrap;',\n",
       " 'religion_year': '[[United Kingdom Census 2011|2011]]<ref name=\"ReligionUNdata\">{{cite web |url=http://data.un.org/Data.aspx?d=POP&f=tableCode:28;countryCode:826&c=2,3,6,8,10,12,14,15,16&s=_countryEnglishNameOrderBy:asc,refYear:desc,areaCode:asc&v=1 |title=UNdata {{!}} record view {{!}} Population by religion, sex and urban/rural residence |website=data.un.org |accessdate=13 October 2018}}</ref><ref name=\"Philby\">{{cite news |last=Philby |first=Charlotte |title=Less religious and more ethnically diverse: Census reveals a picture of Britain today |url=https://www.independent.co.uk/news/uk/home-news/less-religious-and-more-ethnically-diverse-census-reveals-a-picture-of-britain-today-8406506.html |newspaper=[[The Independent]] |date=12 December 2012 |location=London}}</ref>',\n",
       " 'demonym': '{{hlist |[[British people|British]]|Briton}}',\n",
       " 'membership': '{{plainlist|',\n",
       " 'membership_type': 'Constituent countries',\n",
       " 'government_type': '[[Unitary state|Unitary]] [[parliamentary]]<br />[[constitutional monarchy]]',\n",
       " 'leader_title1': '[[Monarchy of the United Kingdom|Monarch]]',\n",
       " 'leader_name1': '[[Elizabeth&nbsp;II]]',\n",
       " 'leader_title2': '[[Prime Minister of the United Kingdom|Prime Minister]]',\n",
       " 'leader_name2': '[[Boris Johnson]]',\n",
       " 'legislature': '[[Parliament of the United Kingdom|Parliament]]',\n",
       " 'upper_house': '[[House of Lords]]',\n",
       " 'lower_house': '[[House of Commons of the United Kingdom|House of Commons]]',\n",
       " 'sovereignty_type': '[[History of the formation of the United Kingdom|Formation]]',\n",
       " 'established_event1': '[[Laws in Wales Acts]]',\n",
       " 'established_date1': '1535 and 1542',\n",
       " 'established_event2': '[[Union of the Crowns]] under [[James VI and I]]',\n",
       " 'established_date2': '24 March 1603',\n",
       " 'established_event3': '[[Acts of Union of England and Scotland]]',\n",
       " 'established_date3': '1 May 1707',\n",
       " 'established_event4': '[[Acts of Union of Great Britain and Ireland]]',\n",
       " 'established_date4': '1 January 1801',\n",
       " 'established_event5': '[[Irish Free State Constitution Act]]',\n",
       " 'established_date5': '5 December 1922',\n",
       " 'established_event6': '[[Accession of the United Kingdom to the European Communities|Accession to the European Communities]]{{refn|group=note|[[European Union]] since 1993.}}',\n",
       " 'established_date6': '1 January 1973',\n",
       " 'established_event7': '[[Brexit|Withdrawal from the European Union]]',\n",
       " 'established_date7': '31 January 2020',\n",
       " 'area_km2': '242495',\n",
       " 'area_footnote': '<ref>{{cite journal |url=http://unstats.un.org/unsd/demographic/products/dyb/dyb2012/Table03.pdf |title=Demographic Yearbook – Table 3: Population by sex, rate of population increase, surface area and density |publisher=United Nations Statistics Division |year=2012 |accessdate=9 August 2015}}</ref>',\n",
       " 'area_rank': '78th',\n",
       " 'area_sq_mi': '93628',\n",
       " 'percent_water': '1.34',\n",
       " 'population_estimate': '{{increase}} 67,886,004<ref>{{Cite web|url=https://population.un.org/wpp/Download/Standard/Population/|title=World Population Prospects - Population Division - United Nations|website=population.un.org|access-date=2020-03-31}}</ref>',\n",
       " 'population_census': '63,182,178<ref name=\"pop_census\">{{cite web |url=http://www.ons.gov.uk/ons/guide-method/census/2011/uk-census/index.html |title=2011 UK censuses |publisher=Office for National Statistics |accessdate=17 December 2012}}</ref>',\n",
       " 'population_estimate_year': '2020',\n",
       " 'population_estimate_rank': '21st',\n",
       " 'population_census_year': '2011',\n",
       " 'population_census_rank': '22nd',\n",
       " 'population_density_km2': '270.7',\n",
       " 'population_density_sq_mi': '701.2',\n",
       " 'population_density_rank': '50th',\n",
       " 'GDP_PPP': '{{increase}} $3.131&nbsp;trillion<ref name=\"IMFWEOUK\">{{cite web |url=https://www.imf.org/external/pubs/ft/weo/2019/02/weodata/weorept.aspx?pr.x=14&pr.y=17&sy=2017&ey=2021&scsm=1&ssd=1&sort=country&ds=.&br=1&c=112&s=NGDPD%2CPPPGDP%2CNGDPDPC%2CPPPPC&grp=0&a= |title=World Economic Outlook Database, October 2019 |publisher=[[International Monetary Fund]] |website=IMF.org |accessdate=30 October 2019}}</ref>',\n",
       " 'GDP_PPP_year': '2019',\n",
       " 'GDP_PPP_rank': '9th',\n",
       " 'GDP_PPP_per_capita': '{{increase}} $46,827<ref name=\"IMFWEOUK\"/>',\n",
       " 'GDP_PPP_per_capita_rank': '26th',\n",
       " 'GDP_nominal': '{{decrease}} $2.744&nbsp;trillion<ref name=\"IMFWEOUK\"/>',\n",
       " 'GDP_nominal_year': '2019',\n",
       " 'GDP_nominal_rank': '6th',\n",
       " 'GDP_nominal_per_capita': '{{decrease}} $41,030<ref name=\"IMFWEOUK\"/>',\n",
       " 'GDP_nominal_per_capita_rank': '20th',\n",
       " 'Gini': '33.1',\n",
       " 'Gini_year': '2017',\n",
       " 'Gini_change': 'increase',\n",
       " 'Gini_ref': '<ref name=\"eurogini\">{{cite web |url=https://ec.europa.eu/eurostat/tgm/table.do?tab=table&init=1&language=en&pcode=tessi190&plugin=1 |title=Gini coefficient of equivalised disposable income - EU-SILC survey |publisher=[[Eurostat]] |website=ec.europa.eu |access-date=7 March 2019}}</ref>',\n",
       " 'Gini_rank': '33rd',\n",
       " 'HDI': '0.920<!--number only-->',\n",
       " 'HDI_year': '2018<!-- Please use the year to which the data refers, not the publication year-->',\n",
       " 'HDI_change': 'increase<!--increase/decrease/steady-->',\n",
       " 'HDI_ref': '<ref>{{cite web |url=http://hdr.undp.org/sites/default/files/hdr2019.pdf |title=Human Development Report 2019 |publisher=United Nations Development Programme |date=2019 |accessdate=9 December 2019}}</ref>',\n",
       " 'HDI_rank': '15th',\n",
       " 'currency': \"[[Pound&nbsp;sterling]]<ref group=note>Some of the devolved countries, Crown dependencies and British Overseas Territories issue their own sterling banknotes or currencies, or use another nation's currency. See [[List of British currencies]] for more information</ref>\",\n",
       " 'currency_code': 'GBP',\n",
       " 'utc_offset': '{{sp}}',\n",
       " 'time_zone': '[[Greenwich Mean Time]], [[Western European Time|WET]]',\n",
       " 'utc_offset_DST': '+1',\n",
       " 'time_zone_DST': '[[British Summer Time]], [[Western European Summer Time|WEST]]',\n",
       " 'DST_note': '<ref group=note>Also in observed by the [[Crown dependencies]], and in the two British Overseas Territories of [[Gibraltar]] and [[Saint Helena, Ascension and Tristan da Cunha]] (though in the latter, without daylight saving time). For further information see [[Time in the United Kingdom#British territories]]</ref>',\n",
       " 'date_format': '{{abbr|dd|day}}/{{abbr|mm|month}}/{{abbr|yyyy|year}}<br />{{abbr|yyyy|year}}-{{abbr|mm|month}}-{{abbr|dd|day}}&nbsp;([[Anno Domini|AD]])',\n",
       " 'electricity': '230 V–50 Hz',\n",
       " 'drives_on': '[[Left- and right-hand traffic|left]]<ref group=note>Except two overseas territories, [[Gibraltar]], the [[British Indian Ocean Territory]] and [[Savoy Court]] in London.</ref>',\n",
       " 'calling_code': '[[Telephone numbers in the United Kingdom|+44]]<ref group=note>[[Telephone numbers in the United Kingdom#Telephone numbers in Overseas Territories|Excludes most overseas territories]]</ref>',\n",
       " 'cctld': '[[.uk]]<ref group=note>The [[.gb]] domain is also reserved for the UK, but has been little used.</ref>',\n",
       " 'today': ''}"
      ]
     },
     "execution_count": 84,
     "metadata": {},
     "output_type": "execute_result"
    }
   ],
   "source": [
    "info_noemphasize = re.sub(r\"\\'{2,}\",r\"\",info[0])\n",
    "fields_noemphasize = re.findall(r'^\\|\\s(.*?)\\s*=\\s*(.*?)(?:(?=\\n\\|)|(?=$))', info_noemphasize, re.MULTILINE+re.DOTALL)\n",
    "dict(fields_noemphasize)"
   ]
  },
  {
   "cell_type": "markdown",
   "metadata": {},
   "source": [
    "### 27. 内部リンクの除去"
   ]
  },
  {
   "cell_type": "markdown",
   "metadata": {},
   "source": [
    "26の処理に加えて，テンプレートの値からMediaWikiの内部リンクマークアップを除去し，テキストに変換せよ（参考: マークアップ早見表）．"
   ]
  },
  {
   "cell_type": "code",
   "execution_count": 95,
   "metadata": {},
   "outputs": [
    {
     "data": {
      "text/plain": [
       "{'common_name': 'United Kingdom',\n",
       " 'linking_name': 'the United Kingdom<!--Note: \"the\" required here as this entry used to create wikilinks-->',\n",
       " 'conventional_long_name': 'United Kingdom of Great Britain and Northern Ireland',\n",
       " 'image_flag': 'Flag of the United Kingdom.svg',\n",
       " 'alt_flag': 'A flag featuring both cross and saltire in red, white and blue',\n",
       " 'other_symbol': 'x100pxx100px',\n",
       " 'other_symbol_type': 'Royal coats of arms:{{#tag:ref |The coat of arms on the left is used in England, Northern Ireland, and Wales; the version on the right is used in Scotland|group=note}}',\n",
       " 'national_anthem': '\"God Save the Queen\"{{#tag:ref |There is no authorised version of the national anthem as the words are a matter of tradition; only the first verse is usually sung.<ref>{{cite web |title=National Anthem |url=https://www.royal.uk/national-anthem |website=Official web site of the British Royal Family |accessdate=4 June 2016|date=15 January 2016 }}</ref> No law was passed making \"God Save the Queen\" the official anthem. In the English tradition, such laws are not necessary; proclamation and usage are sufficient to make it the national anthem. \"God Save the Queen\" also serves as the Royal anthem for certain Commonwealth realms. The words Queen, she, her, used at present (in the reign of Elizabeth II), are replaced by King, he, him when the monarch is male. |group=note}}',\n",
       " 'image_map': '{{Switcher|frameless|Show globe|[[File:Europe-UK.svg|upright=1.15|frameless]]|Show map of Europe|default=1}}',\n",
       " 'map_caption': '{{map_caption |countryprefix=the |location_color=dark green |region=Europe |region_color=dark grey}}',\n",
       " 'image_map2': '{{collapsible list',\n",
       " 'capital': 'London',\n",
       " 'coordinates': '{{coord|51|30|N|0|7|W|type:city}}',\n",
       " 'largest_city': 'capital',\n",
       " 'languages_type': 'Official language<br /> {{nobold|and national language}}',\n",
       " 'languages': 'English<!--Note: Just English, don\\'t add \"British English\"-->',\n",
       " 'languages2_type': 'Regional and minority languages{{#tag:ref |Scots, Ulster Scots, Welsh, Cornish, Scottish Gaelic and Irish are classed as regional or minority languages under the Council of Europe\\'s European Charter for Regional or Minority Languages. <ref name=\"reglang\">{{cite web |url=http://conventions.coe.int/treaty/Commun/ListeDeclarations.asp?CL=ENG&NT=148&VL=1 |title=List of declarations made with respect to treaty No. 148 |publisher=Council of Europe |accessdate=12 December 2013}}</ref> These include defined obligations to promote those languages.<ref>{{cite web |url=https://www.gov.uk/guidance/content-design/welsh-language-on-gov-uk|title=Welsh language on GOV.UK – Content design: planning, writing and managing content – Guidance |website=www.gov.uk |accessdate=3 August 2018}}</ref><ref>{{cite news |url=https://www.gov.uk/government/organisations/department-for-transport/about/welsh-language-scheme |title=Welsh language scheme |work=GOV.UK |accessdate=3 August 2018}}</ref><ref>{{cite news |url=https://www.gov.uk/government/organisations/home-office/about/welsh-language-scheme |title=Welsh language scheme |work=GOV.UK |accessdate=3 August 2018}}</ref> See also Languages of the United Kingdom. Welsh has limited de jure official status in Wales, as well as in the provision of national government services provided for Wales.|group=note<!--(end #tag:)-->}}',\n",
       " 'languages2': '{{hlist',\n",
       " 'ethnic_groups': '{{ublist |item_style=white-space:nowrap;',\n",
       " 'ethnic_groups_year': '2011',\n",
       " 'religion': '<!-- direct figures from ReligionUNdata reference -->{{ublist |item_style=white-space:nowrap;',\n",
       " 'religion_year': '2011<ref name=\"ReligionUNdata\">{{cite web |url=http://data.un.org/Data.aspx?d=POP&f=tableCode:28;countryCode:826&c=2,3,6,8,10,12,14,15,16&s=_countryEnglishNameOrderBy:asc,refYear:desc,areaCode:asc&v=1 |title=UNdata {{!}} record view {{!}} Population by religion, sex and urban/rural residence |website=data.un.org |accessdate=13 October 2018}}</ref><ref name=\"Philby\">{{cite news |last=Philby |first=Charlotte |title=Less religious and more ethnically diverse: Census reveals a picture of Britain today |url=https://www.independent.co.uk/news/uk/home-news/less-religious-and-more-ethnically-diverse-census-reveals-a-picture-of-britain-today-8406506.html |newspaper=The Independent |date=12 December 2012 |location=London}}</ref>',\n",
       " 'demonym': '{{hlist |British|Briton}}',\n",
       " 'membership': '{{plainlist|',\n",
       " 'membership_type': 'Constituent countries',\n",
       " 'government_type': 'Unitary parliamentary<br />constitutional monarchy',\n",
       " 'leader_title1': 'Monarch',\n",
       " 'leader_name1': 'Elizabeth&nbsp;II',\n",
       " 'leader_title2': 'Prime Minister',\n",
       " 'leader_name2': 'Boris Johnson',\n",
       " 'legislature': 'Parliament',\n",
       " 'upper_house': 'House of Lords',\n",
       " 'lower_house': 'House of Commons',\n",
       " 'sovereignty_type': 'Formation',\n",
       " 'established_event1': 'Laws in Wales Acts',\n",
       " 'established_date1': '1535 and 1542',\n",
       " 'established_event2': 'Union of the Crowns under James VI and I',\n",
       " 'established_date2': '24 March 1603',\n",
       " 'established_event3': 'Acts of Union of England and Scotland',\n",
       " 'established_date3': '1 May 1707',\n",
       " 'established_event4': 'Acts of Union of Great Britain and Ireland',\n",
       " 'established_date4': '1 January 1801',\n",
       " 'established_event5': 'Irish Free State Constitution Act',\n",
       " 'established_date5': '5 December 1922',\n",
       " 'established_event6': 'Accession to the European Communities{{refn|group=note|European Union since 1993.}}',\n",
       " 'established_date6': '1 January 1973',\n",
       " 'established_event7': 'Withdrawal from the European Union',\n",
       " 'established_date7': '31 January 2020',\n",
       " 'area_km2': '242495',\n",
       " 'area_footnote': '<ref>{{cite journal |url=http://unstats.un.org/unsd/demographic/products/dyb/dyb2012/Table03.pdf |title=Demographic Yearbook – Table 3: Population by sex, rate of population increase, surface area and density |publisher=United Nations Statistics Division |year=2012 |accessdate=9 August 2015}}</ref>',\n",
       " 'area_rank': '78th',\n",
       " 'area_sq_mi': '93628',\n",
       " 'percent_water': '1.34',\n",
       " 'population_estimate': '{{increase}} 67,886,004<ref>{{Cite web|url=https://population.un.org/wpp/Download/Standard/Population/|title=World Population Prospects - Population Division - United Nations|website=population.un.org|access-date=2020-03-31}}</ref>',\n",
       " 'population_census': '63,182,178<ref name=\"pop_census\">{{cite web |url=http://www.ons.gov.uk/ons/guide-method/census/2011/uk-census/index.html |title=2011 UK censuses |publisher=Office for National Statistics |accessdate=17 December 2012}}</ref>',\n",
       " 'population_estimate_year': '2020',\n",
       " 'population_estimate_rank': '21st',\n",
       " 'population_census_year': '2011',\n",
       " 'population_census_rank': '22nd',\n",
       " 'population_density_km2': '270.7',\n",
       " 'population_density_sq_mi': '701.2',\n",
       " 'population_density_rank': '50th',\n",
       " 'GDP_PPP': '{{increase}} $3.131&nbsp;trillion<ref name=\"IMFWEOUK\">{{cite web |url=https://www.imf.org/external/pubs/ft/weo/2019/02/weodata/weorept.aspx?pr.x=14&pr.y=17&sy=2017&ey=2021&scsm=1&ssd=1&sort=country&ds=.&br=1&c=112&s=NGDPD%2CPPPGDP%2CNGDPDPC%2CPPPPC&grp=0&a= |title=World Economic Outlook Database, October 2019 |publisher=International Monetary Fund |website=IMF.org |accessdate=30 October 2019}}</ref>',\n",
       " 'GDP_PPP_year': '2019',\n",
       " 'GDP_PPP_rank': '9th',\n",
       " 'GDP_PPP_per_capita': '{{increase}} $46,827<ref name=\"IMFWEOUK\"/>',\n",
       " 'GDP_PPP_per_capita_rank': '26th',\n",
       " 'GDP_nominal': '{{decrease}} $2.744&nbsp;trillion<ref name=\"IMFWEOUK\"/>',\n",
       " 'GDP_nominal_year': '2019',\n",
       " 'GDP_nominal_rank': '6th',\n",
       " 'GDP_nominal_per_capita': '{{decrease}} $41,030<ref name=\"IMFWEOUK\"/>',\n",
       " 'GDP_nominal_per_capita_rank': '20th',\n",
       " 'Gini': '33.1',\n",
       " 'Gini_year': '2017',\n",
       " 'Gini_change': 'increase',\n",
       " 'Gini_ref': '<ref name=\"eurogini\">{{cite web |url=https://ec.europa.eu/eurostat/tgm/table.do?tab=table&init=1&language=en&pcode=tessi190&plugin=1 |title=Gini coefficient of equivalised disposable income - EU-SILC survey |publisher=Eurostat |website=ec.europa.eu |access-date=7 March 2019}}</ref>',\n",
       " 'Gini_rank': '33rd',\n",
       " 'HDI': '0.920<!--number only-->',\n",
       " 'HDI_year': '2018<!-- Please use the year to which the data refers, not the publication year-->',\n",
       " 'HDI_change': 'increase<!--increase/decrease/steady-->',\n",
       " 'HDI_ref': '<ref>{{cite web |url=http://hdr.undp.org/sites/default/files/hdr2019.pdf |title=Human Development Report 2019 |publisher=United Nations Development Programme |date=2019 |accessdate=9 December 2019}}</ref>',\n",
       " 'HDI_rank': '15th',\n",
       " 'currency': \"Pound&nbsp;sterling<ref group=note>Some of the devolved countries, Crown dependencies and British Overseas Territories issue their own sterling banknotes or currencies, or use another nation's currency. See List of British currencies for more information</ref>\",\n",
       " 'currency_code': 'GBP',\n",
       " 'utc_offset': '{{sp}}',\n",
       " 'time_zone': 'Greenwich Mean Time, WET',\n",
       " 'utc_offset_DST': '+1',\n",
       " 'time_zone_DST': 'British Summer Time, WEST',\n",
       " 'DST_note': '<ref group=note>Also in observed by the Crown dependencies, and in the two British Overseas Territories of Gibraltar and Saint Helena, Ascension and Tristan da Cunha (though in the latter, without daylight saving time). For further information see Time in the United Kingdom#British territories</ref>',\n",
       " 'date_format': '{{abbr|dd|day}}/{{abbr|mm|month}}/{{abbr|yyyy|year}}<br />{{abbr|yyyy|year}}-{{abbr|mm|month}}-{{abbr|dd|day}}&nbsp;(AD)',\n",
       " 'electricity': '230 V–50 Hz',\n",
       " 'drives_on': 'left<ref group=note>Except two overseas territories, Gibraltar, the British Indian Ocean Territory and Savoy Court in London.</ref>',\n",
       " 'calling_code': '+44<ref group=note>Excludes most overseas territories</ref>',\n",
       " 'cctld': '.uk<ref group=note>The .gb domain is also reserved for the UK, but has been little used.</ref>',\n",
       " 'today': ''}"
      ]
     },
     "execution_count": 95,
     "metadata": {},
     "output_type": "execute_result"
    }
   ],
   "source": [
    "info_noemphasize_nolink = re.sub(r\"\\[\\[(?:[^\\|]*?\\|)??([^|]*?)\\]\\]\",r\"\\1\",info_noemphasize)\n",
    "fields_noemphasize_nolink = re.findall(r'^\\|\\s(.*?)\\s*=\\s*(.*?)(?:(?=\\n\\|)|(?=$))', info_noemphasize_nolink, re.MULTILINE+re.DOTALL)\n",
    "dict(fields_noemphasize_nolink)"
   ]
  },
  {
   "cell_type": "markdown",
   "metadata": {},
   "source": [
    "### 28. MediaWikiマークアップの除去"
   ]
  },
  {
   "cell_type": "markdown",
   "metadata": {},
   "source": [
    "27の処理に加えて，テンプレートの値からMediaWikiマークアップを可能な限り除去し，国の基本情報を整形せよ．"
   ]
  },
  {
   "cell_type": "code",
   "execution_count": 125,
   "metadata": {},
   "outputs": [
    {
     "data": {
      "text/plain": [
       "{'common_name': 'United Kingdom',\n",
       " 'linking_name': 'the United Kingdom',\n",
       " 'conventional_long_name': 'United Kingdom of Great Britain and Northern Ireland',\n",
       " 'image_flag': 'Flag of the United Kingdom.svg',\n",
       " 'alt_flag': 'A flag featuring both cross and saltire in red, white and blue',\n",
       " 'other_symbol': 'x100pxx100px',\n",
       " 'other_symbol_type': 'Royal coats of arms:-',\n",
       " 'national_anthem': '\"God Save the Queen\"- No law was passed making \"God Save the Queen\" the official anthem. In the English tradition, such laws are not necessary; proclamation and usage are sufficient to make it the national anthem. \"God Save the Queen\" also serves as the Royal anthem for certain Commonwealth realms. The words Queen, she, her, used at present (in the reign of Elizabeth II), are replaced by King, he, him when the monarch is male. |group=note}}',\n",
       " 'image_map': '-',\n",
       " 'map_caption': '-',\n",
       " 'image_map2': '-',\n",
       " 'capital': 'London',\n",
       " 'coordinates': '-',\n",
       " 'largest_city': 'capital',\n",
       " 'languages_type': 'Official language -',\n",
       " 'languages': 'English',\n",
       " 'languages2_type': 'Regional and minority languages- These include defined obligations to promote those languages.--- See also Languages of the United Kingdom. Welsh has limited de jure official status in Wales, as well as in the provision of national government services provided for Wales.|group=note}}',\n",
       " 'languages2': '-',\n",
       " 'ethnic_groups': '-',\n",
       " 'ethnic_groups_year': '2011',\n",
       " 'religion': '-% Christian',\n",
       " 'religion_year': '2011- record view - Population by religion, sex and urban/rural residence |website=data.un.org |accessdate=13 October 2018}}-',\n",
       " 'demonym': '-',\n",
       " 'membership': '-',\n",
       " 'membership_type': 'Constituent countries',\n",
       " 'government_type': 'Unitary parliamentaryconstitutional monarchy',\n",
       " 'leader_title1': 'Monarch',\n",
       " 'leader_name1': 'Elizabeth&nbsp;II',\n",
       " 'leader_title2': 'Prime Minister',\n",
       " 'leader_name2': 'Boris Johnson',\n",
       " 'legislature': 'Parliament',\n",
       " 'upper_house': 'House of Lords',\n",
       " 'lower_house': 'House of Commons',\n",
       " 'sovereignty_type': 'Formation',\n",
       " 'established_event1': 'Laws in Wales Acts',\n",
       " 'established_date1': '1535 and 1542',\n",
       " 'established_event2': 'Union of the Crowns under James VI and I',\n",
       " 'established_date2': '24 March 1603',\n",
       " 'established_event3': 'Acts of Union of England and Scotland',\n",
       " 'established_date3': '1 May 1707',\n",
       " 'established_event4': 'Acts of Union of Great Britain and Ireland',\n",
       " 'established_date4': '1 January 1801',\n",
       " 'established_event5': 'Irish Free State Constitution Act',\n",
       " 'established_date5': '5 December 1922',\n",
       " 'established_event6': 'Accession to the European Communities-',\n",
       " 'established_date6': '1 January 1973',\n",
       " 'established_event7': 'Withdrawal from the European Union',\n",
       " 'established_date7': '31 January 2020',\n",
       " 'area_km2': '242495',\n",
       " 'area_footnote': '-',\n",
       " 'area_rank': '78th',\n",
       " 'area_sq_mi': '93628',\n",
       " 'percent_water': '1.34',\n",
       " 'population_estimate': '- 67,886,004-',\n",
       " 'population_census': '63,182,178-',\n",
       " 'population_estimate_year': '2020',\n",
       " 'population_estimate_rank': '21st',\n",
       " 'population_census_year': '2011',\n",
       " 'population_census_rank': '22nd',\n",
       " 'population_density_km2': '270.7',\n",
       " 'population_density_sq_mi': '701.2',\n",
       " 'population_density_rank': '50th',\n",
       " 'GDP_PPP': '- $3.131&nbsp;trillion-',\n",
       " 'GDP_PPP_year': '2019',\n",
       " 'GDP_PPP_rank': '9th',\n",
       " 'GDP_PPP_per_capita': '- $46,827',\n",
       " 'GDP_PPP_per_capita_rank': '26th',\n",
       " 'GDP_nominal': '- $2.744&nbsp;trillion',\n",
       " 'GDP_nominal_year': '2019',\n",
       " 'GDP_nominal_rank': '6th',\n",
       " 'GDP_nominal_per_capita': '- $41,030',\n",
       " 'GDP_nominal_per_capita_rank': '20th',\n",
       " 'Gini': '33.1',\n",
       " 'Gini_year': '2017',\n",
       " 'Gini_change': 'increase',\n",
       " 'Gini_ref': '-',\n",
       " 'Gini_rank': '33rd',\n",
       " 'HDI': '0.920',\n",
       " 'HDI_year': '2018',\n",
       " 'HDI_change': 'increase',\n",
       " 'HDI_ref': '-',\n",
       " 'HDI_rank': '15th',\n",
       " 'currency': \"Pound&nbsp;sterlingSome of the devolved countries, Crown dependencies and British Overseas Territories issue their own sterling banknotes or currencies, or use another nation's currency. See List of British currencies for more information\",\n",
       " 'currency_code': 'GBP',\n",
       " 'utc_offset': '-',\n",
       " 'time_zone': 'Greenwich Mean Time, WET',\n",
       " 'utc_offset_DST': '+1',\n",
       " 'time_zone_DST': 'British Summer Time, WEST',\n",
       " 'DST_note': 'Also in observed by the Crown dependencies, and in the two British Overseas Territories of Gibraltar and Saint Helena, Ascension and Tristan da Cunha (though in the latter, without daylight saving time). For further information see Time in the United Kingdom#British territories',\n",
       " 'date_format': '-/-/------&nbsp;(AD)',\n",
       " 'electricity': '230 V–50 Hz',\n",
       " 'drives_on': 'leftExcept two overseas territories, Gibraltar, the British Indian Ocean Territory and Savoy Court in London.',\n",
       " 'calling_code': '+44Excludes most overseas territories',\n",
       " 'cctld': '.ukThe .gb domain is also reserved for the UK, but has been little used.',\n",
       " 'today': ''}"
      ]
     },
     "execution_count": 125,
     "metadata": {},
     "output_type": "execute_result"
    }
   ],
   "source": [
    "def markup_del(text):\n",
    "  text_processed = re.sub(r\"\\'{2,}\", r\"\", text)\n",
    "  text_processed = re.sub(r\"\\[\\[(?:[^\\|]*?\\|)??([^|]*?)\\]\\]\", r\"\\1\", text_processed)\n",
    "  text_processed = re.sub(r\"\\{\\{cn\\}\\}\", r\"\", text_processed)\n",
    "  text_processed = re.sub(r\"<.*?>\",r\"\",text_processed)\n",
    "  text_processed = re.sub(r\"\\{\\{(?:[^\\}]*)\\}\\}\",r\"-\",text_processed)\n",
    "  return text_processed\n",
    "\n",
    "def extract_fields(text):\n",
    "  return dict(re.findall(r'^\\|\\s(.*?)\\s*=\\s*(.*?)(?:(?=\\n\\|)|(?=$))', text, re.MULTILINE+re.DOTALL))\n",
    "\n",
    "text_processed = markup_del(info[0])\n",
    "text_fields = extract_fields(text_processed)\n",
    "text_fields"
   ]
  },
  {
   "cell_type": "markdown",
   "metadata": {},
   "source": [
    "### 29. 国旗画像のURLを取得する"
   ]
  },
  {
   "cell_type": "markdown",
   "metadata": {},
   "source": [
    "テンプレートの内容を利用し，国旗画像のURLを取得せよ．（ヒント: MediaWiki APIのimageinfoを呼び出して，ファイル参照をURLに変換すればよい）"
   ]
  },
  {
   "cell_type": "code",
   "execution_count": 158,
   "metadata": {},
   "outputs": [
    {
     "name": "stdout",
     "output_type": "stream",
     "text": [
      "https://upload.wikimedia.org/wikipedia/en/a/ae/Flag_of_the_United_Kingdom.svg\n"
     ]
    }
   ],
   "source": [
    "import requests\n",
    "\n",
    "pic_name = re.sub(\" \", \"_\", text_fields[\"image_flag\"])\n",
    "\n",
    "S = requests.Session()\n",
    "\n",
    "URL = \"https://en.wikipedia.org/w/api.php\"\n",
    "\n",
    "PARAMS = {\n",
    "    \"action\": \"query\",\n",
    "    \"format\": \"json\",\n",
    "    \"prop\": \"imageinfo\",\n",
    "    \"titles\": \"File:\"+pic_name,\n",
    "    \"iiprop\": \"url\"\n",
    "}\n",
    "\n",
    "R = S.get(url=URL, params=PARAMS)\n",
    "DATA = R.json()\n",
    "\n",
    "PAGES = DATA[\"query\"][\"pages\"]\n",
    "\n",
    "for k, v in PAGES.items():\n",
    "#     print(k, v)\n",
    "    print(v[\"imageinfo\"][0][\"url\"])  "
   ]
  },
  {
   "cell_type": "code",
   "execution_count": null,
   "metadata": {},
   "outputs": [],
   "source": []
  }
 ],
 "metadata": {
  "kernelspec": {
   "display_name": "Python 3",
   "language": "python",
   "name": "python3"
  },
  "language_info": {
   "codemirror_mode": {
    "name": "ipython",
    "version": 3
   },
   "file_extension": ".py",
   "mimetype": "text/x-python",
   "name": "python",
   "nbconvert_exporter": "python",
   "pygments_lexer": "ipython3",
   "version": "3.9.2"
  }
 },
 "nbformat": 4,
 "nbformat_minor": 4
}
