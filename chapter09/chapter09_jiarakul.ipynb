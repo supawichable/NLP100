{
 "cells": [
  {
   "cell_type": "markdown",
   "metadata": {
    "id": "YzgLW-d52OUy"
   },
   "source": [
    "# 第9章: RNN, CNN"
   ]
  },
  {
   "cell_type": "code",
   "execution_count": 1,
   "metadata": {
    "id": "9BkocHza2OUz"
   },
   "outputs": [],
   "source": [
    "import pandas as pd\n",
    "import numpy as np\n",
    "import re\n",
    "import random as rd\n",
    "import torch\n",
    "import torch.nn as nn\n",
    "import torch.nn.functional as F\n",
    "import torch.optim as optim\n",
    "from torch.utils.data import TensorDataset, DataLoader\n",
    "from sklearn.feature_extraction.text import CountVectorizer\n",
    "from matplotlib import pyplot as plt"
   ]
  },
  {
   "cell_type": "markdown",
   "metadata": {
    "id": "YfX5YWOg2OUz"
   },
   "source": [
    "## 80. ID番号への変換"
   ]
  },
  {
   "cell_type": "code",
   "execution_count": null,
   "metadata": {
    "id": "JgEFmf5x2OUz"
   },
   "outputs": [],
   "source": [
    "vec_count = CountVectorizer()"
   ]
  },
  {
   "cell_type": "code",
   "execution_count": null,
   "metadata": {
    "id": "-8IM0wPX2OUz"
   },
   "outputs": [],
   "source": [
    "train = pd.read_csv('train.txt',delimiter='\\t')\n",
    "valid = pd.read_csv('valid.txt',delimiter='\\t')\n",
    "test = pd.read_csv('test.txt',delimiter='\\t')"
   ]
  },
  {
   "cell_type": "code",
   "execution_count": null,
   "metadata": {
    "id": "zKymk_iZ2OU0"
   },
   "outputs": [],
   "source": [
    "def preprocess(text):\n",
    "  text = text.lower()\n",
    "  text = re.sub(r\"[.?!-/:;\\\"]\",'',text)\n",
    "  text = re.sub(r\"[0-9]\",\"\",text)\n",
    "  return text\n",
    "\n",
    "def featureExtractFT(df):\n",
    "  title = df.TITLE\n",
    "  title_processed = [preprocess(x) for x in title]\n",
    "  X = vec_count.fit_transform(title_processed)\n",
    "  return X.toarray()\n",
    "\n",
    "def featureExtractT(df):\n",
    "  title = df.TITLE\n",
    "  title_processed = [preprocess(x) for x in title]\n",
    "  X = vec_count.transform(title_processed)\n",
    "  return X.toarray()"
   ]
  },
  {
   "cell_type": "code",
   "execution_count": null,
   "metadata": {
    "id": "eJIrTD6o2OU0"
   },
   "outputs": [],
   "source": [
    "train_extracted = pd.DataFrame(featureExtractFT(train), columns=vec_count.get_feature_names())\n",
    "valid_extracted = pd.DataFrame(featureExtractT(valid), columns=vec_count.get_feature_names())\n",
    "test_extracted = pd.DataFrame(featureExtractT(test), columns=vec_count.get_feature_names())"
   ]
  },
  {
   "cell_type": "code",
   "execution_count": null,
   "metadata": {
    "id": "eZEH_6xF2OU0"
   },
   "outputs": [],
   "source": [
    "train_dict = dict(train_extracted.sum())\n",
    "train_ID_dict = {word[0]:i+1 for i, word in enumerate(sorted(train_dict.items(), key=lambda item:item[1], reverse=True))}\n",
    "train_freq_dict = {word:freq for word,freq in sorted(train_dict.items(), key=lambda item:item[1], reverse=True)}"
   ]
  },
  {
   "cell_type": "code",
   "execution_count": null,
   "metadata": {
    "id": "zHpGda4H2OU0"
   },
   "outputs": [],
   "source": [
    "def word_ID(word):\n",
    "  if word not in train_ID_dict.keys() or train_freq_dict[word] < 2:\n",
    "    return 0\n",
    "  return train_ID_dict[word]\n",
    "\n",
    "def dataset_to_ids(dataset):\n",
    "  id_list = []\n",
    "  for sentence in dataset:\n",
    "    sentence_id_list = []\n",
    "    for word in sentence:\n",
    "        sentence_id_list.append(word_ID(word))\n",
    "    id_list.append(torch.tensor(sentence_id_list))\n",
    "  return id_list\n",
    "\n",
    "def cat_convert(df,filename):\n",
    "  cat_list_num = list(map(lambda x:{'b':0,\n",
    "                               't':1,\n",
    "                               'e':2,\n",
    "                               'm':3}[x], df[\"CATEGORY\"]))\n",
    "  vec = torch.tensor(cat_list_num)\n",
    "  torch.save(vec, filename)\n",
    "  return vec"
   ]
  },
  {
   "cell_type": "code",
   "execution_count": null,
   "metadata": {
    "id": "8Wbh9lnO2OU0"
   },
   "outputs": [],
   "source": [
    "train_cat = cat_convert(train, \"Ytrain.pt\")\n",
    "valid_cat = cat_convert(valid, \"Yvalid.pt\")\n",
    "test_cat = cat_convert(test, \"Ytest.pt\")"
   ]
  },
  {
   "cell_type": "code",
   "execution_count": null,
   "metadata": {
    "id": "ud8fK9FJ2OU0",
    "outputId": "7152e46e-bb14-4ae2-e6ff-d2265c04884e"
   },
   "outputs": [
    {
     "data": {
      "text/plain": [
       "[tensor([2055, 1016,  780,  650, 6006,    6,  536, 1132,   40]),\n",
       " tensor([   8, 1591,  281,   12,  100,    6,  768, 1682, 7656, 3318]),\n",
       " tensor([ 160, 1788, 3423,    1, 7243,  319, 3931,   11,  184,    0]),\n",
       " tensor([ 762, 1480,   13, 1405,    0,  190,  498,   11, 3435,    0]),\n",
       " tensor([ 286,  368,  286,  368, 6503, 4453,  240])]"
      ]
     },
     "execution_count": 9,
     "metadata": {
      "tags": []
     },
     "output_type": "execute_result"
    }
   ],
   "source": [
    "train_processed = [preprocess(x).split() for x in train.TITLE]\n",
    "train_id = dataset_to_ids(train_processed)\n",
    "train_id[:5]"
   ]
  },
  {
   "cell_type": "code",
   "execution_count": null,
   "metadata": {
    "id": "bZFelV3D2OU1",
    "outputId": "dc2e2b9d-f283-4502-ad37-eded78c2cf97"
   },
   "outputs": [
    {
     "data": {
      "text/plain": [
       "[tensor([  47,   48,   47,   48, 2615,    2,   22, 7696,   14,  483, 3241]),\n",
       " tensor([   9, 4881,   36,  105,    7,  239, 2479]),\n",
       " tensor([6601, 4644,    0, 6601, 4644,    0,  331,  121,    8,  571]),\n",
       " tensor([ 264,  962,  151, 5997,    0,    6,    0]),\n",
       " tensor([   9,  316, 1819, 2945,    2,   33,  153, 4009,  448,  141])]"
      ]
     },
     "execution_count": 10,
     "metadata": {
      "tags": []
     },
     "output_type": "execute_result"
    }
   ],
   "source": [
    "valid_processed = [preprocess(x).split() for x in valid.TITLE]\n",
    "valid_id = dataset_to_ids(valid_processed)\n",
    "valid_id[:5]"
   ]
  },
  {
   "cell_type": "code",
   "execution_count": null,
   "metadata": {
    "id": "FTTVcjAe2OU1",
    "outputId": "0d5ff729-2698-439e-e5b2-6b6ec1876466"
   },
   "outputs": [
    {
     "data": {
      "text/plain": [
       "[tensor([2412, 3502, 3359,    0,   63,   11,  109, 1905,   43]),\n",
       " tensor([   3,    0, 1035,    5,    0,  118,   74,   49,  166, 4467,  424,  256,\n",
       "            0,  353,  317,    1,    0]),\n",
       " tensor([1633,   42, 1022,  346,   15,  621,  559, 4411,    0,    0]),\n",
       " tensor([3630,    0,    6,  382,    8,  112,  170,  468]),\n",
       " tensor([ 236, 3202, 1014,   14,  798,    7, 3884, 1517,   75,  655, 2428, 2867])]"
      ]
     },
     "execution_count": 11,
     "metadata": {
      "tags": []
     },
     "output_type": "execute_result"
    }
   ],
   "source": [
    "test_processed = [preprocess(x).split() for x in test.TITLE]\n",
    "test_id = dataset_to_ids(test_processed)\n",
    "test_id[:5]"
   ]
  },
  {
   "cell_type": "markdown",
   "metadata": {
    "id": "z0q7_u0R2OU1"
   },
   "source": [
    "## 81. RNNによる予測"
   ]
  },
  {
   "cell_type": "code",
   "execution_count": null,
   "metadata": {
    "id": "VXOmHxLS2OU1"
   },
   "outputs": [],
   "source": [
    "# Hyper-parameters\n",
    "batch_size = 100\n",
    "num_epochs = 10\n",
    "learning_rate = 0.001\n",
    "input_size = len(train_id) + 1\n",
    "hidden_size = 50\n",
    "output_size = 4\n",
    "emb_size = 300\n",
    "device = torch.device('cpu')\n",
    "padding_idx = len(train_id)\n",
    "\n",
    "# Data loader\n",
    "train_loader = torch.utils.data.DataLoader((train_id, train_cat), batch_size=1)\n",
    "valid_loader = torch.utils.data.DataLoader((valid_id, valid_cat), batch_size=1)\n",
    "test_loader = torch.utils.data.DataLoader((test_id, test_cat), batch_size=1)"
   ]
  },
  {
   "cell_type": "code",
   "execution_count": null,
   "metadata": {
    "id": "i4aBdH0T2OU1"
   },
   "outputs": [],
   "source": [
    "class RNN(nn.Module):\n",
    "  def __init__(self,input_size,hidden_size,output_size,emb_size,padding_idx):\n",
    "    super(RNN,self).__init__()\n",
    "    self.hidden_size = hidden_size\n",
    "    self.padding_idx = padding_idx\n",
    "    self.device = device\n",
    "    self.emb = nn.Embedding(input_size, emb_size, padding_idx)\n",
    "    self.rnn = nn.RNN(emb_size,hidden_size, nonlinearity='tanh', batch_first=True)\n",
    "    self.fc = nn.Linear(hidden_size, output_size)\n",
    "\n",
    "  def forward(self,x):\n",
    "    self.batch_size = x.size()[0]\n",
    "    hidden = torch.zeros(1, self.batch_size, self.hidden_size).to(self.device)\n",
    "    emb = self.emb(x)\n",
    "    out, hidden = self.rnn(emb, hidden)\n",
    "    out = self.fc(out[:,-1, :])\n",
    "    return out"
   ]
  },
  {
   "cell_type": "code",
   "execution_count": null,
   "metadata": {
    "id": "UE0zop8Q2OU2"
   },
   "outputs": [],
   "source": [
    "model = RNN(input_size,hidden_size,output_size,emb_size,padding_idx)"
   ]
  },
  {
   "cell_type": "code",
   "execution_count": null,
   "metadata": {
    "id": "rpihVD2g2OU2",
    "outputId": "e63514bd-24d3-422d-aabe-b2fc672b32e6"
   },
   "outputs": [
    {
     "name": "stdout",
     "output_type": "stream",
     "text": [
      "tensor([[0.2101, 0.2546, 0.2779, 0.2574]], grad_fn=<SoftmaxBackward>)\n",
      "tensor([[0.2479, 0.2321, 0.2061, 0.3139]], grad_fn=<SoftmaxBackward>)\n",
      "tensor([[0.2595, 0.3021, 0.2349, 0.2034]], grad_fn=<SoftmaxBackward>)\n",
      "tensor([[0.2113, 0.2824, 0.2992, 0.2071]], grad_fn=<SoftmaxBackward>)\n",
      "tensor([[0.2784, 0.1923, 0.2347, 0.2945]], grad_fn=<SoftmaxBackward>)\n",
      "tensor([[0.1998, 0.2530, 0.1613, 0.3860]], grad_fn=<SoftmaxBackward>)\n",
      "tensor([[0.1642, 0.1758, 0.2462, 0.4138]], grad_fn=<SoftmaxBackward>)\n",
      "tensor([[0.1886, 0.2995, 0.0843, 0.4276]], grad_fn=<SoftmaxBackward>)\n",
      "tensor([[0.4786, 0.1185, 0.2224, 0.1805]], grad_fn=<SoftmaxBackward>)\n",
      "tensor([[0.1564, 0.2289, 0.2641, 0.3506]], grad_fn=<SoftmaxBackward>)\n"
     ]
    }
   ],
   "source": [
    "it = iter(train_loader)\n",
    "train_x = next(it)\n",
    "i = 0\n",
    "for x in train_x:\n",
    "  i += 1\n",
    "  if i > 10:\n",
    "    break\n",
    "  print(F.softmax(model(x), -1))"
   ]
  },
  {
   "cell_type": "markdown",
   "metadata": {
    "id": "927riEf62OU2"
   },
   "source": [
    "## 82. 確率的勾配降下法による学習"
   ]
  },
  {
   "cell_type": "code",
   "execution_count": null,
   "metadata": {
    "id": "tdx4AuQ92OU2"
   },
   "outputs": [],
   "source": [
    "# Hyper-parameters\n",
    "batch_size = 100\n",
    "num_epochs = 5\n",
    "learning_rate = 0.001\n",
    "input_size = len(train_id)+1\n",
    "padding_idx = len(train_id)\n",
    "hidden_size = 50\n",
    "output_size = 4\n",
    "emb_size = 300\n",
    "device = torch.device('cpu')\n",
    "loss_fn = nn.CrossEntropyLoss()\n",
    "\n",
    "# Data load\n",
    "train_loader = torch.utils.data.DataLoader([(train_id[i], train_cat[i]) for i in range(len(train_id))])\n",
    "valid_loader = torch.utils.data.DataLoader([(valid_id[i], valid_cat[i]) for i in range(len(valid_id))])\n",
    "test_loader = torch.utils.data.DataLoader([(test_id[i], test_cat[i]) for i in range(len(test_id))])"
   ]
  },
  {
   "cell_type": "code",
   "execution_count": null,
   "metadata": {
    "id": "fQnyPidw2OU3"
   },
   "outputs": [],
   "source": [
    "model = RNN(input_size,hidden_size,output_size,emb_size,padding_idx)\n",
    "optimizer = torch.optim.SGD(model.parameters(), lr=learning_rate)"
   ]
  },
  {
   "cell_type": "code",
   "execution_count": 22,
   "metadata": {
    "id": "dKB_8eR52OU3"
   },
   "outputs": [],
   "source": [
    "def train_fn(model, loader, loss_fn, optimizer, device):\n",
    "  model.to(device)\n",
    "  model.train()\n",
    "  for x, y in loader:\n",
    "    x, y = x.to(device), y.to(device)\n",
    "    y_pred = model(x)\n",
    "    loss_val = loss_fn(y_pred, y)\n",
    "    optimizer.zero_grad()\n",
    "    loss_val.backward()\n",
    "    optimizer.step()\n",
    "    \n",
    "def eval_fn(model, loader, loss_fn, optimizer, device):\n",
    "  model.to(device)\n",
    "  model.eval()\n",
    "  total_loss, total_count, matched_count = 0, 0, 0\n",
    "  with torch.no_grad():\n",
    "    for x, y in loader:\n",
    "      x, y = x.to(device), y.to(device)\n",
    "      y_pred = model(x)\n",
    "      predicted = torch.argmax(y_pred, dim=-1)\n",
    "      total_count += len(x)\n",
    "      matched_count += (predicted == y).sum()\n",
    "      total_loss += loss_fn(y_pred, y).item()\n",
    "  loss = total_loss/len(loader)\n",
    "  acc = matched_count/total_count\n",
    "  return acc, loss"
   ]
  },
  {
   "cell_type": "code",
   "execution_count": null,
   "metadata": {
    "id": "qj987k7n2OU3",
    "outputId": "2928a8ce-230d-4595-aea4-a9192ece8cc8"
   },
   "outputs": [
    {
     "name": "stdout",
     "output_type": "stream",
     "text": [
      "epoch 0:\n",
      " training loss = 1.0911082773828877,\n",
      " training accuarcy = 0.5344440340995789,\n",
      " validation loss = 1.1155099759023346,\n",
      " validation accuracy = 0.522455096244812\n",
      "epoch 1:\n",
      " training loss = 0.9850923503169916,\n",
      " training accuarcy = 0.6124110817909241,\n",
      " validation loss = 1.0448980367335374,\n",
      " validation accuracy = 0.5778443217277527\n",
      "epoch 2:\n",
      " training loss = 0.8300564701085578,\n",
      " training accuarcy = 0.6908461451530457,\n",
      " validation loss = 0.9493262088665192,\n",
      " validation accuracy = 0.6369760632514954\n",
      "epoch 3:\n",
      " training loss = 0.7010189432398709,\n",
      " training accuarcy = 0.7439161539077759,\n",
      " validation loss = 0.8845893698172855,\n",
      " validation accuracy = 0.69386225938797\n",
      "epoch 4:\n",
      " training loss = 0.581464229409346,\n",
      " training accuarcy = 0.7874391674995422,\n",
      " validation loss = 0.7819916088981721,\n",
      " validation accuracy = 0.7282934188842773\n"
     ]
    }
   ],
   "source": [
    "for i in range(num_epochs):\n",
    "  train_fn(model, train_loader, loss_fn, optimizer, device)\n",
    "  train_acc, train_loss = eval_fn(model, train_loader, loss_fn, optimizer, device)\n",
    "  valid_acc, valid_loss = eval_fn(model, valid_loader, loss_fn, optimizer, device)\n",
    "  print('epoch {}:\\n training loss = {},\\n training accuarcy = {},\\n validation loss = {},\\n validation accuracy = {}'.format(i, train_loss, train_acc, valid_loss, valid_acc))"
   ]
  },
  {
   "cell_type": "markdown",
   "metadata": {
    "id": "q2BTiMZ12OU3"
   },
   "source": [
    "## 83. ミニバッチ化・GPU上での学習"
   ]
  },
  {
   "cell_type": "code",
   "execution_count": null,
   "metadata": {
    "id": "PpSIkpIU2OU3"
   },
   "outputs": [],
   "source": [
    "!nvidia-smi"
   ]
  },
  {
   "cell_type": "code",
   "execution_count": 18,
   "metadata": {
    "id": "2tKP1SrX2OU3"
   },
   "outputs": [],
   "source": [
    "class Padsequence():\n",
    "  def __init__(self,padding_idx):\n",
    "    self.padding_idx = padding_idx\n",
    "  def __call__(self,batch):\n",
    "    sorted_batch = sorted(batch, key=lambda x:x[0].shape[0],reverse=True)\n",
    "    sequences = [x[0] for x in sorted_batch]\n",
    "    sequences_padded = torch.nn.utils.rnn.pad_sequence(sequences, batch_first=True, padding_value=padding_idx)\n",
    "    labels = torch.LongTensor([x[1] for x in sorted_batch])\n",
    "    return (sequences_padded, labels)"
   ]
  },
  {
   "cell_type": "code",
   "execution_count": null,
   "metadata": {
    "id": "0Re_Yfqy2OU3"
   },
   "outputs": [],
   "source": [
    "# Hyper-parameters\n",
    "batch_size = 32\n",
    "num_epochs = 5\n",
    "learning_rate = 0.001\n",
    "input_size = len(train_id)+1\n",
    "padding_idx = len(train_id)\n",
    "hidden_size = 50\n",
    "output_size = 4\n",
    "emb_size = 300\n",
    "device = torch.device('cuda')\n",
    "loss_fn = nn.CrossEntropyLoss()\n",
    "model = RNN(input_size,hidden_size,output_size,emb_size,padding_idx)\n",
    "optimizer = torch.optim.SGD(model.parameters(), lr=learning_rate)\n",
    "\n",
    "\n",
    "# Data load\n",
    "train_loader = torch.utils.data.DataLoader([(train_id[i], train_cat[i]) for i in range(len(train_id))], batch_size=batch_size, shuffle=True,collate_fn=Padsequence(padding_idx))\n",
    "valid_loader = torch.utils.data.DataLoader([(valid_id[i], valid_cat[i]) for i in range(len(valid_id))], batch_size=1)\n",
    "test_loader = torch.utils.data.DataLoader([(test_id[i], test_cat[i]) for i in range(len(test_id))], batch_size=1)"
   ]
  },
  {
   "cell_type": "code",
   "execution_count": null,
   "metadata": {
    "id": "_CAal-XW2OU4"
   },
   "outputs": [],
   "source": [
    "for i in range(num_epochs):\n",
    "  train_fn(model, train_loader, loss_fn, optimizer, device)\n",
    "  train_acc, train_loss = eval_fn(model, train_loader, loss_fn, optimizer, device)\n",
    "  valid_acc, valid_loss = eval_fn(model, valid_loader, loss_fn, optimizer, device)\n",
    "  print('epoch {}:\\n training loss = {},\\n training accuarcy = {},\\n validation loss = {},\\n validation accuracy = {}'.format(i, train_loss, train_acc, valid_loss, valid_acc))"
   ]
  },
  {
   "cell_type": "markdown",
   "metadata": {
    "id": "iMUmeM5d2OU4"
   },
   "source": [
    "Result from Google Colab:\n",
    "\n",
    "epoch 0:\n",
    " training loss = 1.2477301066507123,\n",
    " training accuarcy = 0.44655561447143555,\n",
    " validation loss = 1.3839659215816171,\n",
    " validation accuracy = 0.30129164457321167\n",
    " \n",
    "epoch 1:\n",
    " training loss = 1.2122587804308909,\n",
    " training accuarcy = 0.4464620053768158,\n",
    " validation loss = 1.3583823366112273,\n",
    " validation accuracy = 0.3214152157306671\n",
    " \n",
    "epoch 2:\n",
    " training loss = 1.189802683042195,\n",
    " training accuarcy = 0.4471171796321869,\n",
    " validation loss = 1.340670065667713,\n",
    " validation accuracy = 0.33508050441741943\n",
    " \n",
    "epoch 3:\n",
    " training loss = 1.1787518601931497,\n",
    " training accuarcy = 0.4519842863082886,\n",
    " validation loss = 1.3284344728248076,\n",
    " validation accuracy = 0.3452826738357544\n",
    " \n",
    "epoch 4:\n",
    " training loss = 1.171654954284965,\n",
    " training accuarcy = 0.44824036955833435,\n",
    " validation loss = 1.3199934504622157,\n",
    " validation accuracy = 0.3528640866279602"
   ]
  },
  {
   "cell_type": "markdown",
   "metadata": {
    "id": "7QpoQqLN2OU4"
   },
   "source": [
    "## 84. 単語ベクトルの導入"
   ]
  },
  {
   "cell_type": "code",
   "execution_count": null,
   "metadata": {
    "id": "4J3krjBW2OU4"
   },
   "outputs": [],
   "source": [
    "from gensim.models import KeyedVectors\n",
    "\n",
    "wordvec_model = KeyedVectors.load_word2vec_format('GoogleNews-vectors-negative300.bin',binary=True)"
   ]
  },
  {
   "cell_type": "code",
   "execution_count": null,
   "metadata": {
    "id": "NWnSTRAZ2OU4"
   },
   "outputs": [],
   "source": [
    "class RNN(nn.Module):\n",
    "  def __init__(self,input_size,hidden_size,output_size,emb_size,padding_idx,emb_weight):\n",
    "    super(RNN,self).__init__()\n",
    "    self.hidden_size = hidden_size\n",
    "    self.padding_idx = padding_idx\n",
    "    self.device = device\n",
    "    if emb_weight.all() != None:\n",
    "      self.emb = nn.Embedding.from_pretrained(emb_weight, padding_idx=padding_idx)\n",
    "    else:\n",
    "      self.emb = nn.Embedding(input_size, emb_size, padding_idx)\n",
    "    self.rnn = nn.RNN(emb_size,hidden_size, nonlinearity='tanh', batch_first=True)\n",
    "    self.fc = nn.Linear(hidden_size, output_size)\n",
    "\n",
    "  def forward(self,x):\n",
    "    self.batch_size = x.size()[0]\n",
    "    hidden = torch.zeros(1, self.batch_size, self.hidden_size).to(self.device)\n",
    "    emb = self.emb(x)\n",
    "    out, hidden = self.rnn(emb, hidden)\n",
    "    out = self.fc(out[:,-1, :])\n",
    "    return out"
   ]
  },
  {
   "cell_type": "code",
   "execution_count": null,
   "metadata": {
    "id": "Tryd7ra42OU4",
    "outputId": "3a15ac60-ac77-4e9d-f009-50c6b64f3703"
   },
   "outputs": [
    {
     "name": "stderr",
     "output_type": "stream",
     "text": [
      "<ipython-input-44-023105c60a3a>:9: FutureWarning: elementwise comparison failed; returning scalar instead, but in the future will perform elementwise comparison\n",
      "  if word in wordvec_model[0]:\n"
     ]
    },
    {
     "name": "stdout",
     "output_type": "stream",
     "text": [
      "torch.Size([13868, 300])\n"
     ]
    }
   ],
   "source": [
    "vocab_size = len(train_ID_dict) + 1\n",
    "emb_size = 300\n",
    "weight_matrix = np.zeros((vocab_size, emb_size))\n",
    "word_count = 0\n",
    "device = torch.device('cpu')\n",
    "num_epochs = 5\n",
    "\n",
    "for i, word in enumerate(train_ID_dict.keys()):\n",
    "  if word in wordvec_model[0]:\n",
    "    weight_matrix[i] = torch.from_numpy(wordvec_model[word])\n",
    "    word_count += 1\n",
    "  else:\n",
    "    weight_matrix[i] = torch.from_numpy(np.random.normal(size=(emb_size,)))\n",
    "weight_matrix = torch.from_numpy(weight_matrix.astype((np.float32)))\n",
    "\n",
    "print(weight_matrix.shape)"
   ]
  },
  {
   "cell_type": "code",
   "execution_count": null,
   "metadata": {
    "id": "AuMCyo232OU4"
   },
   "outputs": [],
   "source": [
    "model = RNN(input_size,hidden_size,output_size,emb_size,padding_idx,weight_matrix)\n",
    "optimizer = torch.optim.SGD(model.parameters(), lr=learning_rate)\n",
    "trainer = train_fn(model, train_loader, loss_fn, optimizer, device)"
   ]
  },
  {
   "cell_type": "code",
   "execution_count": null,
   "metadata": {
    "id": "JJaAW0oC2OU5",
    "outputId": "874ea509-5638-456a-b7f2-933b16883362"
   },
   "outputs": [
    {
     "name": "stdout",
     "output_type": "stream",
     "text": [
      "epoch 0:\n",
      " training loss = 0.9546808156682418,\n",
      " training accuarcy = 0.6217708587646484,\n",
      " validation loss = 1.0056816065366085,\n",
      " validation accuracy = 0.5965569019317627\n",
      "epoch 1:\n",
      " training loss = 0.7704353375705214,\n",
      " training accuarcy = 0.7176151275634766,\n",
      " validation loss = 0.8469054141712046,\n",
      " validation accuracy = 0.686377227306366\n",
      "epoch 2:\n",
      " training loss = 0.6397958460804971,\n",
      " training accuarcy = 0.7704979181289673,\n",
      " validation loss = 0.7616921861455246,\n",
      " validation accuracy = 0.727544903755188\n",
      "epoch 3:\n",
      " training loss = 0.5374969132179428,\n",
      " training accuarcy = 0.8041931986808777,\n",
      " validation loss = 0.7005287001514529,\n",
      " validation accuracy = 0.7567365169525146\n",
      "epoch 4:\n",
      " training loss = 0.46378485085239557,\n",
      " training accuarcy = 0.8269374966621399,\n",
      " validation loss = 0.6703607153653204,\n",
      " validation accuracy = 0.7664670944213867\n"
     ]
    }
   ],
   "source": [
    "for i in range(num_epochs):\n",
    "  train_fn(model, train_loader, loss_fn, optimizer, device)\n",
    "  train_acc, train_loss = eval_fn(model, train_loader, loss_fn, optimizer, device)\n",
    "  valid_acc, valid_loss = eval_fn(model, valid_loader, loss_fn, optimizer, device)\n",
    "  print('epoch {}:\\n training loss = {},\\n training accuarcy = {},\\n validation loss = {},\\n validation accuracy = {}'.format(i, train_loss, train_acc, valid_loss, valid_acc))"
   ]
  },
  {
   "cell_type": "markdown",
   "metadata": {
    "id": "p7JAXTJZ2OU5"
   },
   "source": [
    "## 85. 双方向RNN・多層化"
   ]
  },
  {
   "cell_type": "code",
   "execution_count": null,
   "metadata": {
    "id": "BTpZP6Ed2OU5"
   },
   "outputs": [],
   "source": [
    "class BiDirectRNN(nn.Module):\n",
    "  def __init__(self,input_size,hidden_size,output_size,emb_size,padding_idx,emb_weight,num_layers):\n",
    "    super().__init__()\n",
    "    self.hidden_size = hidden_size\n",
    "    self.output_size = output_size\n",
    "    self.padding_idx = padding_idx\n",
    "    self.num_layers = num_layers\n",
    "    self.device = device\n",
    "    if emb_weight.all() != None:\n",
    "      self.emb = nn.Embedding.from_pretrained(emb_weight, padding_idx=padding_idx)\n",
    "    else:\n",
    "      self.emb = nn.Embedding(input_size, emb_size, padding_idx)\n",
    "    self.rnn = nn.RNN(emb_size, hidden_size, num_layers=num_layers, nonlinearity='tanh', batch_first=True, bidirectional=True)\n",
    "    self.fc = nn.Linear(hidden_size*2, output_size)\n",
    "\n",
    "  def forward(self,x):\n",
    "    self.batch_size = x.size()[0]\n",
    "    hidden = torch.zeros(6, self.batch_size, self.hidden_size).to(self.device)\n",
    "    emb = self.emb(x)\n",
    "    out, hidden = self.rnn(emb, hidden)\n",
    "    out = self.fc(out[:,-1, :])\n",
    "    return out"
   ]
  },
  {
   "cell_type": "code",
   "execution_count": null,
   "metadata": {
    "id": "E-XUWKhw2OU5"
   },
   "outputs": [],
   "source": [
    "model = BiDirectRNN(input_size,hidden_size,output_size,emb_size,padding_idx,weight_matrix,num_layers=3)\n",
    "optimizer = torch.optim.SGD(model.parameters(), lr=learning_rate)\n",
    "trainer = train_fn(model, train_loader, loss_fn, optimizer, device)"
   ]
  },
  {
   "cell_type": "code",
   "execution_count": null,
   "metadata": {
    "id": "Tr-tBsZc2OU5"
   },
   "outputs": [],
   "source": [
    "num_epochs = 30\n",
    "train_acc_list, train_loss_list, valid_acc_list, valid_loss_list = [], [], [], []\n",
    "for i in range(num_epochs):\n",
    "  train_fn(model, train_loader, loss_fn, optimizer, device)\n",
    "  train_acc, train_loss = eval_fn(model, train_loader, loss_fn, optimizer, device)\n",
    "  valid_acc, valid_loss = eval_fn(model, valid_loader, loss_fn, optimizer, device)\n",
    "  train_acc_list.append(train_acc)\n",
    "  train_loss_list.append(train_loss)\n",
    "  valid_acc_list.append(valid_acc)\n",
    "  valid_loss_list.append(valid_loss)\n",
    "#   print('epoch {}:\\n training loss = {},\\n training accuarcy = {},\\n validation loss = {},\\n validation accuracy = {}'.format(i, train_loss, train_acc, valid_loss, valid_acc))"
   ]
  },
  {
   "cell_type": "code",
   "execution_count": null,
   "metadata": {
    "id": "qTC_jcxB2OU5",
    "outputId": "823f017b-cdb0-4122-b06e-31d4a73313a4"
   },
   "outputs": [
    {
     "data": {
      "image/png": "[encoded data removed]",
      "text/plain": [
       "<Figure size 1080x360 with 2 Axes>"
      ]
     },
     "metadata": {
      "needs_background": "light",
      "tags": []
     },
     "output_type": "display_data"
    }
   ],
   "source": [
    "fig, axs = plt.subplots(1,2,figsize=(15,5))\n",
    "axs[0].plot(train_acc_list,label='Train')\n",
    "axs[0].plot(valid_acc_list,label='Valid')\n",
    "axs[1].plot(train_loss_list,label='Train')\n",
    "axs[1].plot(valid_loss_list,label='Valid')\n",
    "axs[0].set_title('Accuracy')\n",
    "axs[1].set_title('Loss')\n",
    "axs[0].legend()\n",
    "axs[1].legend()\n",
    "plt.show()"
   ]
  },
  {
   "cell_type": "markdown",
   "metadata": {
    "id": "-S-Cjj-B2OU5"
   },
   "source": [
    "## 86. 畳み込みニューラルネットワーク (CNN)"
   ]
  },
  {
   "cell_type": "code",
   "execution_count": null,
   "metadata": {
    "id": "QkW8bai-2OU5"
   },
   "outputs": [],
   "source": [
    "class CNN(nn.Module):\n",
    "  def __init__(self,input_size,hidden_size,output_size,emb_size,batch_size,kernel_size,padding_idx,emb_weight):\n",
    "    super().__init__()\n",
    "    self.hidden_size = hidden_size\n",
    "    if emb_weight.all() != None:\n",
    "      self.emb = nn.Embedding.from_pretrained(emb_weight, padding_idx=padding_idx)\n",
    "    else:\n",
    "      self.emb = nn.Embedding(input_size, emb_size, padding_idx)\n",
    "    self.conv = nn.Conv1d(emb_size, hidden_size, kernel_size = kernel_size, stride = 1, padding=1)\n",
    "    self.act = nn.ReLU()\n",
    "    self.fc = nn.Linear(hidden_size, output_size)\n",
    "  def forward(self, x):\n",
    "    emb = self.emb(x)\n",
    "    conv = self.conv(emb.transpose(1,2))\n",
    "    act = self.act(conv)\n",
    "    max_pool = F.max_pool1d(act, act.shape[-1])\n",
    "    max_pool_squeezed = max_pool.squeeze(2)\n",
    "    out = self.fc(max_pool_squeezed)\n",
    "    return out"
   ]
  },
  {
   "cell_type": "code",
   "execution_count": null,
   "metadata": {
    "id": "x5-UG33y2OU5"
   },
   "outputs": [],
   "source": [
    "batch_size = 100\n",
    "input_size = len(train_id)+1\n",
    "padding_idx = len(train_id)\n",
    "hidden_size = 10\n",
    "output_size = 4\n",
    "kernel_size = 3\n",
    "emb_size = 300\n",
    "\n",
    "model = CNN(input_size,hidden_size,output_size,emb_size,batch_size,kernel_size,padding_idx,weight_matrix)\n",
    "train_loader = torch.utils.data.DataLoader([(train_id[i], train_cat[i]) for i in range(len(train_id))], batch_size=10, shuffle=True,collate_fn=Padsequence(padding_idx))"
   ]
  },
  {
   "cell_type": "code",
   "execution_count": null,
   "metadata": {
    "id": "jBUSemZk2OU6",
    "outputId": "485d1891-552e-48ee-f0ad-4b22e6770832"
   },
   "outputs": [
    {
     "data": {
      "text/plain": [
       "tensor([[ 0.9684,  1.1769, -0.1832, -0.1149],\n",
       "        [ 1.2080,  1.1813, -0.0638,  0.0189],\n",
       "        [ 1.0496,  0.9780, -0.3927, -0.4627],\n",
       "        [ 1.2746,  1.1806, -0.5356, -0.3333],\n",
       "        [ 0.9778,  1.0914, -0.2570,  0.4535],\n",
       "        [ 1.0258,  1.1189, -0.4071, -0.0017],\n",
       "        [ 0.8207,  1.0686, -0.2815,  0.0827],\n",
       "        [ 1.1247,  1.1980, -0.4517,  0.0855],\n",
       "        [ 1.4115,  1.3902, -0.3583,  0.0795],\n",
       "        [ 0.9150,  0.9931, -0.3509,  0.1761]], grad_fn=<AddmmBackward>)"
      ]
     },
     "execution_count": 157,
     "metadata": {
      "tags": []
     },
     "output_type": "execute_result"
    }
   ],
   "source": [
    "train_x = next(iter(train_loader))[0]\n",
    "model(train_x)"
   ]
  },
  {
   "cell_type": "markdown",
   "metadata": {
    "id": "AfkA_45G2OU6"
   },
   "source": [
    "## 87. 確率的勾配降下法によるCNNの学習"
   ]
  },
  {
   "cell_type": "code",
   "execution_count": null,
   "metadata": {
    "id": "LOvkiHl42OU6"
   },
   "outputs": [],
   "source": [
    "model = CNN(input_size,hidden_size,output_size,emb_size,batch_size,kernel_size,padding_idx,weight_matrix)\n",
    "optimizer = torch.optim.SGD(model.parameters(), lr=learning_rate)\n",
    "trainer = train_fn(model, train_loader, loss_fn, optimizer, device)"
   ]
  },
  {
   "cell_type": "code",
   "execution_count": null,
   "metadata": {
    "id": "wL27sW2X2OU6"
   },
   "outputs": [],
   "source": [
    "learning_rate = 0.001\n",
    "num_epochs = 10\n",
    "train_acc_list, train_loss_list, valid_acc_list, valid_loss_list = [], [], [], []\n",
    "for i in range(num_epochs):\n",
    "  train_fn(model, train_loader, loss_fn, optimizer, device)\n",
    "  train_acc, train_loss = eval_fn(model, train_loader, loss_fn, optimizer, device)\n",
    "  valid_acc, valid_loss = eval_fn(model, valid_loader, loss_fn, optimizer, device)\n",
    "  train_acc_list.append(train_acc)\n",
    "  train_loss_list.append(train_loss)\n",
    "  valid_acc_list.append(valid_acc)\n",
    "  valid_loss_list.append(valid_loss)\n",
    "#   print('epoch {}:\\n training loss = {},\\n training accuarcy = {},\\n validation loss = {},\\n validation accuracy = {}'.format(i, train_loss, train_acc, valid_loss, valid_acc))"
   ]
  },
  {
   "cell_type": "code",
   "execution_count": null,
   "metadata": {
    "id": "qymFGr242OU6",
    "outputId": "2a0c003b-3806-4181-a588-1555636df786"
   },
   "outputs": [
    {
     "data": {
      "image/png": "[encoded data removed]",
      "text/plain": [
       "<Figure size 1080x360 with 2 Axes>"
      ]
     },
     "metadata": {
      "needs_background": "light",
      "tags": []
     },
     "output_type": "display_data"
    }
   ],
   "source": [
    "fig, axs = plt.subplots(1,2,figsize=(15,5))\n",
    "axs[0].plot(train_acc_list,label='Train')\n",
    "axs[0].plot(valid_acc_list,label='Valid')\n",
    "axs[1].plot(train_loss_list,label='Train')\n",
    "axs[1].plot(valid_loss_list,label='Valid')\n",
    "axs[0].set_title('Accuracy')\n",
    "axs[1].set_title('Loss')\n",
    "axs[0].legend()\n",
    "axs[1].legend()\n",
    "plt.show()"
   ]
  },
  {
   "cell_type": "markdown",
   "metadata": {
    "id": "jvHOtVc62OU6"
   },
   "source": [
    "## 88. パラメータチューニング"
   ]
  },
  {
   "cell_type": "code",
   "execution_count": null,
   "metadata": {
    "id": "EOSLzl5C2OU6"
   },
   "outputs": [],
   "source": [
    "import optuna\n",
    "\n",
    "def objective(trial):\n",
    "  if trial.number == 15:\n",
    "    study.stop()\n",
    "  kernel_size = trial.suggest_categorical('kernel_size', [1,3,5])\n",
    "  num_layers = trial.suggest_categorical(\"num_layers\", [1,3,5])\n",
    "  learning_rate = trial.suggest_categorical('learning_rate',[0.001,0.01])\n",
    "  batch_size = int(trial.suggest_categorical('batch_size',[16,32,64]))\n",
    "  \n",
    "  # fixed parameters\n",
    "  input_size = len(train_id)+1\n",
    "  padding_idx = len(train_id)\n",
    "  emb_size = 300\n",
    "  hidden_size = 50\n",
    "  output_size = 4\n",
    "  num_epochs = 20\n",
    "\n",
    "  loss_fn = nn.CrossEntropyLoss()\n",
    "  model = CNN(input_size,hidden_size,output_size,emb_size,batch_size,kernel_size,padding_idx,weight_matrix)\n",
    "  optimizer = torch.optim.SGD(model.parameters(), lr=learning_rate)\n",
    "  trainer = train_fn(model, train_loader, loss_fn, optimizer, device)\n",
    "  train_acc, train_loss = eval_fn(model, train_loader, loss_fn, optimizer, device)\n",
    "  valid_acc, valid_loss = eval_fn(model, valid_loader, loss_fn, optimizer, device)\n",
    "  return valid_loss"
   ]
  },
  {
   "cell_type": "code",
   "execution_count": null,
   "metadata": {
    "id": "MqwSB7Ze2OU7",
    "outputId": "67c310ba-d90e-4fcd-92c8-302181eddad0"
   },
   "outputs": [
    {
     "name": "stderr",
     "output_type": "stream",
     "text": [
      "\u001b[32m[I 2021-06-22 15:23:29,950]\u001b[0m A new study created in memory with name: no-name-6b7973d5-1f36-4b0e-8b90-64b8835ac76f\u001b[0m\n",
      "\u001b[32m[I 2021-06-22 15:23:31,640]\u001b[0m Trial 0 finished with value: 0.7254060738846174 and parameters: {'kernel_size': 1, 'num_layers': 1, 'learning_rate': 0.01, 'batch_size': 16}. Best is trial 0 with value: 0.7254060738846174.\u001b[0m\n",
      "\u001b[32m[I 2021-06-22 15:23:35,861]\u001b[0m Trial 1 finished with value: 0.7828708628364552 and parameters: {'kernel_size': 5, 'num_layers': 5, 'learning_rate': 0.01, 'batch_size': 32}. Best is trial 0 with value: 0.7254060738846174.\u001b[0m\n",
      "\u001b[32m[I 2021-06-22 15:23:39,113]\u001b[0m Trial 2 finished with value: 1.1417290577497667 and parameters: {'kernel_size': 3, 'num_layers': 3, 'learning_rate': 0.001, 'batch_size': 16}. Best is trial 0 with value: 0.7254060738846174.\u001b[0m\n",
      "\u001b[32m[I 2021-06-22 15:23:40,737]\u001b[0m Trial 3 finished with value: 0.7056854806539273 and parameters: {'kernel_size': 1, 'num_layers': 5, 'learning_rate': 0.01, 'batch_size': 32}. Best is trial 3 with value: 0.7056854806539273.\u001b[0m\n",
      "\u001b[32m[I 2021-06-22 15:23:45,040]\u001b[0m Trial 4 finished with value: 0.756845868833943 and parameters: {'kernel_size': 5, 'num_layers': 5, 'learning_rate': 0.01, 'batch_size': 32}. Best is trial 3 with value: 0.7056854806539273.\u001b[0m\n",
      "\u001b[32m[I 2021-06-22 15:23:49,216]\u001b[0m Trial 5 finished with value: 0.8052999563790104 and parameters: {'kernel_size': 5, 'num_layers': 3, 'learning_rate': 0.01, 'batch_size': 16}. Best is trial 3 with value: 0.7056854806539273.\u001b[0m\n",
      "\u001b[32m[I 2021-06-22 15:23:50,857]\u001b[0m Trial 6 finished with value: 1.1142533372440737 and parameters: {'kernel_size': 1, 'num_layers': 3, 'learning_rate': 0.001, 'batch_size': 64}. Best is trial 3 with value: 0.7056854806539273.\u001b[0m\n",
      "\u001b[32m[I 2021-06-22 15:23:52,545]\u001b[0m Trial 7 finished with value: 1.1329789469966631 and parameters: {'kernel_size': 1, 'num_layers': 1, 'learning_rate': 0.001, 'batch_size': 16}. Best is trial 3 with value: 0.7056854806539273.\u001b[0m\n",
      "\u001b[32m[I 2021-06-22 15:23:55,807]\u001b[0m Trial 8 finished with value: 1.1503135366755688 and parameters: {'kernel_size': 3, 'num_layers': 3, 'learning_rate': 0.001, 'batch_size': 64}. Best is trial 3 with value: 0.7056854806539273.\u001b[0m\n",
      "\u001b[32m[I 2021-06-22 15:23:59,993]\u001b[0m Trial 9 finished with value: 1.1461648705142164 and parameters: {'kernel_size': 5, 'num_layers': 5, 'learning_rate': 0.001, 'batch_size': 16}. Best is trial 3 with value: 0.7056854806539273.\u001b[0m\n",
      "\u001b[32m[I 2021-06-22 15:24:01,624]\u001b[0m Trial 10 finished with value: 0.7069386368931807 and parameters: {'kernel_size': 1, 'num_layers': 5, 'learning_rate': 0.01, 'batch_size': 32}. Best is trial 3 with value: 0.7056854806539273.\u001b[0m\n",
      "\u001b[32m[I 2021-06-22 15:24:03,415]\u001b[0m Trial 11 finished with value: 0.7301708653734433 and parameters: {'kernel_size': 1, 'num_layers': 5, 'learning_rate': 0.01, 'batch_size': 32}. Best is trial 3 with value: 0.7056854806539273.\u001b[0m\n",
      "\u001b[32m[I 2021-06-22 15:24:05,228]\u001b[0m Trial 12 finished with value: 0.7253888700356774 and parameters: {'kernel_size': 1, 'num_layers': 5, 'learning_rate': 0.01, 'batch_size': 32}. Best is trial 3 with value: 0.7056854806539273.\u001b[0m\n",
      "\u001b[32m[I 2021-06-22 15:24:06,914]\u001b[0m Trial 13 finished with value: 0.7387354237705045 and parameters: {'kernel_size': 1, 'num_layers': 5, 'learning_rate': 0.01, 'batch_size': 32}. Best is trial 3 with value: 0.7056854806539273.\u001b[0m\n",
      "\u001b[32m[I 2021-06-22 15:24:08,579]\u001b[0m Trial 14 finished with value: 0.741288313740435 and parameters: {'kernel_size': 1, 'num_layers': 5, 'learning_rate': 0.01, 'batch_size': 32}. Best is trial 3 with value: 0.7056854806539273.\u001b[0m\n",
      "\u001b[32m[I 2021-06-22 15:24:10,373]\u001b[0m Trial 15 finished with value: 0.6911426700462036 and parameters: {'kernel_size': 1, 'num_layers': 5, 'learning_rate': 0.01, 'batch_size': 32}. Best is trial 15 with value: 0.6911426700462036.\u001b[0m\n"
     ]
    },
    {
     "name": "stdout",
     "output_type": "stream",
     "text": [
      "Value:  0.6911426700462036\n",
      "Params:  {'kernel_size': 1, 'num_layers': 5, 'learning_rate': 0.01, 'batch_size': 32}\n"
     ]
    }
   ],
   "source": [
    "study = optuna.create_study()\n",
    "study.optimize(objective, timeout=1000)\n",
    "trial = study.best_trial\n",
    "print('Value: ', trial.value)\n",
    "print('Params: ',study.best_params)\n",
    "# trial = study.best_trial\n",
    "# print('Value: ', trial.value)\n",
    "# print('Params: ')\n",
    "# for key, value in trial.params.items():\n",
    "#   print(key,':',value)"
   ]
  },
  {
   "cell_type": "code",
   "execution_count": null,
   "metadata": {
    "id": "2K9BAbMw2OU7"
   },
   "outputs": [],
   "source": [
    "input_size = len(train_id)+1\n",
    "padding_idx = len(train_id)\n",
    "emb_size = 300\n",
    "hidden_size = 50\n",
    "output_size = 4\n",
    "num_epochs = 20\n",
    "kernel_size = 1\n",
    "num_layers = 5\n",
    "learning_rate = 0.01\n",
    "batch_size = 32\n",
    "\n",
    "train_acc_list, train_loss_list, valid_acc_list, valid_loss_list = [], [], [], []\n",
    "for i in range(num_epochs):\n",
    "  train_fn(model, train_loader, loss_fn, optimizer, device)\n",
    "  train_acc, train_loss = eval_fn(model, train_loader, loss_fn, optimizer, device)\n",
    "  valid_acc, valid_loss = eval_fn(model, valid_loader, loss_fn, optimizer, device)\n",
    "  train_acc_list.append(train_acc)\n",
    "  train_loss_list.append(train_loss)\n",
    "  valid_acc_list.append(valid_acc)\n",
    "  valid_loss_list.append(valid_loss)"
   ]
  },
  {
   "cell_type": "code",
   "execution_count": null,
   "metadata": {
    "id": "nsKWINnH2OU7",
    "outputId": "ee7ead67-78b2-4b5a-a40a-5554e5e26a62"
   },
   "outputs": [
    {
     "data": {
      "image/png": "[encoded data removed]",
      "text/plain": [
       "<Figure size 1080x360 with 2 Axes>"
      ]
     },
     "metadata": {
      "needs_background": "light",
      "tags": []
     },
     "output_type": "display_data"
    }
   ],
   "source": [
    "fig, axs = plt.subplots(1,2,figsize=(15,5))\n",
    "axs[0].plot(train_acc_list,label='Train')\n",
    "axs[0].plot(valid_acc_list,label='Valid')\n",
    "axs[1].plot(train_loss_list,label='Train')\n",
    "axs[1].plot(valid_loss_list,label='Valid')\n",
    "axs[0].set_title('Accuracy')\n",
    "axs[1].set_title('Loss')\n",
    "axs[0].legend()\n",
    "axs[1].legend()\n",
    "plt.show()"
   ]
  },
  {
   "cell_type": "markdown",
   "metadata": {
    "id": "lsjyDaXo2OU7"
   },
   "source": [
    "## 89. 事前学習済み言語モデルからの転移学習"
   ]
  },
  {
   "cell_type": "code",
   "execution_count": 2,
   "metadata": {
    "colab": {
     "base_uri": "https://localhost:8080/"
    },
    "id": "Q3Uu3G2H2Vbq",
    "outputId": "768647f4-1896-41a0-ece5-554fad3c3e5f"
   },
   "outputs": [
    {
     "name": "stdout",
     "output_type": "stream",
     "text": [
      "Requirement already satisfied: transformers in /usr/local/lib/python3.9/site-packages (4.8.1)\n",
      "Requirement already satisfied: numpy>=1.17 in /usr/local/lib/python3.9/site-packages (from transformers) (1.19.5)\n",
      "Requirement already satisfied: tqdm>=4.27 in /usr/local/lib/python3.9/site-packages (from transformers) (4.59.0)\n",
      "Requirement already satisfied: pyyaml in /usr/local/lib/python3.9/site-packages (from transformers) (5.4.1)\n",
      "Requirement already satisfied: requests in /usr/local/lib/python3.9/site-packages (from transformers) (2.25.1)\n",
      "Requirement already satisfied: packaging in /usr/local/lib/python3.9/site-packages (from transformers) (20.9)\n",
      "Requirement already satisfied: filelock in /usr/local/lib/python3.9/site-packages (from transformers) (3.0.12)\n",
      "Requirement already satisfied: sacremoses in /usr/local/lib/python3.9/site-packages (from transformers) (0.0.45)\n",
      "Requirement already satisfied: tokenizers<0.11,>=0.10.1 in /usr/local/lib/python3.9/site-packages (from transformers) (0.10.3)\n",
      "Requirement already satisfied: huggingface-hub==0.0.12 in /usr/local/lib/python3.9/site-packages (from transformers) (0.0.12)\n",
      "Requirement already satisfied: regex!=2019.12.17 in /usr/local/lib/python3.9/site-packages (from transformers) (2020.11.13)\n",
      "Requirement already satisfied: typing-extensions in /usr/local/lib/python3.9/site-packages (from huggingface-hub==0.0.12->transformers) (3.7.4.3)\n",
      "Requirement already satisfied: pyparsing>=2.0.2 in /usr/local/lib/python3.9/site-packages (from packaging->transformers) (2.4.7)\n",
      "Requirement already satisfied: certifi>=2017.4.17 in /usr/local/lib/python3.9/site-packages (from requests->transformers) (2020.12.5)\n",
      "Requirement already satisfied: idna<3,>=2.5 in /usr/local/lib/python3.9/site-packages (from requests->transformers) (2.10)\n",
      "Requirement already satisfied: urllib3<1.27,>=1.21.1 in /usr/local/lib/python3.9/site-packages (from requests->transformers) (1.26.3)\n",
      "Requirement already satisfied: chardet<5,>=3.0.2 in /usr/local/lib/python3.9/site-packages (from requests->transformers) (4.0.0)\n",
      "Requirement already satisfied: six in /usr/local/lib/python3.9/site-packages (from sacremoses->transformers) (1.15.0)\n",
      "Requirement already satisfied: click in /usr/local/lib/python3.9/site-packages (from sacremoses->transformers) (7.1.2)\n",
      "Requirement already satisfied: joblib in /usr/local/lib/python3.9/site-packages (from sacremoses->transformers) (1.0.0)\n",
      "Requirement already satisfied: sentencepiece in /usr/local/lib/python3.9/site-packages (0.1.96)\n",
      "Requirement already satisfied: ipywidgets in /usr/local/lib/python3.9/site-packages (7.6.3)\n",
      "Requirement already satisfied: ipykernel>=4.5.1 in /usr/local/lib/python3.9/site-packages (from ipywidgets) (5.1.4)\n",
      "Requirement already satisfied: jupyterlab-widgets>=1.0.0 in /usr/local/lib/python3.9/site-packages (from ipywidgets) (1.0.0)\n",
      "Requirement already satisfied: ipython>=4.0.0 in /usr/local/lib/python3.9/site-packages (from ipywidgets) (7.19.0)\n",
      "Requirement already satisfied: traitlets>=4.3.1 in /usr/local/lib/python3.9/site-packages (from ipywidgets) (5.0.5)\n",
      "Requirement already satisfied: widgetsnbextension~=3.5.0 in /usr/local/lib/python3.9/site-packages (from ipywidgets) (3.5.1)\n",
      "Requirement already satisfied: nbformat>=4.2.0 in /usr/local/lib/python3.9/site-packages (from ipywidgets) (5.0.4)\n",
      "Requirement already satisfied: appnope in /usr/local/lib/python3.9/site-packages (from ipykernel>=4.5.1->ipywidgets) (0.1.2)\n",
      "Requirement already satisfied: tornado>=4.2 in /usr/local/lib/python3.9/site-packages (from ipykernel>=4.5.1->ipywidgets) (6.1)\n",
      "Requirement already satisfied: jupyter-client in /usr/local/lib/python3.9/site-packages (from ipykernel>=4.5.1->ipywidgets) (6.1.11)\n",
      "Requirement already satisfied: jedi>=0.10 in /usr/local/lib/python3.9/site-packages (from ipython>=4.0.0->ipywidgets) (0.18.0)\n",
      "Requirement already satisfied: pygments in /usr/local/lib/python3.9/site-packages (from ipython>=4.0.0->ipywidgets) (2.7.3)\n",
      "Requirement already satisfied: pexpect>4.3 in /usr/local/lib/python3.9/site-packages (from ipython>=4.0.0->ipywidgets) (4.8.0)\n",
      "Requirement already satisfied: setuptools>=18.5 in /usr/local/lib/python3.9/site-packages (from ipython>=4.0.0->ipywidgets) (57.0.0)\n",
      "Requirement already satisfied: decorator in /usr/local/lib/python3.9/site-packages (from ipython>=4.0.0->ipywidgets) (4.4.2)\n",
      "Requirement already satisfied: pickleshare in /usr/local/lib/python3.9/site-packages (from ipython>=4.0.0->ipywidgets) (0.7.5)\n",
      "Requirement already satisfied: backcall in /usr/local/lib/python3.9/site-packages (from ipython>=4.0.0->ipywidgets) (0.2.0)\n",
      "Requirement already satisfied: prompt-toolkit!=3.0.0,!=3.0.1,<3.1.0,>=2.0.0 in /usr/local/lib/python3.9/site-packages (from ipython>=4.0.0->ipywidgets) (3.0.10)\n",
      "Requirement already satisfied: parso<0.9.0,>=0.8.0 in /usr/local/lib/python3.9/site-packages (from jedi>=0.10->ipython>=4.0.0->ipywidgets) (0.8.1)\n",
      "Requirement already satisfied: ipython-genutils in /usr/local/lib/python3.9/site-packages (from nbformat>=4.2.0->ipywidgets) (0.2.0)\n",
      "Requirement already satisfied: jsonschema!=2.5.0,>=2.4 in /usr/local/lib/python3.9/site-packages (from nbformat>=4.2.0->ipywidgets) (3.2.0)\n",
      "Requirement already satisfied: jupyter-core in /usr/local/lib/python3.9/site-packages (from nbformat>=4.2.0->ipywidgets) (4.7.0)\n",
      "Requirement already satisfied: six>=1.11.0 in /usr/local/lib/python3.9/site-packages (from jsonschema!=2.5.0,>=2.4->nbformat>=4.2.0->ipywidgets) (1.15.0)\n",
      "Requirement already satisfied: pyrsistent>=0.14.0 in /usr/local/lib/python3.9/site-packages (from jsonschema!=2.5.0,>=2.4->nbformat>=4.2.0->ipywidgets) (0.17.3)\n",
      "Requirement already satisfied: attrs>=17.4.0 in /usr/local/lib/python3.9/site-packages (from jsonschema!=2.5.0,>=2.4->nbformat>=4.2.0->ipywidgets) (20.3.0)\n",
      "Requirement already satisfied: ptyprocess>=0.5 in /usr/local/lib/python3.9/site-packages (from pexpect>4.3->ipython>=4.0.0->ipywidgets) (0.7.0)\n",
      "Requirement already satisfied: wcwidth in /usr/local/lib/python3.9/site-packages (from prompt-toolkit!=3.0.0,!=3.0.1,<3.1.0,>=2.0.0->ipython>=4.0.0->ipywidgets) (0.2.5)\n",
      "Requirement already satisfied: notebook>=4.4.1 in /usr/local/lib/python3.9/site-packages (from widgetsnbextension~=3.5.0->ipywidgets) (6.1.6)\n",
      "Requirement already satisfied: jinja2 in /usr/local/lib/python3.9/site-packages (from notebook>=4.4.1->widgetsnbextension~=3.5.0->ipywidgets) (2.11.2)\n",
      "Requirement already satisfied: pyzmq>=17 in /usr/local/lib/python3.9/site-packages (from notebook>=4.4.1->widgetsnbextension~=3.5.0->ipywidgets) (20.0.0)\n",
      "Requirement already satisfied: prometheus-client in /usr/local/lib/python3.9/site-packages (from notebook>=4.4.1->widgetsnbextension~=3.5.0->ipywidgets) (0.9.0)\n",
      "Requirement already satisfied: terminado>=0.8.3 in /usr/local/lib/python3.9/site-packages (from notebook>=4.4.1->widgetsnbextension~=3.5.0->ipywidgets) (0.9.2)\n",
      "Requirement already satisfied: nbconvert in /usr/local/lib/python3.9/site-packages (from notebook>=4.4.1->widgetsnbextension~=3.5.0->ipywidgets) (5.6.1)\n",
      "Requirement already satisfied: argon2-cffi in /usr/local/lib/python3.9/site-packages (from notebook>=4.4.1->widgetsnbextension~=3.5.0->ipywidgets) (20.1.0)\n",
      "Requirement already satisfied: Send2Trash in /usr/local/lib/python3.9/site-packages (from notebook>=4.4.1->widgetsnbextension~=3.5.0->ipywidgets) (1.5.0)\n",
      "Requirement already satisfied: python-dateutil>=2.1 in /usr/local/lib/python3.9/site-packages (from jupyter-client->ipykernel>=4.5.1->ipywidgets) (2.8.1)\n",
      "Requirement already satisfied: cffi>=1.0.0 in /usr/local/lib/python3.9/site-packages (from argon2-cffi->notebook>=4.4.1->widgetsnbextension~=3.5.0->ipywidgets) (1.14.4)\n",
      "Requirement already satisfied: pycparser in /usr/local/lib/python3.9/site-packages (from cffi>=1.0.0->argon2-cffi->notebook>=4.4.1->widgetsnbextension~=3.5.0->ipywidgets) (2.20)\n",
      "Requirement already satisfied: MarkupSafe>=0.23 in /usr/local/lib/python3.9/site-packages (from jinja2->notebook>=4.4.1->widgetsnbextension~=3.5.0->ipywidgets) (1.1.1)\n",
      "Requirement already satisfied: entrypoints>=0.2.2 in /usr/local/lib/python3.9/site-packages (from nbconvert->notebook>=4.4.1->widgetsnbextension~=3.5.0->ipywidgets) (0.3)\n",
      "Requirement already satisfied: defusedxml in /usr/local/lib/python3.9/site-packages (from nbconvert->notebook>=4.4.1->widgetsnbextension~=3.5.0->ipywidgets) (0.6.0)\n",
      "Requirement already satisfied: testpath in /usr/local/lib/python3.9/site-packages (from nbconvert->notebook>=4.4.1->widgetsnbextension~=3.5.0->ipywidgets) (0.4.4)\n",
      "Requirement already satisfied: bleach in /usr/local/lib/python3.9/site-packages (from nbconvert->notebook>=4.4.1->widgetsnbextension~=3.5.0->ipywidgets) (3.2.1)\n",
      "Requirement already satisfied: mistune<2,>=0.8.1 in /usr/local/lib/python3.9/site-packages (from nbconvert->notebook>=4.4.1->widgetsnbextension~=3.5.0->ipywidgets) (0.8.4)\n",
      "Requirement already satisfied: pandocfilters>=1.4.1 in /usr/local/lib/python3.9/site-packages (from nbconvert->notebook>=4.4.1->widgetsnbextension~=3.5.0->ipywidgets) (1.4.3)\n",
      "Requirement already satisfied: webencodings in /usr/local/lib/python3.9/site-packages (from bleach->nbconvert->notebook>=4.4.1->widgetsnbextension~=3.5.0->ipywidgets) (0.5.1)\n",
      "Requirement already satisfied: packaging in /usr/local/lib/python3.9/site-packages (from bleach->nbconvert->notebook>=4.4.1->widgetsnbextension~=3.5.0->ipywidgets) (20.9)\n",
      "Requirement already satisfied: pyparsing>=2.0.2 in /usr/local/lib/python3.9/site-packages (from packaging->bleach->nbconvert->notebook>=4.4.1->widgetsnbextension~=3.5.0->ipywidgets) (2.4.7)\n"
     ]
    },
    {
     "name": "stdout",
     "output_type": "stream",
     "text": [
      "Enabling notebook extension jupyter-js-widgets/extension...\r\n",
      "      - Validating: \u001b[32mOK\u001b[0m\r\n"
     ]
    }
   ],
   "source": [
    "!pip install transformers\n",
    "!pip install sentencepiece\n",
    "!pip install ipywidgets\n",
    "!jupyter nbextension enable --py widgetsnbextension"
   ]
  },
  {
   "cell_type": "code",
   "execution_count": 2,
   "metadata": {
    "colab": {
     "base_uri": "https://localhost:8080/"
    },
    "id": "3sQaf8lG6ID5",
    "outputId": "07c31d70-6a9b-486d-8462-9fde0733a14c"
   },
   "outputs": [
    {
     "name": "stdout",
     "output_type": "stream",
     "text": [
      "Drive already mounted at /content/gdrive; to attempt to forcibly remount, call drive.mount(\"/content/gdrive\", force_remount=True).\n"
     ]
    }
   ],
   "source": [
    "# from google.colab import drive\n",
    "# drive.mount('/content/gdrive')"
   ]
  },
  {
   "cell_type": "code",
   "execution_count": 3,
   "metadata": {
    "id": "BODQ2Ypu2OU7"
   },
   "outputs": [],
   "source": [
    "from transformers import BertTokenizer, BertConfig, BertForSequenceClassification"
   ]
  },
  {
   "cell_type": "code",
   "execution_count": 4,
   "metadata": {
    "id": "CUg3ca4X2OU7"
   },
   "outputs": [],
   "source": [
    "tokenizer = BertTokenizer.from_pretrained('bert-base-cased')"
   ]
  },
  {
   "cell_type": "code",
   "execution_count": 5,
   "metadata": {
    "id": "vBHXu1mNm3MD"
   },
   "outputs": [],
   "source": [
    "class BertDataset(torch.utils.data.Dataset):\n",
    "  def __init__(self, x, y):\n",
    "    self.x = x\n",
    "    self.y = y\n",
    "  def __len__(self):\n",
    "    return len(self.y)\n",
    "  def __getitem__(self, index):\n",
    "    return (self.x[index], self.y[index])\n",
    "  def collate(batch):\n",
    "    x = tokenizer([d[0] for d in batch], padding=True, return_tensors=\"pt\")\n",
    "    y = torch.stack([d[1] for d in batch], dim=-1)\n",
    "    return {\"x\":x, \"y\":y}"
   ]
  },
  {
   "cell_type": "code",
   "execution_count": 6,
   "metadata": {
    "id": "4HEWGivx2OU7"
   },
   "outputs": [],
   "source": [
    "def bert_read_to_dataset(filename):\n",
    "  with open(filename) as f:\n",
    "    dataset = f.read().splitlines()[1:]\n",
    "  dataset = [line.split('\\t') for line in dataset]\n",
    "#   dataset_x = [tokenizer.encode(line[1]) for line in dataset]\n",
    "  dataset_x = [line[1] for line in dataset]\n",
    "#   dataset_y = [['b','t','e','m'].index(line[4]) for line in dataset]\n",
    "#   dataset_x = [torch.tensor(tokenizer.encode(line[1]), dtype=torch.long) for line in dataset]\n",
    "  dataset_y = torch.tensor([['b','t','e','m'].index(line[4]) for line in dataset], dtype=torch.long)\n",
    "  return BertDataset(dataset_x, dataset_y)"
   ]
  },
  {
   "cell_type": "code",
   "execution_count": 7,
   "metadata": {
    "id": "NRbGaYQq6AF6"
   },
   "outputs": [],
   "source": [
    "bert_train = bert_read_to_dataset('train.txt')\n",
    "bert_test = bert_read_to_dataset('test.txt')\n",
    "bert_valid = bert_read_to_dataset('valid.txt')"
   ]
  },
  {
   "cell_type": "code",
   "execution_count": 8,
   "metadata": {
    "id": "SMOvD8EeE9DB"
   },
   "outputs": [],
   "source": [
    "class BertClassifier(nn.Module):\n",
    "  def __init__(self):\n",
    "    super().__init__()\n",
    "    config = BertConfig.from_pretrained('bert-base-cased', num_labels = 4)\n",
    "    self.bert = BertForSequenceClassification.from_pretrained('bert-base-cased', config=config)\n",
    "  def forward(self, x, labels=None):\n",
    "#     padded = padding(batch)\n",
    "#     attention_mask = masking(padded)\n",
    "    out = self.bert(**x, labels=labels)\n",
    "    return out"
   ]
  },
  {
   "cell_type": "code",
   "execution_count": 89,
   "metadata": {
    "colab": {
     "base_uri": "https://localhost:8080/"
    },
    "id": "2ThIFfAFGlPq",
    "outputId": "d43d21ab-ac3a-43c8-e313-2e2be31d1680"
   },
   "outputs": [
    {
     "name": "stderr",
     "output_type": "stream",
     "text": [
      "Some weights of the model checkpoint at bert-base-cased were not used when initializing BertForSequenceClassification: ['cls.seq_relationship.weight', 'cls.predictions.decoder.weight', 'cls.seq_relationship.bias', 'cls.predictions.transform.LayerNorm.weight', 'cls.predictions.bias', 'cls.predictions.transform.dense.bias', 'cls.predictions.transform.LayerNorm.bias', 'cls.predictions.transform.dense.weight']\n",
      "- This IS expected if you are initializing BertForSequenceClassification from the checkpoint of a model trained on another task or with another architecture (e.g. initializing a BertForSequenceClassification model from a BertForPreTraining model).\n",
      "- This IS NOT expected if you are initializing BertForSequenceClassification from the checkpoint of a model that you expect to be exactly identical (initializing a BertForSequenceClassification model from a BertForSequenceClassification model).\n",
      "Some weights of BertForSequenceClassification were not initialized from the model checkpoint at bert-base-cased and are newly initialized: ['classifier.bias', 'classifier.weight']\n",
      "You should probably TRAIN this model on a down-stream task to be able to use it for predictions and inference.\n"
     ]
    }
   ],
   "source": [
    "train_loader = torch.utils.data.DataLoader(bert_train, batch_size=20, collate_fn = BertDataset.collate)\n",
    "bert_model = BertClassifier()\n",
    "\n",
    "batch = iter(train_loader).__next__()\n",
    "x = batch['x']\n",
    "y = batch['y']\n",
    "out = bert_model(x,y)\n",
    "optimizer = optim.AdamW(bert_model.parameters(), lr=0.1)\n",
    "loss_fn = nn.CrossEntropyLoss()"
   ]
  },
  {
   "cell_type": "code",
   "execution_count": 93,
   "metadata": {
    "id": "s9kJqt_2nVoL"
   },
   "outputs": [],
   "source": [
    "def train_fn(model, loader, loss_fn, optimizer, device):\n",
    "  model.to(device)\n",
    "  model.train()\n",
    "  loss_val, acc_val = 0, 0\n",
    "  total_loss, total_count, total_acc = 0, 0, 0\n",
    "  i = 0\n",
    "  for batch in loader:\n",
    "    x = batch['x'].to(device)\n",
    "    y = batch['y'].to(device)\n",
    "    model.zero_grad()\n",
    "    out = model(x, y)\n",
    "    loss_val = out.loss\n",
    "    acc_val = (out.logits.argmax(dim = -1)==y).sum()\n",
    "    total_count += len(x['input_ids'])\n",
    "    total_loss = len(x['input_ids']) * loss_val.item()\n",
    "    loss_val.backward()\n",
    "    total_acc += acc_val\n",
    "    optimizer.zero_grad()\n",
    "    optimizer.step()\n",
    "  final_loss = total_loss/total_count\n",
    "  final_acc = total_acc/total_count\n",
    "#   print('train acc: {}, train loss: {}'.format(final_acc, final_loss))\n",
    "  return final_acc, final_loss\n",
    "    \n",
    "def eval_fn(model, loader, loss_fn, optimizer, device):\n",
    "  model.to(device)\n",
    "  model.eval()\n",
    "  loss_val, acc_val = 0, 0\n",
    "  total_loss, total_count, total_acc = 0, 0, 0\n",
    "  with torch.no_grad():\n",
    "    for batch in loader:\n",
    "      x = batch['x'].to(device)\n",
    "      y = batch['y'].to(device)\n",
    "      out = model(x, y)\n",
    "      loss_val = out.loss\n",
    "      acc_val = (out.logits.argmax(dim = -1)==y).sum()\n",
    "      total_count += len(x['input_ids'])\n",
    "      total_acc += acc_val\n",
    "      total_loss += loss_val.item() * len(x['input_ids'])\n",
    "  final_loss = total_loss/total_count\n",
    "  final_acc = total_acc/total_count\n",
    "  print('valid acc: {}, valid loss: {}'.format(final_acc, final_loss))\n",
    "  return final_acc, final_loss"
   ]
  },
  {
   "cell_type": "code",
   "execution_count": 94,
   "metadata": {},
   "outputs": [],
   "source": [
    "train_loader = torch.utils.data.DataLoader(bert_train, batch_size = 128, collate_fn=BertDataset.collate)\n",
    "valid_loader = torch.utils.data.DataLoader(bert_valid, batch_size = 32, collate_fn=BertDataset.collate)"
   ]
  },
  {
   "cell_type": "code",
   "execution_count": 95,
   "metadata": {
    "id": "PTOaqFRhRnOy"
   },
   "outputs": [
    {
     "name": "stdout",
     "output_type": "stream",
     "text": [
      "valid acc: 0.41242516040802, valid loss: 1.3310500597525499\n",
      "epoch 0:\n",
      " training loss = 0.007226225902238886,\n",
      " training accuarcy = 0.4102396070957184,\n",
      " validation loss = 1.3310500597525499,\n",
      " validation accuracy = 0.41242516040802\n",
      "valid acc: 0.43862274289131165, valid loss: 1.3376867592691661\n",
      "epoch 1:\n",
      " training loss = 0.007406983291643115,\n",
      " training accuarcy = 0.400879830121994,\n",
      " validation loss = 1.3376867592691661,\n",
      " validation accuracy = 0.43862274289131165\n",
      "valid acc: 0.419910192489624, valid loss: 1.3536086939052194\n",
      "epoch 2:\n",
      " training loss = 0.007503236870960277,\n",
      " training accuarcy = 0.37008610367774963,\n",
      " validation loss = 1.3536086939052194,\n",
      " validation accuracy = 0.419910192489624\n",
      "valid acc: 0.41017964482307434, valid loss: 1.363506193646414\n",
      "epoch 3:\n",
      " training loss = 0.007659006502600655,\n",
      " training accuarcy = 0.33648446202278137,\n",
      " validation loss = 1.363506193646414,\n",
      " validation accuracy = 0.41017964482307434\n",
      "valid acc: 0.408682644367218, valid loss: 1.368155502273651\n",
      "epoch 4:\n",
      " training loss = 0.007630042795918935,\n",
      " training accuarcy = 0.3355484902858734,\n",
      " validation loss = 1.368155502273651,\n",
      " validation accuracy = 0.408682644367218\n"
     ]
    }
   ],
   "source": [
    "# learning_rate = 0.001\n",
    "train_acc_list, train_loss_list, valid_acc_list, valid_loss_list = [], [], [], []\n",
    "num_epochs = 5\n",
    "for i in range(num_epochs):\n",
    "  device = 'cpu'\n",
    "  train_acc, train_loss = train_fn(bert_model, train_loader, loss_fn, optimizer, device)\n",
    "  valid_acc, valid_loss = eval_fn(bert_model, valid_loader, loss_fn, optimizer, device)\n",
    "  train_acc_list.append(train_acc)\n",
    "  train_loss_list.append(train_loss)\n",
    "  valid_acc_list.append(valid_acc)\n",
    "  valid_loss_list.append(valid_loss)\n",
    "  print('epoch {}:\\n training loss = {},\\n training accuarcy = {},\\n validation loss = {},\\n validation accuracy = {}'.format(i, train_loss, train_acc, valid_loss, valid_acc))"
   ]
  },
  {
   "cell_type": "code",
   "execution_count": null,
   "metadata": {
    "id": "aGmEScqKjmTn"
   },
   "outputs": [],
   "source": []
  }
 ],
 "metadata": {
  "colab": {
   "name": "chapter09_jiarakul.ipynb",
   "provenance": []
  },
  "kernelspec": {
   "display_name": "Python 3",
   "language": "python",
   "name": "python3"
  },
  "language_info": {
   "codemirror_mode": {
    "name": "ipython",
    "version": 3
   },
   "file_extension": ".py",
   "mimetype": "text/x-python",
   "name": "python",
   "nbconvert_exporter": "python",
   "pygments_lexer": "ipython3",
   "version": "3.9.4"
  }
 },
 "nbformat": 4,
 "nbformat_minor": 1
}
