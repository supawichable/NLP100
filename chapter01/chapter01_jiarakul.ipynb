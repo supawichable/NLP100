{
 "cells": [
  {
   "cell_type": "markdown",
   "metadata": {},
   "source": [
    "# 言語処理100本ノック"
   ]
  },
  {
   "cell_type": "markdown",
   "metadata": {},
   "source": [
    "## 第1章: 準備運動"
   ]
  },
  {
   "cell_type": "markdown",
   "metadata": {},
   "source": [
    "### 00. 文字列の逆順"
   ]
  },
  {
   "cell_type": "code",
   "execution_count": 14,
   "metadata": {},
   "outputs": [
    {
     "data": {
      "text/plain": [
       "'desserts'"
      ]
     },
     "execution_count": 14,
     "metadata": {},
     "output_type": "execute_result"
    }
   ],
   "source": [
    "\"stressed\"[::-1]"
   ]
  },
  {
   "cell_type": "markdown",
   "metadata": {},
   "source": [
    "### 01. 「パタトクカシーー」"
   ]
  },
  {
   "cell_type": "code",
   "execution_count": 16,
   "metadata": {},
   "outputs": [
    {
     "data": {
      "text/plain": [
       "'パトカー'"
      ]
     },
     "execution_count": 16,
     "metadata": {},
     "output_type": "execute_result"
    }
   ],
   "source": [
    "\"パタトクカシーー\"[::2]"
   ]
  },
  {
   "cell_type": "markdown",
   "metadata": {},
   "source": [
    "### 02. 「パトカー」＋「タクシー」＝「パタトクカシーー」"
   ]
  },
  {
   "cell_type": "code",
   "execution_count": 21,
   "metadata": {},
   "outputs": [
    {
     "data": {
      "text/plain": [
       "'パタトクカシーー'"
      ]
     },
     "execution_count": 21,
     "metadata": {},
     "output_type": "execute_result"
    }
   ],
   "source": [
    "str1 = \"パトカー\"\n",
    "str2 = \"タクシー\"\n",
    "''.join(i+j for (i,j) in zip(str1, str2))"
   ]
  },
  {
   "cell_type": "markdown",
   "metadata": {},
   "source": [
    "### 03. 円周率"
   ]
  },
  {
   "cell_type": "code",
   "execution_count": 44,
   "metadata": {},
   "outputs": [
    {
     "data": {
      "text/plain": [
       "[3, 1, 4, 1, 5, 9, 2, 6, 5, 3, 5, 8, 9, 7, 9]"
      ]
     },
     "execution_count": 44,
     "metadata": {},
     "output_type": "execute_result"
    }
   ],
   "source": [
    "string = \"Now I need a drink, alcoholic of course, after the heavy lectures involving quantum mechanics.\"\n",
    "string = string.translate({ord(i):None for i in ',.'})\n",
    "lenList = [len(word) for word in string.split()]\n",
    "lenList"
   ]
  },
  {
   "cell_type": "markdown",
   "metadata": {},
   "source": [
    "### 04. 元素記号"
   ]
  },
  {
   "cell_type": "code",
   "execution_count": 50,
   "metadata": {},
   "outputs": [
    {
     "data": {
      "text/plain": [
       "{'H': 1,\n",
       " 'He': 2,\n",
       " 'Li': 3,\n",
       " 'Be': 4,\n",
       " 'B': 5,\n",
       " 'C': 6,\n",
       " 'N': 7,\n",
       " 'O': 8,\n",
       " 'F': 9,\n",
       " 'Ne': 10,\n",
       " 'Na': 11,\n",
       " 'Mi': 12,\n",
       " 'Al': 13,\n",
       " 'Si': 14,\n",
       " 'P': 15,\n",
       " 'S': 16,\n",
       " 'Cl': 17,\n",
       " 'Ar': 18,\n",
       " 'K': 19,\n",
       " 'Ca': 20}"
      ]
     },
     "execution_count": 50,
     "metadata": {},
     "output_type": "execute_result"
    }
   ],
   "source": [
    "string = \"Hi He Lied Because Boron Could Not Oxidize Fluorine. New Nations Might Also Sign Peace Security Clause. Arthur King Can.\"\n",
    "stringList = string.split()\n",
    "stringDict = dict()\n",
    "for i in range(len(stringList)):\n",
    "  if i+1 in [1,5,6,7,8,9,15,16,19]:\n",
    "    key = stringList[i][0]\n",
    "    stringDict[key] = i+1\n",
    "  else:\n",
    "    key = stringList[i][0:2]\n",
    "    stringDict[key] = i+1\n",
    "stringDict"
   ]
  },
  {
   "cell_type": "markdown",
   "metadata": {},
   "source": [
    "### 05. n-gramPermalink"
   ]
  },
  {
   "cell_type": "code",
   "execution_count": 56,
   "metadata": {},
   "outputs": [
    {
     "name": "stdout",
     "output_type": "stream",
     "text": [
      "[('I', 'am'), ('am', 'an'), ('an', 'NLPer')]\n",
      "[('I', ' '), (' ', 'a'), ('a', 'm'), ('m', ' '), (' ', 'a'), ('a', 'n'), ('n', ' '), (' ', 'N'), ('N', 'L'), ('L', 'P'), ('P', 'e'), ('e', 'r')]\n"
     ]
    }
   ],
   "source": [
    "def ngram(string, n):\n",
    "  listreturn = []\n",
    "  for i in range(0,len(string)-n+1):\n",
    "    listngram = []\n",
    "    for j in range(n):\n",
    "      listngram.append(string[i+j])\n",
    "    listreturn.append(tuple(listngram))\n",
    "  return listreturn\n",
    "\n",
    "print(ngram(\"I am an NLPer\".split(), 2))\n",
    "print(ngram(\"I am an NLPer\", 2))"
   ]
  },
  {
   "cell_type": "markdown",
   "metadata": {},
   "source": [
    "### 06. 集合"
   ]
  },
  {
   "cell_type": "code",
   "execution_count": 62,
   "metadata": {},
   "outputs": [
    {
     "name": "stdout",
     "output_type": "stream",
     "text": [
      "Union:  {('a', 'g'), ('a', 'p'), ('a', 'd'), ('r', 'a'), ('p', 'a'), ('a', 'r'), ('d', 'i'), ('s', 'e'), ('p', 'h'), ('i', 's'), ('g', 'r')}\n",
      "Intersection:  {('a', 'r'), ('a', 'p'), ('r', 'a'), ('p', 'a')}\n",
      "Difference:  {('s', 'e'), ('i', 's'), ('d', 'i'), ('a', 'd')}\n"
     ]
    },
    {
     "data": {
      "text/plain": [
       "False"
      ]
     },
     "execution_count": 62,
     "metadata": {},
     "output_type": "execute_result"
    }
   ],
   "source": [
    "X = set(ngram(\"paraparaparadise\", 2))\n",
    "Y = set(ngram(\"paragraph\", 2))\n",
    "\n",
    "print(\"Union: \", X.union(Y))\n",
    "print(\"Intersection: \", X.intersection(Y))\n",
    "print(\"Difference: \", X.difference(Y))\n",
    "\n",
    "('s','e') in X.intersection(Y)"
   ]
  },
  {
   "cell_type": "markdown",
   "metadata": {},
   "source": [
    "### 07. テンプレートによる文生成Permalink"
   ]
  },
  {
   "cell_type": "code",
   "execution_count": 63,
   "metadata": {},
   "outputs": [
    {
     "data": {
      "text/plain": [
       "'12時の気温は22.4'"
      ]
     },
     "execution_count": 63,
     "metadata": {},
     "output_type": "execute_result"
    }
   ],
   "source": [
    "def permalink(x,y,z):\n",
    "  x, y ,z = str(x), str(y), str(z)\n",
    "  string = x + '時の' + y + 'は' + z\n",
    "  return string\n",
    "\n",
    "x = 12\n",
    "y = \"気温\"\n",
    "z = 22.4\n",
    "permalink(x, y, z)"
   ]
  },
  {
   "cell_type": "markdown",
   "metadata": {},
   "source": [
    "### 08. 暗号文"
   ]
  },
  {
   "cell_type": "code",
   "execution_count": 5,
   "metadata": {},
   "outputs": [
    {
     "name": "stdout",
     "output_type": "stream",
     "text": [
      "hgirmt\n",
      "string\n"
     ]
    }
   ],
   "source": [
    "def cipher(string):\n",
    "    return \"\".join(chr(219 - ord(s)) if s.islower() else s for s in string)\n",
    "\n",
    "    encrypted = cipher(\"string\")\n",
    "print(encrypted)\n",
    "decrypted = cipher(encrypted)\n",
    "print(decrypted)"
   ]
  },
  {
   "cell_type": "markdown",
   "metadata": {},
   "source": [
    "### 09. Typoglycemia"
   ]
  },
  {
   "cell_type": "code",
   "execution_count": 122,
   "metadata": {},
   "outputs": [
    {
     "data": {
      "text/plain": [
       "'I ctludon’t bveeelie that I cudold aucalytly unrdneadstd what I was rndaegig : the pmeolnnehal peworr of the hnaumn mdn.i.'"
      ]
     },
     "execution_count": 122,
     "metadata": {},
     "output_type": "execute_result"
    }
   ],
   "source": [
    "import random\n",
    "\n",
    "def word_process(string):\n",
    "  stringList = string.split()\n",
    "  retlist = []\n",
    "  for word in stringList:\n",
    "    if len(word) > 4:\n",
    "      shufflestring = list(word[1:len(word)])\n",
    "      random.shuffle(shufflestring)\n",
    "      word = word[0] + \"\".join(s for s in shufflestring) + word[-1]\n",
    "    retlist.append(word)\n",
    "  return \" \".join(word for word in retlist)\n",
    "\n",
    "word_process(\"I couldn’t believe that I could actually understand what I was reading : the phenomenal power of the human mind.\")"
   ]
  },
  {
   "cell_type": "code",
   "execution_count": null,
   "metadata": {},
   "outputs": [],
   "source": []
  },
  {
   "cell_type": "code",
   "execution_count": null,
   "metadata": {},
   "outputs": [],
   "source": []
  }
 ],
 "metadata": {
  "kernelspec": {
   "display_name": "Python 3",
   "language": "python",
   "name": "python3"
  },
  "language_info": {
   "codemirror_mode": {
    "name": "ipython",
    "version": 3
   },
   "file_extension": ".py",
   "mimetype": "text/x-python",
   "name": "python",
   "nbconvert_exporter": "python",
   "pygments_lexer": "ipython3",
   "version": "3.9.2"
  }
 },
 "nbformat": 4,
 "nbformat_minor": 4
}
