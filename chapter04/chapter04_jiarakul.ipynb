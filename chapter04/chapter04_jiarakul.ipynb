{
 "cells": [
  {
   "cell_type": "markdown",
   "metadata": {},
   "source": [
    "# 第4章: 形態素解析"
   ]
  },
  {
   "cell_type": "markdown",
   "metadata": {},
   "source": [
    "夏目漱石の小説『吾輩は猫である』の文章（neko.txt）をMeCabを使って形態素解析し，その結果をneko.txt.mecabというファイルに保存せよ．このファイルを用いて，以下の問に対応するプログラムを実装せよ．\n",
    "\n",
    "なお，問題37, 38, 39はmatplotlibもしくはGnuplotを用いるとよい．"
   ]
  },
  {
   "cell_type": "code",
   "execution_count": 316,
   "metadata": {},
   "outputs": [],
   "source": [
    "import MeCab\n",
    "import re\n",
    "import matplotlib.pyplot as plt\n",
    "import japanize_matplotlib"
   ]
  },
  {
   "cell_type": "code",
   "execution_count": 23,
   "metadata": {},
   "outputs": [
    {
     "name": "stdout",
     "output_type": "stream",
     "text": [
      "--2021-04-22 11:50:01--  https://nlp100.github.io/data/neko.txt\n",
      "Resolving nlp100.github.io (nlp100.github.io)... 185.199.108.153, 185.199.109.153, 185.199.111.153, ...\n",
      "Connecting to nlp100.github.io (nlp100.github.io)|185.199.108.153|:443... connected.\n",
      "HTTP request sent, awaiting response... 200 OK\n",
      "Length: 975789 (953K) [text/plain]\n",
      "Saving to: ‘neko.txt’\n",
      "\n",
      "neko.txt            100%[===================>] 952.92K  --.-KB/s    in 0.06s   \n",
      "\n",
      "2021-04-22 11:50:01 (15.9 MB/s) - ‘neko.txt’ saved [975789/975789]\n",
      "\n"
     ]
    }
   ],
   "source": [
    "!wget https://nlp100.github.io/data/neko.txt"
   ]
  },
  {
   "cell_type": "code",
   "execution_count": 226,
   "metadata": {},
   "outputs": [],
   "source": [
    "! mecab neko.txt -o neko.txt.mecab"
   ]
  },
  {
   "cell_type": "code",
   "execution_count": 227,
   "metadata": {},
   "outputs": [
    {
     "name": "stdout",
     "output_type": "stream",
     "text": [
      "一\t名詞,数,*,*,*,*,一,イチ,イチ\r\n",
      "\r",
      "\t記号,一般,*,*,*,*,*\r\n",
      "EOS\r\n",
      "\r",
      "\t記号,一般,*,*,*,*,*\r\n",
      "EOS\r\n",
      "　\t記号,空白,*,*,*,*,　,　,　\r\n",
      "吾輩\t名詞,代名詞,一般,*,*,*,吾輩,ワガハイ,ワガハイ\r\n",
      "は\t助詞,係助詞,*,*,*,*,は,ハ,ワ\r\n",
      "猫\t名詞,一般,*,*,*,*,猫,ネコ,ネコ\r\n",
      "で\t助動詞,*,*,*,特殊・ダ,連用形,だ,デ,デ\r\n",
      "cat: stdout: Broken pipe\r\n"
     ]
    }
   ],
   "source": [
    "! cat neko.txt.mecab | head -n 10"
   ]
  },
  {
   "cell_type": "markdown",
   "metadata": {},
   "source": [
    "## 30. 形態素解析結果の読み込み"
   ]
  },
  {
   "cell_type": "markdown",
   "metadata": {},
   "source": [
    "形態素解析結果（neko.txt.mecab）を読み込むプログラムを実装せよ．ただし，各形態素は表層形（surface），基本形（base），品詞（pos），品詞細分類1（pos1）をキーとするマッピング型に格納し，1文を形態素（マッピング型）のリストとして表現せよ．第4章の残りの問題では，ここで作ったプログラムを活用せよ．"
   ]
  },
  {
   "cell_type": "code",
   "execution_count": 222,
   "metadata": {},
   "outputs": [
    {
     "name": "stdout",
     "output_type": "stream",
     "text": [
      "一\tイチ\tイチ\t一\t名詞-数詞\t\t\t2\r\n",
      "　\t\t\t　\t空白\t\t\t\r\n",
      "吾輩\tワガハイ\tワガハイ\t我が輩\t代名詞\t\t\t0\r\n",
      "は\tワ\tハ\tは\t助詞-係助詞\t\t\t\r\n",
      "猫\tネコ\tネコ\t猫\t名詞-普通名詞-一般\t\t\t1\r\n"
     ]
    }
   ],
   "source": [
    "# tagger = MeCab.Tagger()\n",
    "\n",
    "# with open('neko.txt','r') as neko:\n",
    "#   text = neko.read()\n",
    "  \n",
    "# with open(\"neko.txt.mecab\",'w') as neko_mecab:\n",
    "#   neko_mecab.write(tagger.parse(text))\n",
    "  \n",
    "# !head -n 5 neko.txt.mecab"
   ]
  },
  {
   "cell_type": "code",
   "execution_count": 331,
   "metadata": {},
   "outputs": [
    {
     "data": {
      "text/plain": [
       "['一\\t名詞,数,*,*,*,*,一,イチ,イチ\\n',\n",
       " '\\n',\n",
       " '\\t記号,一般,*,*,*,*,*\\n',\n",
       " 'EOS\\n',\n",
       " '\\n',\n",
       " '\\t記号,一般,*,*,*,*,*\\n',\n",
       " 'EOS\\n',\n",
       " '\\u3000\\t記号,空白,*,*,*,*,\\u3000,\\u3000,\\u3000\\n',\n",
       " '吾輩\\t名詞,代名詞,一般,*,*,*,吾輩,ワガハイ,ワガハイ\\n',\n",
       " 'は\\t助詞,係助詞,*,*,*,*,は,ハ,ワ\\n']"
      ]
     },
     "execution_count": 331,
     "metadata": {},
     "output_type": "execute_result"
    }
   ],
   "source": [
    "with open(\"neko.txt.mecab\",'r') as neko_pos:\n",
    "  text_pos = neko_pos.readlines()\n",
    "  \n",
    "text_pos[:10]"
   ]
  },
  {
   "cell_type": "code",
   "execution_count": 397,
   "metadata": {},
   "outputs": [
    {
     "data": {
      "text/plain": [
       "[{'surface': '一', 'base': '一', 'pos': '名詞', 'pos1': '数'},\n",
       " {'surface': '吾輩', 'base': '吾輩', 'pos': '名詞', 'pos1': '代名詞'},\n",
       " {'surface': 'は', 'base': 'は', 'pos': '助詞', 'pos1': '係助詞'},\n",
       " {'surface': '猫', 'base': '猫', 'pos': '名詞', 'pos1': '一般'},\n",
       " {'surface': 'で', 'base': 'だ', 'pos': '助動詞', 'pos1': '*'},\n",
       " {'surface': 'ある', 'base': 'ある', 'pos': '助動詞', 'pos1': '*'},\n",
       " {'surface': '名前', 'base': '名前', 'pos': '名詞', 'pos1': '一般'},\n",
       " {'surface': 'は', 'base': 'は', 'pos': '助詞', 'pos1': '係助詞'},\n",
       " {'surface': 'まだ', 'base': 'まだ', 'pos': '副詞', 'pos1': '助詞類接続'},\n",
       " {'surface': '無い', 'base': '無い', 'pos': '形容詞', 'pos1': '自立'}]"
      ]
     },
     "execution_count": 397,
     "metadata": {},
     "output_type": "execute_result"
    }
   ],
   "source": [
    "POSList = []\n",
    "\n",
    "text_pos.remove('\\n')\n",
    "text_pos.remove('EOS\\n')\n",
    "text_pos.remove('\\t記号,一般,*,*,*,*,*\\n')\n",
    "\n",
    "for line in text_pos:\n",
    "  line_splitted = re.split('\\t|,',line)\n",
    "  if '記号' not in line_splitted[1:] and len(line_splitted) > 2:\n",
    "    POSList.append({\"surface\":line_splitted[0],\n",
    "                       \"base\":line_splitted[7], \n",
    "                       \"pos\":line_splitted[1],\n",
    "                       \"pos1\":line_splitted[2]})\n",
    "    \n",
    "POSList[:10]"
   ]
  },
  {
   "cell_type": "markdown",
   "metadata": {},
   "source": [
    "## 31. 動詞"
   ]
  },
  {
   "cell_type": "markdown",
   "metadata": {},
   "source": [
    "動詞の表層形をすべて抽出せよ"
   ]
  },
  {
   "cell_type": "code",
   "execution_count": 398,
   "metadata": {},
   "outputs": [
    {
     "data": {
      "text/plain": [
       "['生れ', 'つか', 'し', '泣い', 'し', 'いる', '始め', '見', '聞く', '捕え']"
      ]
     },
     "execution_count": 398,
     "metadata": {},
     "output_type": "execute_result"
    }
   ],
   "source": [
    "verbs = [x['surface'] for x in POSList if x['pos']=='動詞']\n",
    "verbs[:10]"
   ]
  },
  {
   "cell_type": "markdown",
   "metadata": {},
   "source": [
    "## 32. 動詞の基本形"
   ]
  },
  {
   "cell_type": "markdown",
   "metadata": {},
   "source": [
    "動詞の基本形をすべて抽出せよ．"
   ]
  },
  {
   "cell_type": "code",
   "execution_count": 279,
   "metadata": {},
   "outputs": [
    {
     "data": {
      "text/plain": [
       "['生れる', 'つく', 'する', '泣く', 'する', 'いる', '始める', '見る', '聞く', '捕える']"
      ]
     },
     "execution_count": 279,
     "metadata": {},
     "output_type": "execute_result"
    }
   ],
   "source": [
    "verbs_std = [x['base'] for x in POSList if x['pos']=='動詞']\n",
    "verbs_std[:10]"
   ]
  },
  {
   "cell_type": "markdown",
   "metadata": {},
   "source": [
    "## 33. 「AのB」"
   ]
  },
  {
   "cell_type": "markdown",
   "metadata": {},
   "source": [
    "2つの名詞が「の」で連結されている名詞句を抽出せよ．"
   ]
  },
  {
   "cell_type": "code",
   "execution_count": 395,
   "metadata": {},
   "outputs": [
    {
     "data": {
      "text/plain": [
       "['彼の掌', '掌の上', '書生の顔', 'はずの顔', '顔の真中', '穴の中', '書生の掌', '掌の裏', '何の事', '肝心の母親']"
      ]
     },
     "execution_count": 395,
     "metadata": {},
     "output_type": "execute_result"
    }
   ],
   "source": [
    "nounphrase = [POSList[x-1]['surface'] + 'の' + POSList[x+1]['surface'] \n",
    "              for x in range(len(POSList)) \n",
    "              if (POSList[x]['surface'] == 'の')\n",
    "             and (POSList[x-1]['pos'] == '名詞')\n",
    "             and (POSList[x+1]['pos'] == '名詞')]\n",
    "\n",
    "nounphrase[:10]"
   ]
  },
  {
   "cell_type": "markdown",
   "metadata": {},
   "source": [
    "## 34. 名詞の連接"
   ]
  },
  {
   "cell_type": "markdown",
   "metadata": {},
   "source": [
    "名詞の連接（連続して出現する名詞）を最長一致で抽出せよ．"
   ]
  },
  {
   "cell_type": "code",
   "execution_count": 396,
   "metadata": {},
   "outputs": [
    {
     "data": {
      "text/plain": [
       "'南無阿弥陀仏南無阿弥陀仏'"
      ]
     },
     "execution_count": 396,
     "metadata": {},
     "output_type": "execute_result"
    }
   ],
   "source": [
    "maxnoun = 1\n",
    "nouncount = 0\n",
    "nounphrase = ''\n",
    "for i in range(len(POSList)):\n",
    "  if i == 0:\n",
    "    if POSList[i]['pos'] == '名詞':\n",
    "      nouncount += 1\n",
    "  else:\n",
    "    if POSList[i]['pos'] == '名詞':\n",
    "      nouncount += 1\n",
    "      if nouncount > maxnoun:\n",
    "        maxcount = nouncount\n",
    "        nounphrase = ''.join([POSList[x]['surface'] for x in range(i-maxcount+1, i+1)])\n",
    "    else:\n",
    "      nouncount = 0\n",
    "\n",
    "nounphrase"
   ]
  },
  {
   "cell_type": "markdown",
   "metadata": {},
   "source": [
    "## 35. 単語の出現頻度"
   ]
  },
  {
   "cell_type": "markdown",
   "metadata": {},
   "source": [
    "文章中に出現する単語とその出現頻度を求め，出現頻度の高い順に並べよ．"
   ]
  },
  {
   "cell_type": "code",
   "execution_count": 294,
   "metadata": {},
   "outputs": [
    {
     "data": {
      "text/plain": [
       "[('の', 9194),\n",
       " ('て', 6848),\n",
       " ('は', 6420),\n",
       " ('に', 6243),\n",
       " ('を', 6071),\n",
       " ('だ', 5972),\n",
       " ('と', 5508),\n",
       " ('が', 5337),\n",
       " ('た', 4267),\n",
       " ('する', 3657)]"
      ]
     },
     "execution_count": 294,
     "metadata": {},
     "output_type": "execute_result"
    }
   ],
   "source": [
    "count = {}\n",
    "\n",
    "for word in POSList:\n",
    "  if word['base'] not in count.keys():\n",
    "    count[word['base']] = 0\n",
    "  count[word['base']] += 1\n",
    "\n",
    "count_sorted = {}\n",
    "for word in sorted(count, key=count.get, reverse=True):\n",
    "  count_sorted[word] = count[word]\n",
    "\n",
    "list(count_sorted.items())[:10]"
   ]
  },
  {
   "cell_type": "markdown",
   "metadata": {},
   "source": [
    "## 36. 頻度上位10語"
   ]
  },
  {
   "cell_type": "markdown",
   "metadata": {},
   "source": [
    "出現頻度が高い10語とその出現頻度をグラフ（例えば棒グラフなど）で表示せよ．"
   ]
  },
  {
   "cell_type": "code",
   "execution_count": 367,
   "metadata": {},
   "outputs": [
    {
     "name": "stdout",
     "output_type": "stream",
     "text": [
      "dict_keys(['の', 'て', 'は', 'に', 'を', 'だ', 'と', 'が', 'た', 'する'])\n",
      "dict_values([9194, 6848, 6420, 6243, 6071, 5972, 5508, 5337, 4267, 3657])\n"
     ]
    },
    {
     "data": {
      "image/png": "[encoded data removed]",
      "text/plain": [
       "<Figure size 432x288 with 1 Axes>"
      ]
     },
     "metadata": {
      "needs_background": "light"
     },
     "output_type": "display_data"
    }
   ],
   "source": [
    "top10 = dict(list(count_sorted.items())[:10])\n",
    "words = top10.keys()\n",
    "wordcount = top10.values() \n",
    "print(words)\n",
    "print(wordcount)\n",
    "plt.bar(words, wordcount)\n",
    "plt.title('top 10 word frequency')\n",
    "plt.xlabel('words')\n",
    "plt.ylabel('wordcount')\n",
    "plt.show()"
   ]
  },
  {
   "cell_type": "markdown",
   "metadata": {},
   "source": [
    "## 37. 「猫」と共起頻度の高い上位10語"
   ]
  },
  {
   "cell_type": "markdown",
   "metadata": {},
   "source": [
    "猫」とよく共起する（共起頻度が高い）10語とその出現頻度をグラフ（例えば棒グラフなど）で表示せよ．"
   ]
  },
  {
   "cell_type": "code",
   "execution_count": 342,
   "metadata": {},
   "outputs": [],
   "source": [
    "with open(\"neko.txt.mecab\",'r') as neko_pos:\n",
    "  text_pos2 = neko_pos.read()"
   ]
  },
  {
   "cell_type": "code",
   "execution_count": 364,
   "metadata": {},
   "outputs": [
    {
     "data": {
      "text/plain": [
       "[('の', 391),\n",
       " ('は', 272),\n",
       " ('に', 250),\n",
       " ('を', 232),\n",
       " ('だ', 231),\n",
       " ('て', 229),\n",
       " ('と', 202),\n",
       " ('が', 180),\n",
       " ('する', 144),\n",
       " ('た', 140)]"
      ]
     },
     "execution_count": 364,
     "metadata": {},
     "output_type": "execute_result"
    }
   ],
   "source": [
    "sentences = []\n",
    "for sentence in text_pos2.split('EOS'):\n",
    "  sentences.append(sentence.split('\\n'))\n",
    "\n",
    "neko_cooccur = {}\n",
    "for sentence in sentences:\n",
    "  sentence_base = []\n",
    "  for line in sentence:\n",
    "    line_splitted = re.split('\\t|,',line)\n",
    "    if '記号' not in line_splitted[1:] and len(line_splitted) > 2:\n",
    "        sentence_base.append(line_splitted[7])\n",
    "  if '猫' in sentence_base:\n",
    "    sentence_base.remove('猫')\n",
    "    for word in sentence_base:\n",
    "      neko_cooccur[word] = neko_cooccur[word] + 1 if word in neko_cooccur.keys() else 1\n",
    "\n",
    "neko_cooccur_sorted = {}\n",
    "for word in sorted(neko_cooccur, key=neko_cooccur.get, reverse=True):\n",
    "  neko_cooccur_sorted[word] = neko_cooccur[word]\n",
    "\n",
    "list(neko_cooccur_sorted.items())[:10]"
   ]
  },
  {
   "cell_type": "code",
   "execution_count": 368,
   "metadata": {},
   "outputs": [
    {
     "data": {
      "image/png": "[encoded data removed]",
      "text/plain": [
       "<Figure size 432x288 with 1 Axes>"
      ]
     },
     "metadata": {
      "needs_background": "light"
     },
     "output_type": "display_data"
    }
   ],
   "source": [
    "neko_cooccur_top10 = dict(list(neko_cooccur_sorted.items())[:10])\n",
    "x, y = neko_cooccur_top10.keys(), neko_cooccur_top10.values()\n",
    "plt.bar(x,y)\n",
    "plt.title('frequency of top 10 words co-occuring with 猫')\n",
    "plt.xlabel('words')\n",
    "plt.ylabel('wordcount')\n",
    "plt.show()"
   ]
  },
  {
   "cell_type": "markdown",
   "metadata": {},
   "source": [
    "## 38. ヒストグラム"
   ]
  },
  {
   "cell_type": "markdown",
   "metadata": {},
   "source": [
    "単語の出現頻度のヒストグラムを描け．ただし，横軸は出現頻度を表し，1から単語の出現頻度の最大値までの線形目盛とする．縦軸はx軸で示される出現頻度となった単語の異なり数（種類数）である．"
   ]
  },
  {
   "cell_type": "code",
   "execution_count": 386,
   "metadata": {},
   "outputs": [
    {
     "data": {
      "text/plain": [
       "<function matplotlib.pyplot.show(close=None, block=None)>"
      ]
     },
     "execution_count": 386,
     "metadata": {},
     "output_type": "execute_result"
    },
    {
     "data": {
      "image/png": "[encoded data removed]",
      "text/plain": [
       "<Figure size 432x288 with 1 Axes>"
      ]
     },
     "metadata": {
      "needs_background": "light"
     },
     "output_type": "display_data"
    }
   ],
   "source": [
    "x = count_sorted.values()\n",
    "plt.hist(x, bins=100)\n",
    "plt.title('Histogram of word frequency')\n",
    "plt.xlabel('word frequency')\n",
    "plt.ylabel('number of words')\n",
    "plt.show"
   ]
  },
  {
   "cell_type": "markdown",
   "metadata": {},
   "source": [
    "## 39. Zipfの法則"
   ]
  },
  {
   "cell_type": "markdown",
   "metadata": {},
   "source": [
    "単語の出現頻度順位を横軸，その出現頻度を縦軸として，両対数グラフをプロットせよ．"
   ]
  },
  {
   "cell_type": "code",
   "execution_count": 393,
   "metadata": {},
   "outputs": [
    {
     "data": {
      "image/png": "[encoded data removed]",
      "text/plain": [
       "<Figure size 432x288 with 1 Axes>"
      ]
     },
     "metadata": {
      "needs_background": "light"
     },
     "output_type": "display_data"
    }
   ],
   "source": [
    "x = range(1,len(count_sorted.keys())+1)\n",
    "y = count_sorted.values()\n",
    "plt.loglog(x,y)\n",
    "plt.title(\"Log-log graph of word frequency\")\n",
    "plt.xlabel('word order')\n",
    "plt.ylabel('wordcount')\n",
    "plt.show()"
   ]
  },
  {
   "cell_type": "code",
   "execution_count": null,
   "metadata": {},
   "outputs": [],
   "source": []
  }
 ],
 "metadata": {
  "kernelspec": {
   "display_name": "Python 3",
   "language": "python",
   "name": "python3"
  },
  "language_info": {
   "codemirror_mode": {
    "name": "ipython",
    "version": 3
   },
   "file_extension": ".py",
   "mimetype": "text/x-python",
   "name": "python",
   "nbconvert_exporter": "python",
   "pygments_lexer": "ipython3",
   "version": "3.9.2"
  }
 },
 "nbformat": 4,
 "nbformat_minor": 4
}
