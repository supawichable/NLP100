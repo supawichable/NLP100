{
 "cells": [
  {
   "cell_type": "markdown",
   "metadata": {},
   "source": [
    "# 第6章: 機械学習"
   ]
  },
  {
   "cell_type": "markdown",
   "metadata": {},
   "source": [
    "本章では，Fabio Gasparetti氏が公開しているNews Aggregator Data Setを用い，ニュース記事の見出しを「ビジネス」「科学技術」「エンターテイメント」「健康」のカテゴリに分類するタスク（カテゴリ分類）に取り組む．"
   ]
  },
  {
   "cell_type": "code",
   "execution_count": 3,
   "metadata": {},
   "outputs": [],
   "source": [
    "import pandas as pd\n",
    "import numpy as np\n",
    "import csv\n",
    "import re\n",
    "from matplotlib import pyplot as plt\n",
    "from sklearn.feature_extraction.text import CountVectorizer, TfidfVectorizer\n",
    "from sklearn.linear_model import LogisticRegression\n",
    "from sklearn.metrics import accuracy_score, confusion_matrix, precision_recall_fscore_support\n",
    "from sklearn.pipeline import Pipeline\n",
    "from sklearn.ensemble import RandomForestClassifier\n",
    "from sklearn.model_selection import GridSearchCV, RandomizedSearchCV\n",
    "from sklearn import svm"
   ]
  },
  {
   "cell_type": "markdown",
   "metadata": {},
   "source": [
    "## 50. データの入手・整形"
   ]
  },
  {
   "cell_type": "markdown",
   "metadata": {},
   "source": [
    "News Aggregator Data Setをダウンロードし、以下の要領で学習データ（train.txt），検証データ（valid.txt），評価データ（test.txt）を作成せよ．\n",
    "\n",
    "ダウンロードしたzipファイルを解凍し，readme.txtの説明を読む．\n",
    "情報源（publisher）が”Reuters”, “Huffington Post”, “Businessweek”, “Contactmusic.com”, “Daily Mail”の事例（記事）のみを抽出する．\n",
    "抽出された事例をランダムに並び替える．\n",
    "抽出された事例の80%を学習データ，残りの10%ずつを検証データと評価データに分割し，それぞれtrain.txt，valid.txt，test.txtというファイル名で保存する．ファイルには，１行に１事例を書き出すこととし，カテゴリ名と記事見出しのタブ区切り形式とせよ（このファイルは後に問題70で再利用する）．\n",
    "\n",
    "学習データと評価データを作成したら，各カテゴリの事例数を確認せよ．"
   ]
  },
  {
   "cell_type": "code",
   "execution_count": 4,
   "metadata": {},
   "outputs": [],
   "source": [
    "# !wget https://archive.ics.uci.edu/ml/machine-learning-databases/00359/NewsAggregatorDataset.zip\n",
    "# !unzip NewsAggregatorDataset.zip"
   ]
  },
  {
   "cell_type": "code",
   "execution_count": 5,
   "metadata": {},
   "outputs": [],
   "source": [
    "with open(\"newsCorpora.csv\",'r') as news:\n",
    "  data = news.read()\n",
    "data_table = []\n",
    "for row in data.split('\\n'):\n",
    "  data_table.append(row.split('\\t'))\n",
    "df = pd.DataFrame(data_table)\n",
    "df.set_axis(['ID','TITLE','URL','PUBLISHER','CATEGORY','STORY','HOSTNAME','TIMESTAMP'], axis=1, inplace=True)\n",
    "df = df.set_index('ID')\n",
    "\n",
    "extractPublisher = [\"Reuters\", \"Huffington Post\", \"Businessweek\", \"Contactmusic.com\", \"Daily Mail\"]\n",
    "df = df.loc[df['PUBLISHER'].isin(extractPublisher)]\n",
    "\n",
    "df = df.sample(frac=1, random_state=42)\n",
    "train, valid, test = np.split(df, [int(.8*len(df)), int(.9*len(df))])"
   ]
  },
  {
   "cell_type": "code",
   "execution_count": 6,
   "metadata": {},
   "outputs": [],
   "source": [
    "train.to_csv('train.txt',sep='\\t',quoting=csv.QUOTE_NONE)\n",
    "valid.to_csv('valid.txt',sep='\\t',quoting=csv.QUOTE_NONE)\n",
    "test.to_csv('test.txt',sep='\\t',quoting=csv.QUOTE_NONE)"
   ]
  },
  {
   "cell_type": "markdown",
   "metadata": {},
   "source": [
    "## 51. 特徴量抽出"
   ]
  },
  {
   "cell_type": "markdown",
   "metadata": {},
   "source": [
    "学習データ，検証データ，評価データから特徴量を抽出し，それぞれtrain.feature.txt，valid.feature.txt，test.feature.txtというファイル名で保存せよ． なお，カテゴリ分類に有用そうな特徴量は各自で自由に設計せよ．記事の見出しを単語列に変換したものが最低限のベースラインとなるであろう．"
   ]
  },
  {
   "cell_type": "code",
   "execution_count": 1,
   "metadata": {},
   "outputs": [],
   "source": [
    "def preprocess(text):\n",
    "  text = text.lower()\n",
    "  text = re.sub(r\"[.?!-/:;\\\"]\",'',text)\n",
    "  text = re.sub(r\"[0-9]\",\"\",text)\n",
    "  return text"
   ]
  },
  {
   "cell_type": "code",
   "execution_count": 8,
   "metadata": {},
   "outputs": [
    {
     "data": {
      "text/plain": [
       "TfidfVectorizer(min_df=5)"
      ]
     },
     "execution_count": 8,
     "metadata": {},
     "output_type": "execute_result"
    }
   ],
   "source": [
    "vectorizer = TfidfVectorizer(min_df=5)\n",
    "vectorizer\n",
    "# title_wordlist = [x.split() for x in title_processed]"
   ]
  },
  {
   "cell_type": "code",
   "execution_count": 9,
   "metadata": {},
   "outputs": [],
   "source": [
    "def featureExtractFT(df):\n",
    "  title = df.TITLE\n",
    "  title_processed = [preprocess(x) for x in title]\n",
    "  X = vectorizer.fit_transform(title_processed)\n",
    "  return X.toarray()\n",
    "\n",
    "def featureExtractT(df):\n",
    "  title = df.TITLE\n",
    "  title_processed = [preprocess(x) for x in title]\n",
    "  X = vectorizer.transform(title_processed)\n",
    "  return X.toarray()"
   ]
  },
  {
   "cell_type": "code",
   "execution_count": 10,
   "metadata": {},
   "outputs": [],
   "source": [
    "# def featureExtract(df):\n",
    "#   title = df.TITLE\n",
    "#   title_processed = [preprocess(x) for x in title]\n",
    "#   title_wordlist = [x.split() for x in title_processed]\n",
    "#   X = vectorizer.fit_transform(title_processed)\n",
    "#   new_df = df.drop(['URL','STORY','HOSTNAME','TIMESTAMP'],axis=1,inplace=False)\n",
    "#   new_df['TOKEN'] = title_wordlist\n",
    "#   return new_df\n",
    "  # print(len(df))\n",
    "  # df['VEC'] = X.toarray()"
   ]
  },
  {
   "cell_type": "code",
   "execution_count": 11,
   "metadata": {},
   "outputs": [],
   "source": [
    "train_extracted = pd.DataFrame(featureExtractFT(train), columns=vectorizer.get_feature_names())\n",
    "valid_extracted = pd.DataFrame(featureExtractT(valid), columns=vectorizer.get_feature_names())\n",
    "test_extracted = pd.DataFrame(featureExtractT(test), columns=vectorizer.get_feature_names())"
   ]
  },
  {
   "cell_type": "code",
   "execution_count": 12,
   "metadata": {},
   "outputs": [],
   "source": [
    "train_extracted.to_csv('train.feature.txt',sep='\\t',quoting=csv.QUOTE_NONE)\n",
    "valid_extracted.to_csv('valid.feature.txt',sep='\\t',quoting=csv.QUOTE_NONE)\n",
    "test_extracted.to_csv('test.feature.txt',sep='\\t',quoting=csv.QUOTE_NONE)"
   ]
  },
  {
   "cell_type": "markdown",
   "metadata": {},
   "source": [
    "## 52. 学習"
   ]
  },
  {
   "cell_type": "markdown",
   "metadata": {},
   "source": [
    "51で構築した学習データを用いて，ロジスティック回帰モデルを学習せよ．"
   ]
  },
  {
   "cell_type": "code",
   "execution_count": 13,
   "metadata": {},
   "outputs": [
    {
     "data": {
      "text/plain": [
       "(10684, 3631)"
      ]
     },
     "execution_count": 13,
     "metadata": {},
     "output_type": "execute_result"
    }
   ],
   "source": [
    "train_extracted.shape"
   ]
  },
  {
   "cell_type": "code",
   "execution_count": 14,
   "metadata": {},
   "outputs": [
    {
     "data": {
      "text/plain": [
       "(1336, 3631)"
      ]
     },
     "execution_count": 14,
     "metadata": {},
     "output_type": "execute_result"
    }
   ],
   "source": [
    "test_extracted.shape"
   ]
  },
  {
   "cell_type": "code",
   "execution_count": 15,
   "metadata": {},
   "outputs": [
    {
     "name": "stderr",
     "output_type": "stream",
     "text": [
      "/usr/local/lib/python3.9/site-packages/sklearn/linear_model/_logistic.py:763: ConvergenceWarning: lbfgs failed to converge (status=1):\n",
      "STOP: TOTAL NO. of ITERATIONS REACHED LIMIT.\n",
      "\n",
      "Increase the number of iterations (max_iter) or scale the data as shown in:\n",
      "    https://scikit-learn.org/stable/modules/preprocessing.html\n",
      "Please also refer to the documentation for alternative solver options:\n",
      "    https://scikit-learn.org/stable/modules/linear_model.html#logistic-regression\n",
      "  n_iter_i = _check_optimize_result(\n"
     ]
    },
    {
     "data": {
      "text/plain": [
       "LogisticRegression()"
      ]
     },
     "execution_count": 15,
     "metadata": {},
     "output_type": "execute_result"
    }
   ],
   "source": [
    "logreg = LogisticRegression()\n",
    "X = train_extracted\n",
    "Y = train.CATEGORY\n",
    "logreg.fit(X,Y)"
   ]
  },
  {
   "cell_type": "markdown",
   "metadata": {},
   "source": [
    "## 53. 予測"
   ]
  },
  {
   "cell_type": "markdown",
   "metadata": {},
   "source": [
    "52で学習したロジスティック回帰モデルを用い，与えられた記事見出しからカテゴリとその予測確率を計算するプログラムを実装せよ．"
   ]
  },
  {
   "cell_type": "code",
   "execution_count": 16,
   "metadata": {},
   "outputs": [
    {
     "data": {
      "text/plain": [
       "array(['b', 't', 'e', ..., 'e', 'b', 'e'], dtype=object)"
      ]
     },
     "execution_count": 16,
     "metadata": {},
     "output_type": "execute_result"
    }
   ],
   "source": [
    "Ypred = logreg.predict(test_extracted)\n",
    "Ypred"
   ]
  },
  {
   "cell_type": "markdown",
   "metadata": {},
   "source": [
    "## 54. 正解率の計測"
   ]
  },
  {
   "cell_type": "markdown",
   "metadata": {},
   "source": [
    "52で学習したロジスティック回帰モデルの正解率を，学習データおよび評価データ上で計測せよ．"
   ]
  },
  {
   "cell_type": "code",
   "execution_count": 17,
   "metadata": {},
   "outputs": [
    {
     "data": {
      "text/plain": [
       "0.9348558592287532"
      ]
     },
     "execution_count": 17,
     "metadata": {},
     "output_type": "execute_result"
    }
   ],
   "source": [
    "# 学習データ\n",
    "YTrainPred = logreg.predict(train_extracted)\n",
    "accuracy_score(train['CATEGORY'],YTrainPred)"
   ]
  },
  {
   "cell_type": "code",
   "execution_count": 18,
   "metadata": {},
   "outputs": [
    {
     "data": {
      "text/plain": [
       "0.9079341317365269"
      ]
     },
     "execution_count": 18,
     "metadata": {},
     "output_type": "execute_result"
    }
   ],
   "source": [
    "# 評価データ\n",
    "accuracy_score(test['CATEGORY'],Ypred)"
   ]
  },
  {
   "cell_type": "markdown",
   "metadata": {},
   "source": [
    "## 55. 混同行列の作成"
   ]
  },
  {
   "cell_type": "markdown",
   "metadata": {},
   "source": [
    "52で学習したロジスティック回帰モデルの混同行列（confusion matrix）を，学習データおよび評価データ上で作成せよ．"
   ]
  },
  {
   "cell_type": "code",
   "execution_count": 19,
   "metadata": {},
   "outputs": [
    {
     "data": {
      "text/plain": [
       "array([[4366,   71,    8,   55],\n",
       "       [  38, 4171,    1,    6],\n",
       "       [  83,  127,  525,    7],\n",
       "       [ 173,  119,    8,  926]])"
      ]
     },
     "execution_count": 19,
     "metadata": {},
     "output_type": "execute_result"
    }
   ],
   "source": [
    "# 学習データ\n",
    "confusion_matrix(train['CATEGORY'],YTrainPred)"
   ]
  },
  {
   "cell_type": "code",
   "execution_count": 20,
   "metadata": {},
   "outputs": [
    {
     "data": {
      "text/plain": [
       "array([[559,  15,   2,   6],\n",
       "       [  6, 528,   0,   2],\n",
       "       [ 16,  17,  40,   4],\n",
       "       [ 33,  21,   1,  86]])"
      ]
     },
     "execution_count": 20,
     "metadata": {},
     "output_type": "execute_result"
    }
   ],
   "source": [
    "# 評価データ\n",
    "confusion_matrix(test['CATEGORY'],Ypred)"
   ]
  },
  {
   "cell_type": "markdown",
   "metadata": {},
   "source": [
    "## 56. 適合率，再現率，F1スコアの計測"
   ]
  },
  {
   "cell_type": "markdown",
   "metadata": {},
   "source": [
    "52で学習したロジスティック回帰モデルの適合率，再現率，F1スコアを，評価データ上で計測せよ．カテゴリごとに適合率，再現率，F1スコアを求め，カテゴリごとの性能をマイクロ平均（micro-average）とマクロ平均（macro-average）で統合せよ．\n",
    "\n"
   ]
  },
  {
   "cell_type": "code",
   "execution_count": 21,
   "metadata": {},
   "outputs": [
    {
     "data": {
      "text/plain": [
       "(0.9079341317365269, 0.9079341317365269, 0.9079341317365269, None)"
      ]
     },
     "execution_count": 21,
     "metadata": {},
     "output_type": "execute_result"
    }
   ],
   "source": [
    "precision_recall_fscore_support(test['CATEGORY'], Ypred, average='micro')"
   ]
  },
  {
   "cell_type": "code",
   "execution_count": 22,
   "metadata": {},
   "outputs": [
    {
     "data": {
      "text/plain": [
       "(0.9067462500838401, 0.7687413310041833, 0.8166259958295257, None)"
      ]
     },
     "execution_count": 22,
     "metadata": {},
     "output_type": "execute_result"
    }
   ],
   "source": [
    "precision_recall_fscore_support(test['CATEGORY'], Ypred, average='macro')"
   ]
  },
  {
   "cell_type": "markdown",
   "metadata": {},
   "source": [
    "## 57. 特徴量の重みの確認"
   ]
  },
  {
   "cell_type": "markdown",
   "metadata": {},
   "source": [
    "52で学習したロジスティック回帰モデルの中で，重みの高い特徴量トップ10と，重みの低い特徴量トップ10を確認せよ．"
   ]
  },
  {
   "cell_type": "code",
   "execution_count": 23,
   "metadata": {},
   "outputs": [],
   "source": [
    "categories = ['b','e','m','t']"
   ]
  },
  {
   "cell_type": "code",
   "execution_count": 24,
   "metadata": {},
   "outputs": [
    {
     "name": "stdout",
     "output_type": "stream",
     "text": [
      "b\n",
      "top10: bank fed ecb china ukraine euro profit stocks oil update \n",
      "bottom10: and her ebola video star fda she study drug kardashian \n",
      "e\n",
      "top10: kardashian chris kim paul miley cyrus her wedding movie star \n",
      "bottom10: us update google study ceo facebook gm billion china says \n",
      "m\n",
      "top10: ebola cancer fda study drug mers health cases heart medical \n",
      "bottom10: gm facebook climate google apple ceo bank deal twitter sales \n",
      "t\n",
      "top10: google facebook apple climate microsoft gm comcast fcc heartbleed space \n",
      "bottom10: stocks her high fed health percent cancer drug ukraine american \n"
     ]
    }
   ],
   "source": [
    "for i,cate in enumerate(categories):\n",
    "  print(cate)\n",
    "  np.argsort(logreg.coef_[i])\n",
    "  top10 = np.argsort(logreg.coef_[i])[:-11:-1]\n",
    "  bottom10 = np.argsort(logreg.coef_[i])[:10]\n",
    "  print(\"top10:\", end=\" \")\n",
    "  for f in top10:\n",
    "    print(vectorizer.get_feature_names()[f], end=\" \")\n",
    "  print()\n",
    "  print(\"bottom10:\", end=\" \")\n",
    "  for f in bottom10:\n",
    "    print(vectorizer.get_feature_names()[f], end=\" \")\n",
    "  print('')"
   ]
  },
  {
   "cell_type": "markdown",
   "metadata": {},
   "source": [
    "## 58. 正則化パラメータの変更"
   ]
  },
  {
   "cell_type": "markdown",
   "metadata": {},
   "source": [
    "ロジスティック回帰モデルを学習するとき，正則化パラメータを調整することで，学習時の過学習（overfitting）の度合いを制御できる．異なる正則化パラメータでロジスティック回帰モデルを学習し，学習データ，検証データ，および評価データ上の正解率を求めよ．実験の結果は，正則化パラメータを横軸，正解率を縦軸としたグラフにまとめよ．"
   ]
  },
  {
   "cell_type": "code",
   "execution_count": 25,
   "metadata": {},
   "outputs": [
    {
     "name": "stderr",
     "output_type": "stream",
     "text": [
      "/usr/local/lib/python3.9/site-packages/sklearn/linear_model/_logistic.py:763: ConvergenceWarning: lbfgs failed to converge (status=1):\n",
      "STOP: TOTAL NO. of ITERATIONS REACHED LIMIT.\n",
      "\n",
      "Increase the number of iterations (max_iter) or scale the data as shown in:\n",
      "    https://scikit-learn.org/stable/modules/preprocessing.html\n",
      "Please also refer to the documentation for alternative solver options:\n",
      "    https://scikit-learn.org/stable/modules/linear_model.html#logistic-regression\n",
      "  n_iter_i = _check_optimize_result(\n",
      "/usr/local/lib/python3.9/site-packages/sklearn/linear_model/_logistic.py:763: ConvergenceWarning: lbfgs failed to converge (status=1):\n",
      "STOP: TOTAL NO. of ITERATIONS REACHED LIMIT.\n",
      "\n",
      "Increase the number of iterations (max_iter) or scale the data as shown in:\n",
      "    https://scikit-learn.org/stable/modules/preprocessing.html\n",
      "Please also refer to the documentation for alternative solver options:\n",
      "    https://scikit-learn.org/stable/modules/linear_model.html#logistic-regression\n",
      "  n_iter_i = _check_optimize_result(\n",
      "/usr/local/lib/python3.9/site-packages/sklearn/linear_model/_logistic.py:763: ConvergenceWarning: lbfgs failed to converge (status=1):\n",
      "STOP: TOTAL NO. of ITERATIONS REACHED LIMIT.\n",
      "\n",
      "Increase the number of iterations (max_iter) or scale the data as shown in:\n",
      "    https://scikit-learn.org/stable/modules/preprocessing.html\n",
      "Please also refer to the documentation for alternative solver options:\n",
      "    https://scikit-learn.org/stable/modules/linear_model.html#logistic-regression\n",
      "  n_iter_i = _check_optimize_result(\n",
      "/usr/local/lib/python3.9/site-packages/sklearn/linear_model/_logistic.py:763: ConvergenceWarning: lbfgs failed to converge (status=1):\n",
      "STOP: TOTAL NO. of ITERATIONS REACHED LIMIT.\n",
      "\n",
      "Increase the number of iterations (max_iter) or scale the data as shown in:\n",
      "    https://scikit-learn.org/stable/modules/preprocessing.html\n",
      "Please also refer to the documentation for alternative solver options:\n",
      "    https://scikit-learn.org/stable/modules/linear_model.html#logistic-regression\n",
      "  n_iter_i = _check_optimize_result(\n",
      "/usr/local/lib/python3.9/site-packages/sklearn/linear_model/_logistic.py:763: ConvergenceWarning: lbfgs failed to converge (status=1):\n",
      "STOP: TOTAL NO. of ITERATIONS REACHED LIMIT.\n",
      "\n",
      "Increase the number of iterations (max_iter) or scale the data as shown in:\n",
      "    https://scikit-learn.org/stable/modules/preprocessing.html\n",
      "Please also refer to the documentation for alternative solver options:\n",
      "    https://scikit-learn.org/stable/modules/linear_model.html#logistic-regression\n",
      "  n_iter_i = _check_optimize_result(\n"
     ]
    }
   ],
   "source": [
    "accuracy_train = []\n",
    "accuracy_valid = []\n",
    "accuracy_test = []\n",
    "\n",
    "X = train_extracted\n",
    "Y = train.CATEGORY\n",
    "for c in range(-5,5):\n",
    "  logreg = LogisticRegression(C=10**c)\n",
    "  logreg.fit(X,Y)\n",
    "  YTrainPred = logreg.predict(train_extracted)\n",
    "  YValidPred = logreg.predict(valid_extracted)\n",
    "  YTestPred = logreg.predict(test_extracted)\n",
    "  accuracy_train.append(accuracy_score(train['CATEGORY'],YTrainPred))\n",
    "  accuracy_valid.append(accuracy_score(valid['CATEGORY'],YValidPred))\n",
    "  accuracy_test.append(accuracy_score(test['CATEGORY'],YTestPred))"
   ]
  },
  {
   "cell_type": "code",
   "execution_count": 26,
   "metadata": {},
   "outputs": [
    {
     "name": "stdout",
     "output_type": "stream",
     "text": [
      "Train: \n",
      "['0.4212', '0.4212', '0.4505', '0.7522', '0.7941', '0.9349', '0.9884', '0.9987', '0.9993', '0.9993']\n",
      "\n",
      "Valid: \n",
      "['0.4079', '0.4079', '0.4364', '0.7395', '0.7777', '0.8900', '0.9064', '0.9094', '0.8922', '0.8937']\n",
      "\n",
      "Test: \n",
      "['0.4356', '0.4356', '0.4633', '0.7814', '0.8016', '0.9079', '0.9169', '0.9072', '0.9004', '0.8960']\n"
     ]
    }
   ],
   "source": [
    "print(\"Train: \")\n",
    "print([\"{:.4f}\".format(x) for x in accuracy_train])\n",
    "print()\n",
    "print(\"Valid: \")\n",
    "print([\"{:.4f}\".format(x) for x in accuracy_valid])\n",
    "print()\n",
    "print(\"Test: \")\n",
    "print([\"{:.4f}\".format(x) for x in accuracy_test])"
   ]
  },
  {
   "cell_type": "code",
   "execution_count": 27,
   "metadata": {},
   "outputs": [
    {
     "data": {
      "image/png": "[encoded data removed]",
      "text/plain": [
       "<Figure size 432x288 with 1 Axes>"
      ]
     },
     "metadata": {
      "needs_background": "light"
     },
     "output_type": "display_data"
    }
   ],
   "source": [
    "# regularize = [1/(10**c) for c in range(-5,5)]\n",
    "c = range(-5, 5)\n",
    "plt.plot(c, accuracy_train, label = \"Train\")\n",
    "plt.plot(c, accuracy_valid, label = \"Valid\")\n",
    "plt.plot(c, accuracy_test, label = \"Test\")\n",
    "plt.legend()\n",
    "plt.xlabel(\"Regularization (C = 1/lambda)\")\n",
    "plt.ylabel(\"Accuracy Score\")\n",
    "plt.show()"
   ]
  },
  {
   "cell_type": "markdown",
   "metadata": {},
   "source": [
    "## 59. ハイパーパラメータの探索"
   ]
  },
  {
   "cell_type": "markdown",
   "metadata": {},
   "source": [
    "学習アルゴリズムや学習パラメータを変えながら，カテゴリ分類モデルを学習せよ．検証データ上の正解率が最も高くなる学習アルゴリズム・パラメータを求めよ．また，その学習アルゴリズム・パラメータを用いたときの評価データ上の正解率を求めよ．"
   ]
  },
  {
   "cell_type": "code",
   "execution_count": 32,
   "metadata": {},
   "outputs": [
    {
     "data": {
      "text/html": [
       "<div>\n",
       "<style scoped>\n",
       "    .dataframe tbody tr th:only-of-type {\n",
       "        vertical-align: middle;\n",
       "    }\n",
       "\n",
       "    .dataframe tbody tr th {\n",
       "        vertical-align: top;\n",
       "    }\n",
       "\n",
       "    .dataframe thead th {\n",
       "        text-align: right;\n",
       "    }\n",
       "</style>\n",
       "<table border=\"1\" class=\"dataframe\">\n",
       "  <thead>\n",
       "    <tr style=\"text-align: right;\">\n",
       "      <th></th>\n",
       "      <th>model</th>\n",
       "      <th>best_score</th>\n",
       "      <th>best_params</th>\n",
       "    </tr>\n",
       "  </thead>\n",
       "  <tbody>\n",
       "    <tr>\n",
       "      <th>0</th>\n",
       "      <td>random_forest</td>\n",
       "      <td>0.805316</td>\n",
       "      <td>{'n_estimators': 100}</td>\n",
       "    </tr>\n",
       "    <tr>\n",
       "      <th>1</th>\n",
       "      <td>logistic regression</td>\n",
       "      <td>0.899007</td>\n",
       "      <td>{'C': 10}</td>\n",
       "    </tr>\n",
       "  </tbody>\n",
       "</table>\n",
       "</div>"
      ],
      "text/plain": [
       "                 model  best_score            best_params\n",
       "0        random_forest    0.805316  {'n_estimators': 100}\n",
       "1  logistic regression    0.899007              {'C': 10}"
      ]
     },
     "execution_count": 32,
     "metadata": {},
     "output_type": "execute_result"
    }
   ],
   "source": [
    "param_grid = {\n",
    "#   'svm':{\n",
    "#     'model':svm.SVC(gamma='auto'),\n",
    "#     'params':{\n",
    "#       'C':[10**c for c in range(-5,5)],\n",
    "#       'kernel':['rbf','linear']\n",
    "#     }\n",
    "#   },\n",
    "  'random_forest':{\n",
    "    'model': RandomForestClassifier(),\n",
    "    'params':{\n",
    "      'n_estimators':list(range(10,101,10))\n",
    "    }\n",
    "  },\n",
    "  'logistic regression':{\n",
    "    'model':LogisticRegression(solver='liblinear',multi_class='auto'),\n",
    "    'params':{\n",
    "      'C':[10**c for c in range(-5,5)]\n",
    "    }\n",
    "  }\n",
    "}\n",
    "\n",
    "scores = []\n",
    "\n",
    "for model, param in param_grid.items():\n",
    "  clf = GridSearchCV(param['model'], \n",
    "                           param['params'], \n",
    "                           cv=5, \n",
    "                           return_train_score=False)\n",
    "  clf.fit(train_extracted, train.CATEGORY)\n",
    "  scores.append({\n",
    "    'model': model,\n",
    "    'best_score': clf.best_score_,\n",
    "    'best_params': clf.best_params_\n",
    "  })\n",
    "  \n",
    "pd.DataFrame(scores, columns=['model','best_score','best_params'])"
   ]
  },
  {
   "cell_type": "code",
   "execution_count": 38,
   "metadata": {},
   "outputs": [
    {
     "data": {
      "text/plain": [
       "0.9169161676646707"
      ]
     },
     "execution_count": 38,
     "metadata": {},
     "output_type": "execute_result"
    }
   ],
   "source": [
    "model = LogisticRegression(solver='liblinear',multi_class='auto',C = 10)\n",
    "model.fit(train_extracted,train['CATEGORY'])\n",
    "YTestPred = model.predict(test_extracted)\n",
    "accuracy_score(test['CATEGORY'], YTestPred)"
   ]
  }
 ],
 "metadata": {
  "kernelspec": {
   "display_name": "Python 3",
   "language": "python",
   "name": "python3"
  },
  "language_info": {
   "codemirror_mode": {
    "name": "ipython",
    "version": 3
   },
   "file_extension": ".py",
   "mimetype": "text/x-python",
   "name": "python",
   "nbconvert_exporter": "python",
   "pygments_lexer": "ipython3",
   "version": "3.9.4"
  }
 },
 "nbformat": 4,
 "nbformat_minor": 4
}
